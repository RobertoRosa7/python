{
 "cells": [
  {
   "cell_type": "code",
   "execution_count": 1,
   "metadata": {
    "pycharm": {
     "name": "#%%\n"
    }
   },
   "outputs": [],
   "source": [
    "import pandas as pd\n",
    "import bs4\n",
    "import urllib.request as request\n",
    "from IPython.display import display, HTML\n",
    "from urllib.request import urlopen, Request, urlretrieve\n",
    "from urllib.error import URLError, HTTPError\n",
    "from bs4 import BeautifulSoup\n"
   ]
  },
  {
   "cell_type": "code",
   "execution_count": 2,
   "metadata": {
    "pycharm": {
     "name": "#%%\n"
    }
   },
   "outputs": [
    {
     "name": "stdout",
     "output_type": "stream",
     "text": [
      "BeautifulSoup => 4.11.1\n",
      "urlib => 3.8\n",
      "pandas => 1.4.2\n"
     ]
    }
   ],
   "source": [
    "print(f'BeautifulSoup => {bs4.__version__}')\n",
    "print(f'urlib => {request.__version__}')\n",
    "print(f'pandas => {pd.__version__}')"
   ]
  },
  {
   "cell_type": "code",
   "execution_count": 3,
   "metadata": {
    "pycharm": {
     "name": "#%%\n"
    }
   },
   "outputs": [],
   "source": [
    "URL = 'https://alura-site-scraping.herokuapp.com/hello-world.php'"
   ]
  },
  {
   "cell_type": "code",
   "execution_count": 4,
   "metadata": {
    "pycharm": {
     "name": "#%%\n"
    }
   },
   "outputs": [
    {
     "data": {
      "text/plain": [
       "bytes"
      ]
     },
     "execution_count": 4,
     "metadata": {},
     "output_type": "execute_result"
    }
   ],
   "source": [
    "response = urlopen(URL)\n",
    "html = response.read()\n",
    "type(html)"
   ]
  },
  {
   "cell_type": "code",
   "execution_count": 5,
   "metadata": {
    "pycharm": {
     "name": "#%%\n"
    }
   },
   "outputs": [
    {
     "data": {
      "text/plain": [
       "str"
      ]
     },
     "execution_count": 5,
     "metadata": {},
     "output_type": "execute_result"
    }
   ],
   "source": [
    "html = html.decode('utf-8')\n",
    "type(html)"
   ]
  },
  {
   "cell_type": "code",
   "execution_count": 6,
   "metadata": {
    "pycharm": {
     "name": "#%%\n"
    }
   },
   "outputs": [],
   "source": [
    "def trata_html(input):\n",
    "  return \" \".join(input.split()).replace('> <', '><')"
   ]
  },
  {
   "cell_type": "code",
   "execution_count": 7,
   "metadata": {
    "pycharm": {
     "name": "#%%\n"
    }
   },
   "outputs": [],
   "source": [
    "html = trata_html(html)"
   ]
  },
  {
   "cell_type": "code",
   "execution_count": 8,
   "metadata": {
    "pycharm": {
     "name": "#%%\n"
    }
   },
   "outputs": [],
   "source": [
    "URL = 'https://alura-site-scraping.herokuapp.com/index.php'\n",
    "response = urlopen(URL)\n",
    "html = response.read()\n",
    "soup = BeautifulSoup(html, 'html.parser')"
   ]
  },
  {
   "cell_type": "code",
   "execution_count": 9,
   "metadata": {
    "pycharm": {
     "name": "#%%\n"
    }
   },
   "outputs": [
    {
     "data": {
      "text/plain": [
       "'Alura Motors'"
      ]
     },
     "execution_count": 9,
     "metadata": {},
     "output_type": "execute_result"
    }
   ],
   "source": [
    "soup.title.get_text()"
   ]
  },
  {
   "cell_type": "code",
   "execution_count": 10,
   "metadata": {
    "pycharm": {
     "name": "#%%\n"
    }
   },
   "outputs": [
    {
     "data": {
      "text/plain": [
       "<div aria-labelledby=\"loadingModal_label\" class=\"modal fade\" data-backdrop=\"static\" id=\"loadingModal\" role=\"dialog\" tabindex=\"-1\">\n",
       "<div class=\"modal-dialog\" role=\"document\">\n",
       "<div class=\"modal-content\">\n",
       "<div class=\"modal-header\">\n",
       "<h5 class=\"modal-title\" id=\"loadingModal_label\">\n",
       "<span class=\"glyphicon glyphicon-refresh\"></span>Aguarde...\n",
       "\t\t\t\t\t</h5>\n",
       "</div>\n",
       "<div class=\"modal-body\">\n",
       "<div class=\"alert\" role=\"alert\">\n",
       "<center>\n",
       "<div class=\"loader\" id=\"loader\"></div><br/>\n",
       "<h4><b id=\"loadingModal_content\"></b></h4>\n",
       "</center>\n",
       "</div>\n",
       "</div>\n",
       "</div>\n",
       "</div>\n",
       "</div>"
      ]
     },
     "execution_count": 10,
     "metadata": {},
     "output_type": "execute_result"
    }
   ],
   "source": [
    "soup.div"
   ]
  },
  {
   "cell_type": "code",
   "execution_count": 11,
   "metadata": {
    "pycharm": {
     "name": "#%%\n"
    }
   },
   "outputs": [
    {
     "data": {
      "text/plain": [
       "'Alura Motors'"
      ]
     },
     "execution_count": 11,
     "metadata": {},
     "output_type": "execute_result"
    }
   ],
   "source": [
    "soup.find('title').get_text()"
   ]
  },
  {
   "cell_type": "code",
   "execution_count": 12,
   "metadata": {
    "pycharm": {
     "name": "#%%\n"
    }
   },
   "outputs": [
    {
     "data": {
      "text/plain": [
       "'\\nAguarde...\\r\\n\\t\\t\\t\\t\\t'"
      ]
     },
     "execution_count": 12,
     "metadata": {},
     "output_type": "execute_result"
    }
   ],
   "source": [
    "soup.h5.getText()"
   ]
  },
  {
   "cell_type": "code",
   "execution_count": 13,
   "metadata": {
    "pycharm": {
     "name": "#%%\n"
    }
   },
   "outputs": [
    {
     "data": {
      "text/plain": [
       "<img alt=\"Alura\" class=\"d-inline-block align-top\" src=\"img/alura-logo.svg\"/>"
      ]
     },
     "execution_count": 13,
     "metadata": {},
     "output_type": "execute_result"
    }
   ],
   "source": [
    "soup.img"
   ]
  },
  {
   "cell_type": "code",
   "execution_count": 14,
   "metadata": {
    "pycharm": {
     "name": "#%%\n"
    }
   },
   "outputs": [
    {
     "data": {
      "text/plain": [
       "{'src': 'img/alura-logo.svg',\n",
       " 'class': ['d-inline-block', 'align-top'],\n",
       " 'alt': 'Alura'}"
      ]
     },
     "execution_count": 14,
     "metadata": {},
     "output_type": "execute_result"
    }
   ],
   "source": [
    "soup.img.attrs"
   ]
  },
  {
   "cell_type": "code",
   "execution_count": 15,
   "metadata": {
    "pycharm": {
     "name": "#%%\n"
    }
   },
   "outputs": [
    {
     "data": {
      "text/plain": [
       "dict_keys(['src', 'class', 'alt'])"
      ]
     },
     "execution_count": 15,
     "metadata": {},
     "output_type": "execute_result"
    }
   ],
   "source": [
    "soup.img.attrs.keys()"
   ]
  },
  {
   "cell_type": "code",
   "execution_count": 16,
   "metadata": {
    "pycharm": {
     "name": "#%%\n"
    }
   },
   "outputs": [
    {
     "data": {
      "text/plain": [
       "dict_values(['img/alura-logo.svg', ['d-inline-block', 'align-top'], 'Alura'])"
      ]
     },
     "execution_count": 16,
     "metadata": {},
     "output_type": "execute_result"
    }
   ],
   "source": [
    "soup.img.attrs.values()"
   ]
  },
  {
   "cell_type": "code",
   "execution_count": 17,
   "metadata": {
    "pycharm": {
     "name": "#%%\n"
    }
   },
   "outputs": [
    {
     "data": {
      "text/plain": [
       "['d-inline-block', 'align-top']"
      ]
     },
     "execution_count": 17,
     "metadata": {},
     "output_type": "execute_result"
    }
   ],
   "source": [
    "soup.img['class']"
   ]
  },
  {
   "cell_type": "code",
   "execution_count": 18,
   "metadata": {
    "pycharm": {
     "name": "#%%\n"
    }
   },
   "outputs": [
    {
     "data": {
      "text/plain": [
       "'img/alura-logo.svg'"
      ]
     },
     "execution_count": 18,
     "metadata": {},
     "output_type": "execute_result"
    }
   ],
   "source": [
    "soup.img['src']"
   ]
  },
  {
   "cell_type": "code",
   "execution_count": 19,
   "metadata": {
    "pycharm": {
     "name": "#%%\n"
    }
   },
   "outputs": [
    {
     "data": {
      "text/plain": [
       "'img/alura-logo.svg'"
      ]
     },
     "execution_count": 19,
     "metadata": {},
     "output_type": "execute_result"
    }
   ],
   "source": [
    "soup.img.get('src')"
   ]
  },
  {
   "cell_type": "code",
   "execution_count": 20,
   "metadata": {
    "pycharm": {
     "name": "#%%\n"
    }
   },
   "outputs": [
    {
     "data": {
      "text/plain": [
       "<img alt=\"Alura\" class=\"d-inline-block align-top\" src=\"img/alura-logo.svg\"/>"
      ]
     },
     "execution_count": 20,
     "metadata": {},
     "output_type": "execute_result"
    }
   ],
   "source": [
    "soup.find('img')"
   ]
  },
  {
   "cell_type": "code",
   "execution_count": 21,
   "metadata": {
    "pycharm": {
     "name": "#%%\n"
    }
   },
   "outputs": [
    {
     "data": {
      "text/plain": [
       "[<img alt=\"Alura\" class=\"d-inline-block align-top\" src=\"img/alura-logo.svg\"/>,\n",
       " <img alt=\"Foto\" height=\"155\" src=\"https://caelum-online-public.s3.amazonaws.com/1381-scraping/01/img-cars/lamborghini-aventador/lamborghini-aventador-2932196__340.jpg\" width=\"220\"/>,\n",
       " <img alt=\"Foto\" height=\"155\" src=\"https://caelum-online-public.s3.amazonaws.com/1381-scraping/01/img-cars/bmw-m2/bmw-m2-2970882__340.jpg\" width=\"220\"/>]"
      ]
     },
     "execution_count": 21,
     "metadata": {},
     "output_type": "execute_result"
    }
   ],
   "source": [
    "soup.find_all('img', limit=3)"
   ]
  },
  {
   "cell_type": "code",
   "execution_count": 22,
   "metadata": {
    "pycharm": {
     "name": "#%%\n"
    }
   },
   "outputs": [
    {
     "data": {
      "text/plain": [
       "[<img alt=\"Alura\" class=\"d-inline-block align-top\" src=\"img/alura-logo.svg\"/>,\n",
       " <img alt=\"Foto\" height=\"155\" src=\"https://caelum-online-public.s3.amazonaws.com/1381-scraping/01/img-cars/lamborghini-aventador/lamborghini-aventador-2932196__340.jpg\" width=\"220\"/>]"
      ]
     },
     "execution_count": 22,
     "metadata": {},
     "output_type": "execute_result"
    }
   ],
   "source": [
    "soup.find_all('img', limit=2)"
   ]
  },
  {
   "cell_type": "code",
   "execution_count": 23,
   "metadata": {
    "pycharm": {
     "name": "#%%\n"
    }
   },
   "outputs": [
    {
     "data": {
      "text/plain": [
       "[<img alt=\"Alura\" class=\"d-inline-block align-top\" src=\"img/alura-logo.svg\"/>,\n",
       " <img alt=\"Foto\" height=\"155\" src=\"https://caelum-online-public.s3.amazonaws.com/1381-scraping/01/img-cars/lamborghini-aventador/lamborghini-aventador-2932196__340.jpg\" width=\"220\"/>,\n",
       " <img alt=\"Foto\" height=\"155\" src=\"https://caelum-online-public.s3.amazonaws.com/1381-scraping/01/img-cars/bmw-m2/bmw-m2-2970882__340.jpg\" width=\"220\"/>]"
      ]
     },
     "execution_count": 23,
     "metadata": {},
     "output_type": "execute_result"
    }
   ],
   "source": [
    "soup('img', limit=3)"
   ]
  },
  {
   "cell_type": "code",
   "execution_count": 24,
   "metadata": {
    "pycharm": {
     "name": "#%%\n"
    }
   },
   "outputs": [
    {
     "data": {
      "text/plain": [
       "[<h5 class=\"modal-title\" id=\"loadingModal_label\">\n",
       " <span class=\"glyphicon glyphicon-refresh\"></span>Aguarde...\n",
       " \t\t\t\t\t</h5>,\n",
       " <h4><b id=\"loadingModal_content\"></b></h4>,\n",
       " <h1 class=\"sub-header\">Veículos de Luxo Novos e Usados - Todas as Marcas</h1>]"
      ]
     },
     "execution_count": 24,
     "metadata": {},
     "output_type": "execute_result"
    }
   ],
   "source": [
    "soup.find_all(['h1','h2','h3','h4','h5','h6'])"
   ]
  },
  {
   "cell_type": "code",
   "execution_count": 25,
   "metadata": {
    "pycharm": {
     "name": "#%%\n"
    }
   },
   "outputs": [
    {
     "data": {
      "text/plain": [
       "[<p class=\"txt-name inline\">LAMBORGHINI AVENTADOR</p>,\n",
       " <p class=\"txt-category badge badge-secondary inline\">USADO</p>,\n",
       " <p class=\"txt-motor\">Motor 1.8 16v</p>]"
      ]
     },
     "execution_count": 25,
     "metadata": {},
     "output_type": "execute_result"
    }
   ],
   "source": [
    "soup.findAll('p', limit=3)"
   ]
  },
  {
   "cell_type": "code",
   "execution_count": 26,
   "metadata": {
    "pycharm": {
     "name": "#%%\n"
    }
   },
   "outputs": [
    {
     "data": {
      "text/plain": [
       "[<p class=\"txt-value\">R$ 338.000</p>,\n",
       " <p class=\"txt-value\">R$ 346.000</p>,\n",
       " <p class=\"txt-value\">R$ 480.000</p>]"
      ]
     },
     "execution_count": 26,
     "metadata": {},
     "output_type": "execute_result"
    }
   ],
   "source": [
    "soup.findAll('p', {'class': 'txt-value'}, limit=3)"
   ]
  },
  {
   "cell_type": "code",
   "execution_count": 27,
   "metadata": {
    "pycharm": {
     "name": "#%%\n"
    }
   },
   "outputs": [
    {
     "data": {
      "text/plain": [
       "[<p class=\"txt-location\">Belo Horizonte - MG</p>,\n",
       " <p class=\"txt-location\">Belo Horizonte - MG</p>,\n",
       " <p class=\"txt-location\">Belo Horizonte - MG</p>]"
      ]
     },
     "execution_count": 27,
     "metadata": {},
     "output_type": "execute_result"
    }
   ],
   "source": [
    "soup.findAll('p', text = 'Belo Horizonte - MG', limit=3)\n"
   ]
  },
  {
   "cell_type": "code",
   "execution_count": 28,
   "metadata": {
    "pycharm": {
     "name": "#%%\n"
    }
   },
   "outputs": [
    {
     "data": {
      "text/plain": [
       "[<img alt=\"Foto\" height=\"155\" src=\"https://caelum-online-public.s3.amazonaws.com/1381-scraping/01/img-cars/lamborghini-aventador/lamborghini-aventador-2932196__340.jpg\" width=\"220\"/>,\n",
       " <img alt=\"Foto\" height=\"155\" src=\"https://caelum-online-public.s3.amazonaws.com/1381-scraping/01/img-cars/bmw-m2/bmw-m2-2970882__340.jpg\" width=\"220\"/>,\n",
       " <img alt=\"Foto\" height=\"155\" src=\"https://caelum-online-public.s3.amazonaws.com/1381-scraping/01/img-cars/alfa/alfa-1823056__340.jpg\" width=\"220\"/>]"
      ]
     },
     "execution_count": 28,
     "metadata": {},
     "output_type": "execute_result"
    }
   ],
   "source": [
    "soup.find_all('img', alt = 'Foto', limit=3)"
   ]
  },
  {
   "cell_type": "code",
   "execution_count": 29,
   "metadata": {
    "pycharm": {
     "name": "#%%\n"
    }
   },
   "outputs": [
    {
     "data": {
      "text/plain": [
       "[<p class=\"txt-value\">R$ 338.000</p>,\n",
       " <p class=\"txt-value\">R$ 346.000</p>,\n",
       " <p class=\"txt-value\">R$ 480.000</p>]"
      ]
     },
     "execution_count": 29,
     "metadata": {},
     "output_type": "execute_result"
    }
   ],
   "source": [
    "soup.find_all('p', class_=\"txt-value\", limit=3)"
   ]
  },
  {
   "cell_type": "code",
   "execution_count": 30,
   "metadata": {
    "pycharm": {
     "name": "#%%\n"
    }
   },
   "outputs": [
    {
     "data": {
      "text/plain": [
       "['html', '\\n', '\\n']"
      ]
     },
     "execution_count": 30,
     "metadata": {},
     "output_type": "execute_result"
    }
   ],
   "source": [
    "soup.find_all(text=True, limit=3)"
   ]
  },
  {
   "cell_type": "code",
   "execution_count": 31,
   "metadata": {
    "pycharm": {
     "name": "#%%\n"
    }
   },
   "outputs": [],
   "source": [
    "response = urlopen('https://alura-site-scraping.herokuapp.com/index.php')\n",
    "html = response.read().decode('utf-8')\n",
    "soup = BeautifulSoup(html, 'html.parser')"
   ]
  },
  {
   "cell_type": "code",
   "execution_count": 32,
   "metadata": {
    "pycharm": {
     "name": "#%%\n"
    }
   },
   "outputs": [],
   "source": [
    "cards = []\n",
    "card = {}"
   ]
  },
  {
   "cell_type": "code",
   "execution_count": 33,
   "metadata": {
    "pycharm": {
     "name": "#%%\n"
    }
   },
   "outputs": [
    {
     "data": {
      "text/plain": [
       "<div class=\"well card\">\n",
       "<div class=\"col-md-3 image-card\">\n",
       "<img alt=\"Foto\" height=\"155\" src=\"https://caelum-online-public.s3.amazonaws.com/1381-scraping/01/img-cars/lamborghini-aventador/lamborghini-aventador-2932196__340.jpg\" width=\"220\"/>\n",
       "</div>\n",
       "<div class=\"col-md-6 body-card\">\n",
       "<p class=\"txt-name inline\">LAMBORGHINI AVENTADOR</p>\n",
       "<p class=\"txt-category badge badge-secondary inline\">USADO</p>\n",
       "<p class=\"txt-motor\">Motor 1.8 16v</p>\n",
       "<p class=\"txt-description\">Ano 1993 - 55.286 km</p>\n",
       "<ul class=\"lst-items\">\n",
       "<li class=\"txt-items\">► 4 X 4</li>\n",
       "<li class=\"txt-items\">► Câmera de estacionamento</li>\n",
       "<li class=\"txt-items\">► Controle de tração</li>\n",
       "<li class=\"txt-items\">► Sensor de estacionamento</li>\n",
       "<li class=\"txt-items\">...</li>\n",
       "</ul>\n",
       "<p class=\"txt-location\">Belo Horizonte - MG</p>\n",
       "</div>\n",
       "<div class=\"col-md-3 value-card\">\n",
       "<div class=\"value\">\n",
       "<p class=\"txt-value\">R$ 338.000</p>\n",
       "</div>\n",
       "</div>\n",
       "</div>"
      ]
     },
     "execution_count": 33,
     "metadata": {},
     "output_type": "execute_result"
    }
   ],
   "source": [
    "anuncio = soup.find('div', {'class': 'well card'})\n",
    "anuncio"
   ]
  },
  {
   "cell_type": "code",
   "execution_count": 34,
   "metadata": {
    "pycharm": {
     "name": "#%%\n"
    }
   },
   "outputs": [
    {
     "data": {
      "text/plain": [
       "<div class=\"col-md-3 value-card\">\n",
       "<div class=\"value\">\n",
       "<p class=\"txt-value\">R$ 338.000</p>\n",
       "</div>\n",
       "</div>"
      ]
     },
     "execution_count": 34,
     "metadata": {},
     "output_type": "execute_result"
    }
   ],
   "source": [
    "anuncio.find('div', {'class': 'value-card'})"
   ]
  },
  {
   "cell_type": "code",
   "execution_count": 35,
   "metadata": {
    "pycharm": {
     "name": "#%%\n"
    }
   },
   "outputs": [
    {
     "data": {
      "text/plain": [
       "{'value': 'R$ 338.000'}"
      ]
     },
     "execution_count": 35,
     "metadata": {},
     "output_type": "execute_result"
    }
   ],
   "source": [
    "card['value'] = anuncio.find('p', {'class': 'txt-value'}).get_text()\n",
    "card"
   ]
  },
  {
   "cell_type": "code",
   "execution_count": 36,
   "metadata": {
    "pycharm": {
     "name": "#%%\n"
    }
   },
   "outputs": [
    {
     "data": {
      "text/plain": [
       "[<p class=\"txt-name inline\">LAMBORGHINI AVENTADOR</p>,\n",
       " <p class=\"txt-category badge badge-secondary inline\">USADO</p>,\n",
       " <p class=\"txt-motor\">Motor 1.8 16v</p>,\n",
       " <p class=\"txt-description\">Ano 1993 - 55.286 km</p>,\n",
       " <p class=\"txt-location\">Belo Horizonte - MG</p>]"
      ]
     },
     "execution_count": 36,
     "metadata": {},
     "output_type": "execute_result"
    }
   ],
   "source": [
    "anuncio.find('div', {'class': 'col-md-6 body-card'}).find_all('p')"
   ]
  },
  {
   "cell_type": "code",
   "execution_count": 37,
   "metadata": {
    "pycharm": {
     "name": "#%%\n"
    }
   },
   "outputs": [
    {
     "data": {
      "text/plain": [
       "{'value': 'R$ 338.000',\n",
       " 'name': 'LAMBORGHINI AVENTADOR',\n",
       " 'category': 'USADO',\n",
       " 'motor': 'Motor 1.8 16v',\n",
       " 'description': 'Ano 1993 - 55.286 km',\n",
       " 'location': 'Belo Horizonte - MG'}"
      ]
     },
     "execution_count": 37,
     "metadata": {},
     "output_type": "execute_result"
    }
   ],
   "source": [
    "infos = anuncio.find('div', {'class': 'col-md-6 body-card'}).find_all('p')\n",
    "\n",
    "for info in infos:\n",
    "  card[info.get('class')[0].split('-')[-1]] = info.getText()\n",
    "card"
   ]
  },
  {
   "cell_type": "code",
   "execution_count": 38,
   "metadata": {
    "pycharm": {
     "name": "#%%\n"
    }
   },
   "outputs": [
    {
     "data": {
      "text/plain": [
       "[<li class=\"txt-items\">► 4 X 4</li>,\n",
       " <li class=\"txt-items\">► Câmera de estacionamento</li>,\n",
       " <li class=\"txt-items\">► Controle de tração</li>,\n",
       " <li class=\"txt-items\">► Sensor de estacionamento</li>,\n",
       " <li class=\"txt-items\">...</li>]"
      ]
     },
     "execution_count": 38,
     "metadata": {},
     "output_type": "execute_result"
    }
   ],
   "source": [
    "anuncio.find('div', {'class': 'col-md-6 body-card'}).ul.find_all('li')"
   ]
  },
  {
   "cell_type": "code",
   "execution_count": 39,
   "metadata": {
    "pycharm": {
     "name": "#%%\n"
    }
   },
   "outputs": [
    {
     "data": {
      "text/plain": [
       "[' 4 X 4',\n",
       " ' Câmera de estacionamento',\n",
       " ' Controle de tração',\n",
       " ' Sensor de estacionamento']"
      ]
     },
     "execution_count": 39,
     "metadata": {},
     "output_type": "execute_result"
    }
   ],
   "source": [
    "items = anuncio.find('div', {'class': 'col-md-6 body-card'}).ul.find_all('li')\n",
    "items.pop()\n",
    "acessorios = []\n",
    "for item in items:\n",
    "  acessorios.append(item.get_text().replace('►', ''))\n",
    "acessorios"
   ]
  },
  {
   "cell_type": "code",
   "execution_count": 40,
   "metadata": {
    "pycharm": {
     "name": "#%%\n"
    }
   },
   "outputs": [
    {
     "data": {
      "text/plain": [
       "{'value': 'R$ 338.000',\n",
       " 'name': 'LAMBORGHINI AVENTADOR',\n",
       " 'category': 'USADO',\n",
       " 'motor': 'Motor 1.8 16v',\n",
       " 'description': 'Ano 1993 - 55.286 km',\n",
       " 'location': 'Belo Horizonte - MG',\n",
       " 'items': [' 4 X 4',\n",
       "  ' Câmera de estacionamento',\n",
       "  ' Controle de tração',\n",
       "  ' Sensor de estacionamento']}"
      ]
     },
     "execution_count": 40,
     "metadata": {},
     "output_type": "execute_result"
    }
   ],
   "source": [
    "card['items'] = acessorios\n",
    "card"
   ]
  },
  {
   "cell_type": "code",
   "execution_count": 41,
   "metadata": {
    "pycharm": {
     "name": "#%%\n"
    }
   },
   "outputs": [
    {
     "data": {
      "text/plain": [
       "'https://caelum-online-public.s3.amazonaws.com/1381-scraping/01/img-cars/lamborghini-aventador/lamborghini-aventador-2932196__340.jpg'"
      ]
     },
     "execution_count": 41,
     "metadata": {},
     "output_type": "execute_result"
    }
   ],
   "source": [
    "image = anuncio.find('div', {'class': 'image-card'}).img\n",
    "image.get('src')"
   ]
  },
  {
   "cell_type": "code",
   "execution_count": 42,
   "metadata": {
    "pycharm": {
     "name": "#%%\n"
    }
   },
   "outputs": [
    {
     "data": {
      "text/html": [
       "<img alt=\"Foto\" height=\"155\" src=\"https://caelum-online-public.s3.amazonaws.com/1381-scraping/01/img-cars/lamborghini-aventador/lamborghini-aventador-2932196__340.jpg\" width=\"220\"/>"
      ],
      "text/plain": [
       "<IPython.core.display.HTML object>"
      ]
     },
     "metadata": {},
     "output_type": "display_data"
    }
   ],
   "source": [
    "display(HTML(str(anuncio.find('div', {'class': 'image-card'}).img)))"
   ]
  },
  {
   "cell_type": "code",
   "execution_count": 43,
   "metadata": {
    "pycharm": {
     "name": "#%%\n"
    }
   },
   "outputs": [
    {
     "data": {
      "text/html": [
       "<img src='https://caelum-online-public.s3.amazonaws.com/1381-scraping/01/img-cars/lamborghini-aventador/lamborghini-aventador-2932196__340.jpg' />"
      ],
      "text/plain": [
       "<IPython.core.display.HTML object>"
      ]
     },
     "metadata": {},
     "output_type": "display_data"
    }
   ],
   "source": [
    "display(HTML(\"<img src='{}' />\".format(anuncio.find('div', {'class': 'image-card'}).img.get('src'))))"
   ]
  },
  {
   "cell_type": "code",
   "execution_count": 44,
   "metadata": {
    "pycharm": {
     "name": "#%%\n"
    }
   },
   "outputs": [
    {
     "data": {
      "text/html": [
       "<img src='https://caelum-online-public.s3.amazonaws.com/1381-scraping/01/img-cars/lamborghini-aventador/lamborghini-aventador-2932196__340.jpg' />"
      ],
      "text/plain": [
       "<IPython.core.display.HTML object>"
      ]
     },
     "metadata": {},
     "output_type": "display_data"
    }
   ],
   "source": [
    "display(HTML(f\"<img src='{anuncio.find('div', {'class': 'image-card'}).img.get('src')}' />\"))"
   ]
  },
  {
   "cell_type": "code",
   "execution_count": 45,
   "metadata": {
    "pycharm": {
     "name": "#%%\n"
    }
   },
   "outputs": [
    {
     "data": {
      "text/plain": [
       "('../data/images/lamborghini-aventador-2932196__340.jpg',\n",
       " <http.client.HTTPMessage at 0x1b44792f490>)"
      ]
     },
     "execution_count": 45,
     "metadata": {},
     "output_type": "execute_result"
    }
   ],
   "source": [
    "image_name = image.get('src').split('/')[-1]\n",
    "urlretrieve(image.get('src'), f'../data/images/{image_name}')"
   ]
  },
  {
   "cell_type": "code",
   "execution_count": 59,
   "metadata": {
    "pycharm": {
     "name": "#%%\n"
    }
   },
   "outputs": [],
   "source": [
    "anuncios = soup.find('div', {'id':'container-cards'}).find_all('div', class_=\"well card\")"
   ]
  },
  {
   "cell_type": "code",
   "execution_count": 46,
   "metadata": {
    "pycharm": {
     "name": "#%%\n"
    }
   },
   "outputs": [
    {
     "data": {
      "text/html": [
       "<div>\n",
       "<style scoped>\n",
       "    .dataframe tbody tr th:only-of-type {\n",
       "        vertical-align: middle;\n",
       "    }\n",
       "\n",
       "    .dataframe tbody tr th {\n",
       "        vertical-align: top;\n",
       "    }\n",
       "\n",
       "    .dataframe thead th {\n",
       "        text-align: right;\n",
       "    }\n",
       "</style>\n",
       "<table border=\"1\" class=\"dataframe\">\n",
       "  <thead>\n",
       "    <tr style=\"text-align: right;\">\n",
       "      <th></th>\n",
       "      <th>value</th>\n",
       "      <th>name</th>\n",
       "      <th>category</th>\n",
       "      <th>motor</th>\n",
       "      <th>description</th>\n",
       "      <th>location</th>\n",
       "      <th>items</th>\n",
       "    </tr>\n",
       "  </thead>\n",
       "  <tbody>\n",
       "    <tr>\n",
       "      <th>0</th>\n",
       "      <td>R$ 338.000</td>\n",
       "      <td>LAMBORGHINI AVENTADOR</td>\n",
       "      <td>USADO</td>\n",
       "      <td>Motor 1.8 16v</td>\n",
       "      <td>Ano 1993 - 55.286 km</td>\n",
       "      <td>Belo Horizonte - MG</td>\n",
       "      <td>4 X 4</td>\n",
       "    </tr>\n",
       "    <tr>\n",
       "      <th>1</th>\n",
       "      <td>R$ 338.000</td>\n",
       "      <td>LAMBORGHINI AVENTADOR</td>\n",
       "      <td>USADO</td>\n",
       "      <td>Motor 1.8 16v</td>\n",
       "      <td>Ano 1993 - 55.286 km</td>\n",
       "      <td>Belo Horizonte - MG</td>\n",
       "      <td>Câmera de estacionamento</td>\n",
       "    </tr>\n",
       "    <tr>\n",
       "      <th>2</th>\n",
       "      <td>R$ 338.000</td>\n",
       "      <td>LAMBORGHINI AVENTADOR</td>\n",
       "      <td>USADO</td>\n",
       "      <td>Motor 1.8 16v</td>\n",
       "      <td>Ano 1993 - 55.286 km</td>\n",
       "      <td>Belo Horizonte - MG</td>\n",
       "      <td>Controle de tração</td>\n",
       "    </tr>\n",
       "    <tr>\n",
       "      <th>3</th>\n",
       "      <td>R$ 338.000</td>\n",
       "      <td>LAMBORGHINI AVENTADOR</td>\n",
       "      <td>USADO</td>\n",
       "      <td>Motor 1.8 16v</td>\n",
       "      <td>Ano 1993 - 55.286 km</td>\n",
       "      <td>Belo Horizonte - MG</td>\n",
       "      <td>Sensor de estacionamento</td>\n",
       "    </tr>\n",
       "  </tbody>\n",
       "</table>\n",
       "</div>"
      ],
      "text/plain": [
       "        value                   name category          motor  \\\n",
       "0  R$ 338.000  LAMBORGHINI AVENTADOR    USADO  Motor 1.8 16v   \n",
       "1  R$ 338.000  LAMBORGHINI AVENTADOR    USADO  Motor 1.8 16v   \n",
       "2  R$ 338.000  LAMBORGHINI AVENTADOR    USADO  Motor 1.8 16v   \n",
       "3  R$ 338.000  LAMBORGHINI AVENTADOR    USADO  Motor 1.8 16v   \n",
       "\n",
       "            description             location                      items  \n",
       "0  Ano 1993 - 55.286 km  Belo Horizonte - MG                      4 X 4  \n",
       "1  Ano 1993 - 55.286 km  Belo Horizonte - MG   Câmera de estacionamento  \n",
       "2  Ano 1993 - 55.286 km  Belo Horizonte - MG         Controle de tração  \n",
       "3  Ano 1993 - 55.286 km  Belo Horizonte - MG   Sensor de estacionamento  "
      ]
     },
     "execution_count": 46,
     "metadata": {},
     "output_type": "execute_result"
    }
   ],
   "source": [
    "dataset = pd.DataFrame(card)\n",
    "dataset"
   ]
  },
  {
   "cell_type": "code",
   "execution_count": 47,
   "metadata": {
    "pycharm": {
     "name": "#%%\n"
    }
   },
   "outputs": [
    {
     "data": {
      "text/html": [
       "<div>\n",
       "<style scoped>\n",
       "    .dataframe tbody tr th:only-of-type {\n",
       "        vertical-align: middle;\n",
       "    }\n",
       "\n",
       "    .dataframe tbody tr th {\n",
       "        vertical-align: top;\n",
       "    }\n",
       "\n",
       "    .dataframe thead th {\n",
       "        text-align: right;\n",
       "    }\n",
       "</style>\n",
       "<table border=\"1\" class=\"dataframe\">\n",
       "  <thead>\n",
       "    <tr style=\"text-align: right;\">\n",
       "      <th></th>\n",
       "      <th>0</th>\n",
       "    </tr>\n",
       "  </thead>\n",
       "  <tbody>\n",
       "    <tr>\n",
       "      <th>value</th>\n",
       "      <td>R$ 338.000</td>\n",
       "    </tr>\n",
       "    <tr>\n",
       "      <th>name</th>\n",
       "      <td>LAMBORGHINI AVENTADOR</td>\n",
       "    </tr>\n",
       "    <tr>\n",
       "      <th>category</th>\n",
       "      <td>USADO</td>\n",
       "    </tr>\n",
       "    <tr>\n",
       "      <th>motor</th>\n",
       "      <td>Motor 1.8 16v</td>\n",
       "    </tr>\n",
       "    <tr>\n",
       "      <th>description</th>\n",
       "      <td>Ano 1993 - 55.286 km</td>\n",
       "    </tr>\n",
       "    <tr>\n",
       "      <th>location</th>\n",
       "      <td>Belo Horizonte - MG</td>\n",
       "    </tr>\n",
       "    <tr>\n",
       "      <th>items</th>\n",
       "      <td>[ 4 X 4,  Câmera de estacionamento,  Controle ...</td>\n",
       "    </tr>\n",
       "  </tbody>\n",
       "</table>\n",
       "</div>"
      ],
      "text/plain": [
       "                                                             0\n",
       "value                                               R$ 338.000\n",
       "name                                     LAMBORGHINI AVENTADOR\n",
       "category                                                 USADO\n",
       "motor                                            Motor 1.8 16v\n",
       "description                               Ano 1993 - 55.286 km\n",
       "location                                   Belo Horizonte - MG\n",
       "items        [ 4 X 4,  Câmera de estacionamento,  Controle ..."
      ]
     },
     "execution_count": 47,
     "metadata": {},
     "output_type": "execute_result"
    }
   ],
   "source": [
    "dataset = pd.DataFrame.from_dict(card, orient='index')\n",
    "dataset"
   ]
  },
  {
   "cell_type": "markdown",
   "metadata": {
    "pycharm": {
     "name": "#%% md\n"
    }
   },
   "source": [
    "<h1 style=\"color:#33FF4C\">Resumo</h1>\n"
   ]
  },
  {
   "cell_type": "code",
   "execution_count": 48,
   "metadata": {
    "pycharm": {
     "name": "#%%\n"
    }
   },
   "outputs": [
    {
     "data": {
      "text/html": [
       "<div>\n",
       "<style scoped>\n",
       "    .dataframe tbody tr th:only-of-type {\n",
       "        vertical-align: middle;\n",
       "    }\n",
       "\n",
       "    .dataframe tbody tr th {\n",
       "        vertical-align: top;\n",
       "    }\n",
       "\n",
       "    .dataframe thead th {\n",
       "        text-align: right;\n",
       "    }\n",
       "</style>\n",
       "<table border=\"1\" class=\"dataframe\">\n",
       "  <thead>\n",
       "    <tr style=\"text-align: right;\">\n",
       "      <th></th>\n",
       "      <th>value</th>\n",
       "      <th>name</th>\n",
       "      <th>category</th>\n",
       "      <th>motor</th>\n",
       "      <th>description</th>\n",
       "      <th>location</th>\n",
       "      <th>items</th>\n",
       "    </tr>\n",
       "  </thead>\n",
       "  <tbody>\n",
       "    <tr>\n",
       "      <th>0</th>\n",
       "      <td>R$ 338.000</td>\n",
       "      <td>LAMBORGHINI AVENTADOR</td>\n",
       "      <td>USADO</td>\n",
       "      <td>Motor 1.8 16v</td>\n",
       "      <td>Ano 1993 - 55.286 km</td>\n",
       "      <td>Belo Horizonte - MG</td>\n",
       "      <td>[ 4 X 4,  Câmera de estacionamento,  Controle ...</td>\n",
       "    </tr>\n",
       "  </tbody>\n",
       "</table>\n",
       "</div>"
      ],
      "text/plain": [
       "        value                   name category          motor  \\\n",
       "0  R$ 338.000  LAMBORGHINI AVENTADOR    USADO  Motor 1.8 16v   \n",
       "\n",
       "            description             location  \\\n",
       "0  Ano 1993 - 55.286 km  Belo Horizonte - MG   \n",
       "\n",
       "                                               items  \n",
       "0  [ 4 X 4,  Câmera de estacionamento,  Controle ...  "
      ]
     },
     "execution_count": 48,
     "metadata": {},
     "output_type": "execute_result"
    }
   ],
   "source": [
    "dataset = pd.DataFrame.from_dict(card, orient='index').T\n",
    "dataset"
   ]
  },
  {
   "cell_type": "code",
   "execution_count": 49,
   "metadata": {
    "pycharm": {
     "name": "#%%\n"
    }
   },
   "outputs": [],
   "source": [
    "dataset.to_csv('../data/files/webcrawler-alura-motors.csv', sep=\";\", index=False, encoding=\"utf-8-sig\")"
   ]
  },
  {
   "cell_type": "code",
   "execution_count": 50,
   "metadata": {
    "pycharm": {
     "name": "#%%\n"
    }
   },
   "outputs": [],
   "source": [
    "# Valores\n",
    "card['value'] = anuncio.find('p', {'class': 'txt-value'}).get_text()\n",
    "infos = anuncio.find('div', {'class': 'col-md-6 body-card'}).find_all('p')\n",
    "\n",
    "# Infos\n",
    "for info in infos:\n",
    "  card[info.get('class')[0].split('-')[-1]] = info.getText()\n",
    "\n",
    "# Acessorios\n",
    "items = anuncio.find('div', {'class': 'col-md-6 body-card'}).ul.find_all('li')\n",
    "items.pop()\n",
    "acessorios = []\n",
    "for item in items:\n",
    "  acessorios.append(item.get_text().replace('►', ''))\n",
    "card['items'] = acessorios\n",
    "\n",
    "# Images\n",
    "image = anuncio.find('div', {'class': 'image-card'}).img\n",
    "image.get('src')\n",
    "image_name = image.get('src').split('/')[-1]\n",
    "urlretrieve(image.get('src'), f'../data/images/{image_name}')"
   ]
  },
  {
   "cell_type": "markdown",
   "metadata": {
    "pycharm": {
     "name": "#%% md\n"
    }
   },
   "source": [
    "<h2 style=\"color:yellow\">\n",
    "6. Web Scraping do Site Alura Motors - Obtendo os dados de todos os anúncios de uma página\n",
    "</h2>"
   ]
  },
  {
   "cell_type": "code",
   "execution_count": 63,
   "metadata": {
    "pycharm": {
     "name": "#%%\n"
    }
   },
   "outputs": [
    {
     "data": {
      "text/html": [
       "<div>\n",
       "<style scoped>\n",
       "    .dataframe tbody tr th:only-of-type {\n",
       "        vertical-align: middle;\n",
       "    }\n",
       "\n",
       "    .dataframe tbody tr th {\n",
       "        vertical-align: top;\n",
       "    }\n",
       "\n",
       "    .dataframe thead th {\n",
       "        text-align: right;\n",
       "    }\n",
       "</style>\n",
       "<table border=\"1\" class=\"dataframe\">\n",
       "  <thead>\n",
       "    <tr style=\"text-align: right;\">\n",
       "      <th></th>\n",
       "      <th>value</th>\n",
       "      <th>name</th>\n",
       "      <th>category</th>\n",
       "      <th>motor</th>\n",
       "      <th>description</th>\n",
       "      <th>location</th>\n",
       "      <th>items</th>\n",
       "      <th>opportunity</th>\n",
       "    </tr>\n",
       "  </thead>\n",
       "  <tbody>\n",
       "    <tr>\n",
       "      <th>0</th>\n",
       "      <td>R$ 338.000</td>\n",
       "      <td>LAMBORGHINI AVENTADOR</td>\n",
       "      <td>USADO</td>\n",
       "      <td>Motor 1.8 16v</td>\n",
       "      <td>Ano 1993 - 55.286 km</td>\n",
       "      <td>Belo Horizonte - MG</td>\n",
       "      <td>[ 4 X 4,  Câmera de estacionamento,  Controle ...</td>\n",
       "      <td>NaN</td>\n",
       "    </tr>\n",
       "    <tr>\n",
       "      <th>1</th>\n",
       "      <td>R$ 346.000</td>\n",
       "      <td>BMW M2</td>\n",
       "      <td>USADO</td>\n",
       "      <td>Motor 3.0 32v</td>\n",
       "      <td>Ano 2018 - 83.447 km</td>\n",
       "      <td>Belo Horizonte - MG</td>\n",
       "      <td>[ Câmera de estacionamento,  Controle de estab...</td>\n",
       "      <td>NaN</td>\n",
       "    </tr>\n",
       "    <tr>\n",
       "      <th>2</th>\n",
       "      <td>R$ 480.000</td>\n",
       "      <td>ALFA</td>\n",
       "      <td>USADO</td>\n",
       "      <td>Motor 1.8 16v</td>\n",
       "      <td>Ano 2004 - 19.722 km</td>\n",
       "      <td>Rio de Janeiro - RJ</td>\n",
       "      <td>[ Central multimídia,  Bancos de couro,  Rodas...</td>\n",
       "      <td>NaN</td>\n",
       "    </tr>\n",
       "    <tr>\n",
       "      <th>3</th>\n",
       "      <td>R$ 133.000</td>\n",
       "      <td>PUECH</td>\n",
       "      <td>USADO</td>\n",
       "      <td>Motor Diesel V8</td>\n",
       "      <td>Ano 1992 - 34.335 km</td>\n",
       "      <td>São Paulo - SP</td>\n",
       "      <td>[ Bancos de couro,  Freios ABS,  Rodas de liga...</td>\n",
       "      <td>NaN</td>\n",
       "    </tr>\n",
       "    <tr>\n",
       "      <th>4</th>\n",
       "      <td>R$ 175.000</td>\n",
       "      <td>LAMBORGHINI MURCIELAGO</td>\n",
       "      <td>USADO</td>\n",
       "      <td>Motor 1.0 8v</td>\n",
       "      <td>Ano 1991 - 464 km</td>\n",
       "      <td>Belo Horizonte - MG</td>\n",
       "      <td>[ Central multimídia,  Teto panorâmico,  Senso...</td>\n",
       "      <td>NaN</td>\n",
       "    </tr>\n",
       "    <tr>\n",
       "      <th>5</th>\n",
       "      <td>R$ 239.000</td>\n",
       "      <td>ASTON MARTIN</td>\n",
       "      <td>USADO</td>\n",
       "      <td>Motor Diesel V6</td>\n",
       "      <td>Ano 2004 - 50.189 km</td>\n",
       "      <td>Belo Horizonte - MG</td>\n",
       "      <td>[ Painel digital,  Controle de tração,  Teto p...</td>\n",
       "      <td>OPORTUNIDADE</td>\n",
       "    </tr>\n",
       "    <tr>\n",
       "      <th>6</th>\n",
       "      <td>R$ 115.000</td>\n",
       "      <td>TVR</td>\n",
       "      <td>USADO</td>\n",
       "      <td>Motor 4.0 Turbo</td>\n",
       "      <td>Ano 2014 - 17.778 km</td>\n",
       "      <td>Belo Horizonte - MG</td>\n",
       "      <td>[ 4 X 4,  Teto panorâmico,  Central multimídia...</td>\n",
       "      <td>NaN</td>\n",
       "    </tr>\n",
       "    <tr>\n",
       "      <th>7</th>\n",
       "      <td>R$ 114.000</td>\n",
       "      <td>EXCALIBUR</td>\n",
       "      <td>USADO</td>\n",
       "      <td>Motor 3.0 32v</td>\n",
       "      <td>Ano 2009 - 81.251 km</td>\n",
       "      <td>Rio de Janeiro - RJ</td>\n",
       "      <td>[ Painel digital,  Câmbio automático,  Sensor ...</td>\n",
       "      <td>NaN</td>\n",
       "    </tr>\n",
       "    <tr>\n",
       "      <th>8</th>\n",
       "      <td>R$ 75.000</td>\n",
       "      <td>MCLAREN</td>\n",
       "      <td>NOVO</td>\n",
       "      <td>Motor Diesel</td>\n",
       "      <td>Ano 2019 - 0 km</td>\n",
       "      <td>São Paulo - SP</td>\n",
       "      <td>[ Central multimídia,  Câmera de estacionament...</td>\n",
       "      <td>NaN</td>\n",
       "    </tr>\n",
       "    <tr>\n",
       "      <th>9</th>\n",
       "      <td>R$ 117.000</td>\n",
       "      <td>TOYOTA</td>\n",
       "      <td>USADO</td>\n",
       "      <td>Motor 4.0 Turbo</td>\n",
       "      <td>Ano 1999 - 12.536 km</td>\n",
       "      <td>São Paulo - SP</td>\n",
       "      <td>[ Bancos de couro,  Freios ABS,  Piloto automá...</td>\n",
       "      <td>OPORTUNIDADE</td>\n",
       "    </tr>\n",
       "  </tbody>\n",
       "</table>\n",
       "</div>"
      ],
      "text/plain": [
       "        value                    name category            motor  \\\n",
       "0  R$ 338.000   LAMBORGHINI AVENTADOR    USADO    Motor 1.8 16v   \n",
       "1  R$ 346.000                  BMW M2    USADO    Motor 3.0 32v   \n",
       "2  R$ 480.000                    ALFA    USADO    Motor 1.8 16v   \n",
       "3  R$ 133.000                   PUECH    USADO  Motor Diesel V8   \n",
       "4  R$ 175.000  LAMBORGHINI MURCIELAGO    USADO     Motor 1.0 8v   \n",
       "5  R$ 239.000            ASTON MARTIN    USADO  Motor Diesel V6   \n",
       "6  R$ 115.000                     TVR    USADO  Motor 4.0 Turbo   \n",
       "7  R$ 114.000               EXCALIBUR    USADO    Motor 3.0 32v   \n",
       "8   R$ 75.000                 MCLAREN     NOVO     Motor Diesel   \n",
       "9  R$ 117.000                  TOYOTA    USADO  Motor 4.0 Turbo   \n",
       "\n",
       "            description             location  \\\n",
       "0  Ano 1993 - 55.286 km  Belo Horizonte - MG   \n",
       "1  Ano 2018 - 83.447 km  Belo Horizonte - MG   \n",
       "2  Ano 2004 - 19.722 km  Rio de Janeiro - RJ   \n",
       "3  Ano 1992 - 34.335 km       São Paulo - SP   \n",
       "4     Ano 1991 - 464 km  Belo Horizonte - MG   \n",
       "5  Ano 2004 - 50.189 km  Belo Horizonte - MG   \n",
       "6  Ano 2014 - 17.778 km  Belo Horizonte - MG   \n",
       "7  Ano 2009 - 81.251 km  Rio de Janeiro - RJ   \n",
       "8       Ano 2019 - 0 km       São Paulo - SP   \n",
       "9  Ano 1999 - 12.536 km       São Paulo - SP   \n",
       "\n",
       "                                               items   opportunity  \n",
       "0  [ 4 X 4,  Câmera de estacionamento,  Controle ...           NaN  \n",
       "1  [ Câmera de estacionamento,  Controle de estab...           NaN  \n",
       "2  [ Central multimídia,  Bancos de couro,  Rodas...           NaN  \n",
       "3  [ Bancos de couro,  Freios ABS,  Rodas de liga...           NaN  \n",
       "4  [ Central multimídia,  Teto panorâmico,  Senso...           NaN  \n",
       "5  [ Painel digital,  Controle de tração,  Teto p...  OPORTUNIDADE  \n",
       "6  [ 4 X 4,  Teto panorâmico,  Central multimídia...           NaN  \n",
       "7  [ Painel digital,  Câmbio automático,  Sensor ...           NaN  \n",
       "8  [ Central multimídia,  Câmera de estacionament...           NaN  \n",
       "9  [ Bancos de couro,  Freios ABS,  Piloto automá...  OPORTUNIDADE  "
      ]
     },
     "execution_count": 63,
     "metadata": {},
     "output_type": "execute_result"
    }
   ],
   "source": [
    "# importando lib\n",
    "from urllib.request import urlopen, urlretrieve\n",
    "from bs4 import BeautifulSoup\n",
    "import pandas as pd\n",
    "\n",
    "# declarando variáveis cards\n",
    "cards = []\n",
    "\n",
    "# Obtendo o HTML\n",
    "response = urlopen('https://alura-site-scraping.herokuapp.com/index.php')\n",
    "html = response.read().decode('utf-8')\n",
    "soup = BeautifulSoup(html, 'html.parser')\n",
    "\n",
    "# Obtendo as tags de interesse\n",
    "anuncios = soup.find('div', {'id':'container-cards'}).find_all('div', class_=\"well card\")\n",
    "\n",
    "# Coletando as informações\n",
    "for anuncio in anuncios:\n",
    "  card = {}\n",
    "  # Valores\n",
    "  card['value'] = anuncio.find('p', {'class': 'txt-value'}).get_text()\n",
    "  infos = anuncio.find('div', {'class': 'col-md-6 body-card'}).find_all('p')\n",
    "\n",
    "  # Infos\n",
    "  for info in infos:\n",
    "    card[info.get('class')[0].split('-')[-1]] = info.getText()\n",
    "\n",
    "  # Acessorios\n",
    "  items = anuncio.find('div', {'class': 'col-md-6 body-card'}).ul.find_all('li')\n",
    "  items.pop()\n",
    "  acessorios = []\n",
    "  for item in items:\n",
    "    acessorios.append(item.get_text().replace('►', ''))\n",
    "  card['items'] = acessorios\n",
    "\n",
    "  # adicionando resultados a lista\n",
    "  cards.append(card)\n",
    "\n",
    "  # Images\n",
    "  image = anuncio.find('div', {'class': 'image-card'}).img\n",
    "  urlretrieve(image.get('src'), '../data/images/' + image.get('src').split('/')[-1])\n",
    "\n",
    "# Criando um DataFrame\n",
    "dataset = pd.DataFrame(cards)\n",
    "dataset.to_csv('../data/files/webcrawler-alura-motors.csv', sep=\";\", index=False, encoding=\"utf-8-sig\")\n",
    "dataset"
   ]
  },
  {
   "cell_type": "markdown",
   "metadata": {
    "pycharm": {
     "name": "#%% md\n"
    }
   },
   "source": [
    "<h2 style=\"color: yellow\">\n",
    "7. Web scraping do Site Alura Motors - Obtendo informações de todo o Site\n",
    "</h2>"
   ]
  },
  {
   "cell_type": "code",
   "execution_count": 67,
   "metadata": {
    "pycharm": {
     "name": "#%%\n"
    }
   },
   "outputs": [
    {
     "data": {
      "text/html": [
       "<div>\n",
       "<style scoped>\n",
       "    .dataframe tbody tr th:only-of-type {\n",
       "        vertical-align: middle;\n",
       "    }\n",
       "\n",
       "    .dataframe tbody tr th {\n",
       "        vertical-align: top;\n",
       "    }\n",
       "\n",
       "    .dataframe thead th {\n",
       "        text-align: right;\n",
       "    }\n",
       "</style>\n",
       "<table border=\"1\" class=\"dataframe\">\n",
       "  <thead>\n",
       "    <tr style=\"text-align: right;\">\n",
       "      <th></th>\n",
       "      <th>value</th>\n",
       "      <th>name</th>\n",
       "      <th>category</th>\n",
       "      <th>motor</th>\n",
       "      <th>description</th>\n",
       "      <th>location</th>\n",
       "      <th>items</th>\n",
       "      <th>opportunity</th>\n",
       "    </tr>\n",
       "  </thead>\n",
       "  <tbody>\n",
       "    <tr>\n",
       "      <th>0</th>\n",
       "      <td>R$ 338.000</td>\n",
       "      <td>LAMBORGHINI AVENTADOR</td>\n",
       "      <td>USADO</td>\n",
       "      <td>Motor 1.8 16v</td>\n",
       "      <td>Ano 1993 - 55.286 km</td>\n",
       "      <td>Belo Horizonte - MG</td>\n",
       "      <td>[ 4 X 4,  Câmera de estacionamento,  Controle ...</td>\n",
       "      <td>NaN</td>\n",
       "    </tr>\n",
       "    <tr>\n",
       "      <th>1</th>\n",
       "      <td>R$ 346.000</td>\n",
       "      <td>BMW M2</td>\n",
       "      <td>USADO</td>\n",
       "      <td>Motor 3.0 32v</td>\n",
       "      <td>Ano 2018 - 83.447 km</td>\n",
       "      <td>Belo Horizonte - MG</td>\n",
       "      <td>[ Câmera de estacionamento,  Controle de estab...</td>\n",
       "      <td>NaN</td>\n",
       "    </tr>\n",
       "    <tr>\n",
       "      <th>2</th>\n",
       "      <td>R$ 480.000</td>\n",
       "      <td>ALFA</td>\n",
       "      <td>USADO</td>\n",
       "      <td>Motor 1.8 16v</td>\n",
       "      <td>Ano 2004 - 19.722 km</td>\n",
       "      <td>Rio de Janeiro - RJ</td>\n",
       "      <td>[ Central multimídia,  Bancos de couro,  Rodas...</td>\n",
       "      <td>NaN</td>\n",
       "    </tr>\n",
       "    <tr>\n",
       "      <th>3</th>\n",
       "      <td>R$ 133.000</td>\n",
       "      <td>PUECH</td>\n",
       "      <td>USADO</td>\n",
       "      <td>Motor Diesel V8</td>\n",
       "      <td>Ano 1992 - 34.335 km</td>\n",
       "      <td>São Paulo - SP</td>\n",
       "      <td>[ Bancos de couro,  Freios ABS,  Rodas de liga...</td>\n",
       "      <td>NaN</td>\n",
       "    </tr>\n",
       "    <tr>\n",
       "      <th>4</th>\n",
       "      <td>R$ 175.000</td>\n",
       "      <td>LAMBORGHINI MURCIELAGO</td>\n",
       "      <td>USADO</td>\n",
       "      <td>Motor 1.0 8v</td>\n",
       "      <td>Ano 1991 - 464 km</td>\n",
       "      <td>Belo Horizonte - MG</td>\n",
       "      <td>[ Central multimídia,  Teto panorâmico,  Senso...</td>\n",
       "      <td>NaN</td>\n",
       "    </tr>\n",
       "    <tr>\n",
       "      <th>...</th>\n",
       "      <td>...</td>\n",
       "      <td>...</td>\n",
       "      <td>...</td>\n",
       "      <td>...</td>\n",
       "      <td>...</td>\n",
       "      <td>...</td>\n",
       "      <td>...</td>\n",
       "      <td>...</td>\n",
       "    </tr>\n",
       "    <tr>\n",
       "      <th>241</th>\n",
       "      <td>R$ 489.000</td>\n",
       "      <td>SUV REAR TIRE</td>\n",
       "      <td>USADO</td>\n",
       "      <td>Motor 3.0 32v</td>\n",
       "      <td>Ano 1998 - 74.292 km</td>\n",
       "      <td>São Paulo - SP</td>\n",
       "      <td>[ Câmera de estacionamento,  Rodas de liga,  S...</td>\n",
       "      <td>NaN</td>\n",
       "    </tr>\n",
       "    <tr>\n",
       "      <th>242</th>\n",
       "      <td>R$ 427.000</td>\n",
       "      <td>ANTIQUE</td>\n",
       "      <td>NOVO</td>\n",
       "      <td>Motor 2.0 16v</td>\n",
       "      <td>Ano 2019 - 0 km</td>\n",
       "      <td>Belo Horizonte - MG</td>\n",
       "      <td>[ Bancos de couro,  Freios ABS,  Sensor de est...</td>\n",
       "      <td>NaN</td>\n",
       "    </tr>\n",
       "    <tr>\n",
       "      <th>243</th>\n",
       "      <td>R$ 203.000</td>\n",
       "      <td>SPORT</td>\n",
       "      <td>USADO</td>\n",
       "      <td>Motor 2.0 16v</td>\n",
       "      <td>Ano 2001 - 102.776 km</td>\n",
       "      <td>Belo Horizonte - MG</td>\n",
       "      <td>[ Sensor crepuscular,  Sensor de chuva,  Vidro...</td>\n",
       "      <td>NaN</td>\n",
       "    </tr>\n",
       "    <tr>\n",
       "      <th>244</th>\n",
       "      <td>R$ 474.000</td>\n",
       "      <td>IMPERIAL</td>\n",
       "      <td>USADO</td>\n",
       "      <td>Motor 1.8 16v</td>\n",
       "      <td>Ano 2011 - 101.787 km</td>\n",
       "      <td>Belo Horizonte - MG</td>\n",
       "      <td>[ Painel digital,  Travas elétricas,  Sensor d...</td>\n",
       "      <td>OPORTUNIDADE</td>\n",
       "    </tr>\n",
       "    <tr>\n",
       "      <th>245</th>\n",
       "      <td>R$ 366.000</td>\n",
       "      <td>KIA SPORTS CAR</td>\n",
       "      <td>USADO</td>\n",
       "      <td>Motor 3.0 32v</td>\n",
       "      <td>Ano 2001 - 88.564 km</td>\n",
       "      <td>Belo Horizonte - MG</td>\n",
       "      <td>[ Sensor crepuscular,  Bancos de couro,  Senso...</td>\n",
       "      <td>NaN</td>\n",
       "    </tr>\n",
       "  </tbody>\n",
       "</table>\n",
       "<p>246 rows × 8 columns</p>\n",
       "</div>"
      ],
      "text/plain": [
       "          value                    name category            motor  \\\n",
       "0    R$ 338.000   LAMBORGHINI AVENTADOR    USADO    Motor 1.8 16v   \n",
       "1    R$ 346.000                  BMW M2    USADO    Motor 3.0 32v   \n",
       "2    R$ 480.000                    ALFA    USADO    Motor 1.8 16v   \n",
       "3    R$ 133.000                   PUECH    USADO  Motor Diesel V8   \n",
       "4    R$ 175.000  LAMBORGHINI MURCIELAGO    USADO     Motor 1.0 8v   \n",
       "..          ...                     ...      ...              ...   \n",
       "241  R$ 489.000           SUV REAR TIRE    USADO    Motor 3.0 32v   \n",
       "242  R$ 427.000                 ANTIQUE     NOVO    Motor 2.0 16v   \n",
       "243  R$ 203.000                   SPORT    USADO    Motor 2.0 16v   \n",
       "244  R$ 474.000                IMPERIAL    USADO    Motor 1.8 16v   \n",
       "245  R$ 366.000          KIA SPORTS CAR    USADO    Motor 3.0 32v   \n",
       "\n",
       "               description             location  \\\n",
       "0     Ano 1993 - 55.286 km  Belo Horizonte - MG   \n",
       "1     Ano 2018 - 83.447 km  Belo Horizonte - MG   \n",
       "2     Ano 2004 - 19.722 km  Rio de Janeiro - RJ   \n",
       "3     Ano 1992 - 34.335 km       São Paulo - SP   \n",
       "4        Ano 1991 - 464 km  Belo Horizonte - MG   \n",
       "..                     ...                  ...   \n",
       "241   Ano 1998 - 74.292 km       São Paulo - SP   \n",
       "242        Ano 2019 - 0 km  Belo Horizonte - MG   \n",
       "243  Ano 2001 - 102.776 km  Belo Horizonte - MG   \n",
       "244  Ano 2011 - 101.787 km  Belo Horizonte - MG   \n",
       "245   Ano 2001 - 88.564 km  Belo Horizonte - MG   \n",
       "\n",
       "                                                 items   opportunity  \n",
       "0    [ 4 X 4,  Câmera de estacionamento,  Controle ...           NaN  \n",
       "1    [ Câmera de estacionamento,  Controle de estab...           NaN  \n",
       "2    [ Central multimídia,  Bancos de couro,  Rodas...           NaN  \n",
       "3    [ Bancos de couro,  Freios ABS,  Rodas de liga...           NaN  \n",
       "4    [ Central multimídia,  Teto panorâmico,  Senso...           NaN  \n",
       "..                                                 ...           ...  \n",
       "241  [ Câmera de estacionamento,  Rodas de liga,  S...           NaN  \n",
       "242  [ Bancos de couro,  Freios ABS,  Sensor de est...           NaN  \n",
       "243  [ Sensor crepuscular,  Sensor de chuva,  Vidro...           NaN  \n",
       "244  [ Painel digital,  Travas elétricas,  Sensor d...  OPORTUNIDADE  \n",
       "245  [ Sensor crepuscular,  Bancos de couro,  Senso...           NaN  \n",
       "\n",
       "[246 rows x 8 columns]"
      ]
     },
     "execution_count": 67,
     "metadata": {},
     "output_type": "execute_result"
    }
   ],
   "source": [
    "# importando lib\n",
    "from urllib.request import urlopen, urlretrieve\n",
    "from bs4 import BeautifulSoup\n",
    "import pandas as pd\n",
    "\n",
    "# declarando variáveis cards\n",
    "cards = []\n",
    "\n",
    "# Obtendo o HTML e o total de páginas\n",
    "response = urlopen('https://alura-site-scraping.herokuapp.com/index.php')\n",
    "html = response.read().decode('utf-8')\n",
    "soup = BeautifulSoup(html, 'html.parser')\n",
    "pages = int(soup.find('span', {'class':\"info-pages\"}).get_text().split()[-1])\n",
    "\n",
    "# Percorrendo todas as páginas\n",
    "for i in range(pages):\n",
    "\n",
    "  # Obtendo HTML\n",
    "  response = urlopen('https://alura-site-scraping.herokuapp.com/index.php?page=' + str(i + 1))\n",
    "  html = response.read().decode('utf-8')\n",
    "  soup = BeautifulSoup(html, 'html.parser')\n",
    "\n",
    "  # Obtendo as tags de interesse\n",
    "  anuncios = soup.find('div', {'id':'container-cards'}).find_all('div', class_=\"well card\")\n",
    "\n",
    "  # Coletando as informações\n",
    "  for anuncio in anuncios:\n",
    "    card = {}\n",
    "    # Valores\n",
    "    card['value'] = anuncio.find('p', {'class': 'txt-value'}).get_text()\n",
    "    infos = anuncio.find('div', {'class': 'col-md-6 body-card'}).find_all('p')\n",
    "\n",
    "    # Infos\n",
    "    for info in infos:\n",
    "      card[info.get('class')[0].split('-')[-1]] = info.getText()\n",
    "\n",
    "    # Acessorios\n",
    "    items = anuncio.find('div', {'class': 'col-md-6 body-card'}).ul.find_all('li')\n",
    "    items.pop()\n",
    "    acessorios = []\n",
    "    for item in items:\n",
    "      acessorios.append(item.get_text().replace('►', ''))\n",
    "    card['items'] = acessorios\n",
    "\n",
    "    # adicionando resultados a lista\n",
    "    cards.append(card)\n",
    "\n",
    "    # Images\n",
    "    image = anuncio.find('div', {'class': 'image-card'}).img\n",
    "    urlretrieve(image.get('src'), '../data/images/' + image.get('src').split('/')[-1])\n",
    "\n",
    "\n",
    "# Criando um DataFrame\n",
    "dataset = pd.DataFrame(cards)\n",
    "dataset.to_csv('../data/files/webcrawler-alura-motors.csv', sep=\";\", index=False, encoding=\"utf-8-sig\")\n",
    "dataset"
   ]
  },
  {
   "cell_type": "code",
   "execution_count": 51,
   "metadata": {
    "pycharm": {
     "name": "#%%\n"
    }
   },
   "outputs": [
    {
     "name": "stdout",
     "output_type": "stream",
     "text": [
      "<class 'str'>\n"
     ]
    }
   ],
   "source": [
    "URL = 'https://www.alura.com.br'\n",
    "headers = {'User-Agent': 'Mozilla/5.0 (Windows NT 10.0; Win64; x64) AppleWebKit/537.36 (KHTML, like Gecko) Chrome/103.0.0.0 Safari/537.36'}\n",
    "\n",
    "try:\n",
    "  req = Request(url=URL, headers=headers)\n",
    "  response = urlopen(req)\n",
    "  html = response.read()\n",
    "  html = html.decode('utf-8')\n",
    "  html = trata_html(html)\n",
    "  print(type(html))\n",
    "except HTTPError as e:\n",
    "  print(e.status, e.reason)\n",
    "except URLError as e:\n",
    "  print(e.reason)"
   ]
  }
 ],
 "metadata": {
  "kernelspec": {
   "display_name": ".venv3",
   "language": "python",
   "name": "python3"
  },
  "language_info": {
   "codemirror_mode": {
    "name": "ipython",
    "version": 3
   },
   "file_extension": ".py",
   "mimetype": "text/x-python",
   "name": "python",
   "nbconvert_exporter": "python",
   "pygments_lexer": "ipython3",
   "version": "3.11.1"
  },
  "orig_nbformat": 4,
  "vscode": {
   "interpreter": {
    "hash": "f0bc8a497609fe87e6bad32de43be55d317e47bb35934631917ff422bf67649a"
   }
  }
 },
 "nbformat": 4,
 "nbformat_minor": 2
}

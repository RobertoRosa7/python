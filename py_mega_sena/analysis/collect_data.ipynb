{
 "cells": [
  {
   "cell_type": "code",
   "execution_count": 60,
   "metadata": {},
   "outputs": [],
   "source": [
    "import os\n",
    "import pandas as pd\n",
    "import time\n",
    "import re\n",
    "import csv\n",
    "from datetime import datetime\n",
    "from selenium import webdriver\n",
    "from selenium.webdriver.common.by import By\n",
    "from selenium.webdriver.remote.webelement import WebElement"
   ]
  },
  {
   "cell_type": "code",
   "execution_count": 64,
   "metadata": {},
   "outputs": [],
   "source": [
    "URL = \"https://loterias.caixa.gov.br/Paginas/Mega-Sena.aspx\"\n",
    "XPATH_ROWS = '//*[@id=\"ctl50_g_cf05b8d5_fd75_46b5_bdfa_a623e654362c\"]/div/div/table/tbody'\n",
    "X_PATH_THEAD = '//*[@id=\"ctl50_g_cf05b8d5_fd75_46b5_bdfa_a623e654362c\"]/div/div/table/thead'\n",
    "X_PATH_THEAD_TR = '//*[@id=\"ctl50_g_cf05b8d5_fd75_46b5_bdfa_a623e654362c\"]/div/div/table/thead/tr'\n",
    "FILE_NAME = 'original-data.csv'"
   ]
  },
  {
   "cell_type": "code",
   "execution_count": 65,
   "metadata": {},
   "outputs": [],
   "source": [
    "remove_dot = re.compile(r'\\.')\n",
    "remove_dollar = re.compile(r'^[R]\\$')\n",
    "remove_two_words = re.compile(r'^(\\w{2})$')\n",
    "remove_currency = re.compile(r'^[R]\\$\\d+\\,\\d{2}$')\n",
    "remove_no = re.compile(r'^(N|n)\\w{2}$')\n",
    "replace_dot_by_comma = re.compile('\\,')"
   ]
  },
  {
   "cell_type": "code",
   "execution_count": 66,
   "metadata": {},
   "outputs": [],
   "source": [
    "def is_file(filename: str) -> bool:\n",
    "    return os.path.isfile(os.path.join(filename))"
   ]
  },
  {
   "cell_type": "code",
   "execution_count": 67,
   "metadata": {},
   "outputs": [],
   "source": [
    "def saveCsvHeaders(filename, data) -> None:\n",
    "    with open(filename, mode='w', encoding=\"utf-8\") as f:\n",
    "        writer = csv.writer(f, delimiter=';')\n",
    "        writer.writerow(data)\n",
    "        f.close()"
   ]
  },
  {
   "cell_type": "code",
   "execution_count": 68,
   "metadata": {},
   "outputs": [],
   "source": [
    "def saveCsvData(filename, data) -> None:\n",
    "    with open(filename, mode='r', encoding='utf-8') as freader:\n",
    "        reader = csv.reader(freader)\n",
    "        next(reader, None)\n",
    "\n",
    "        with open(filename, mode='a', encoding='utf-8') as fwriter:\n",
    "            writer = csv.writer(fwriter, delimiter=';')\n",
    "            writer.writerow(data)\n",
    "\n",
    "    freader.close()\n",
    "    fwriter.close()"
   ]
  },
  {
   "cell_type": "code",
   "execution_count": 69,
   "metadata": {},
   "outputs": [],
   "source": [
    "option = webdriver.ChromeOptions()\n",
    "option.add_argument('headless')\n",
    "driver = webdriver.Chrome(options=option)\n",
    "driver.get(URL)"
   ]
  },
  {
   "cell_type": "code",
   "execution_count": 70,
   "metadata": {},
   "outputs": [
    {
     "data": {
      "text/plain": [
       "'Mega-Sena - Portal Loterias | CAIXA'"
      ]
     },
     "execution_count": 70,
     "metadata": {},
     "output_type": "execute_result"
    }
   ],
   "source": [
    "driver.title"
   ]
  },
  {
   "cell_type": "code",
   "execution_count": 71,
   "metadata": {},
   "outputs": [],
   "source": [
    "a = driver.find_element(By.CLASS_NAME, 'zeta')\n",
    "driver.implicitly_wait(30)\n",
    "driver.execute_script(\"arguments[0].click();\", a)"
   ]
  },
  {
   "cell_type": "code",
   "execution_count": 72,
   "metadata": {},
   "outputs": [
    {
     "data": {
      "text/plain": [
       "'CDwindow-388DCCB2C6EBF328C8C66C2A7813565A'"
      ]
     },
     "execution_count": 72,
     "metadata": {},
     "output_type": "execute_result"
    }
   ],
   "source": [
    "driver.window_handles[-1]"
   ]
  },
  {
   "cell_type": "code",
   "execution_count": 73,
   "metadata": {},
   "outputs": [],
   "source": [
    "driver.switch_to.window(driver.window_handles[-1])"
   ]
  },
  {
   "cell_type": "code",
   "execution_count": 74,
   "metadata": {},
   "outputs": [
    {
     "data": {
      "text/plain": [
       "'Download de Resultados - Portal Loterias | CAIXA'"
      ]
     },
     "execution_count": 74,
     "metadata": {},
     "output_type": "execute_result"
    }
   ],
   "source": [
    "driver.title"
   ]
  },
  {
   "cell_type": "code",
   "execution_count": 75,
   "metadata": {},
   "outputs": [],
   "source": [
    "thead = driver.find_element(By.XPATH, X_PATH_THEAD)\n",
    "tr = thead.find_element(By.XPATH, X_PATH_THEAD_TR)\n",
    "thead_rows = tr.find_elements(By.TAG_NAME, 'th')"
   ]
  },
  {
   "cell_type": "code",
   "execution_count": 1,
   "metadata": {},
   "outputs": [
    {
     "ename": "NameError",
     "evalue": "name 'thead_rows' is not defined",
     "output_type": "error",
     "traceback": [
      "\u001b[0;31m---------------------------------------------------------------------------\u001b[0m",
      "\u001b[0;31mNameError\u001b[0m                                 Traceback (most recent call last)",
      "Cell \u001b[0;32mIn[1], line 2\u001b[0m\n\u001b[1;32m      1\u001b[0m thead_columns: \u001b[39mlist\u001b[39m[\u001b[39mstr\u001b[39m] \u001b[39m=\u001b[39m []\n\u001b[0;32m----> 2\u001b[0m \u001b[39mfor\u001b[39;00m column \u001b[39min\u001b[39;00m thead_rows:\n\u001b[1;32m      3\u001b[0m     thead_columns\u001b[39m.\u001b[39mappend(column\u001b[39m.\u001b[39mtext)\n",
      "\u001b[0;31mNameError\u001b[0m: name 'thead_rows' is not defined"
     ]
    }
   ],
   "source": [
    "thead_columns: list[str] = []\n",
    "for column in thead_rows:\n",
    "    thead_columns.append(column.text)"
   ]
  },
  {
   "cell_type": "code",
   "execution_count": 106,
   "metadata": {},
   "outputs": [],
   "source": [
    "saveCsvHeaders(FILE_NAME, thead_columns)"
   ]
  },
  {
   "cell_type": "code",
   "execution_count": 77,
   "metadata": {},
   "outputs": [],
   "source": [
    "rows = driver.find_elements(By.XPATH, XPATH_ROWS)"
   ]
  },
  {
   "cell_type": "code",
   "execution_count": 82,
   "metadata": {},
   "outputs": [],
   "source": [
    "def currency_to_number(replace_dot_by_comma, remove_dot, remove_dollar, text) -> str:\n",
    "    return re.sub(replace_dot_by_comma, '.', re.sub(remove_dot, '', re.sub(remove_dollar, '', text)))"
   ]
  },
  {
   "cell_type": "code",
   "execution_count": 83,
   "metadata": {},
   "outputs": [],
   "source": [
    "def cleanTexts(element: WebElement, thead_rows) -> list:\n",
    "    \"\"\" Clean text from web data \"\"\"\n",
    "    \n",
    "    lists = [None] * len(thead_rows)\n",
    "    \n",
    "    tds = element.find_elements(By.TAG_NAME, 'td')\n",
    "    cities = [td.text.replace('\\n', '::').replace(' ', ':') for td in tds[14].find_elements(By.TAG_NAME, 'tbody')]\n",
    "    \n",
    "    lists[0] = int(tds[0].text)\n",
    "    lists[1] = datetime.strptime(tds[1].text, \"%d/%m/%Y\")\n",
    "    lists[2] = int(tds[2].text)\n",
    "    lists[3] = int(tds[3].text)\n",
    "    lists[4] = int(tds[4].text)\n",
    "    lists[5] = int(tds[5].text)\n",
    "    lists[6] = int(tds[6].text)\n",
    "    lists[7] = int(tds[7].text)\n",
    "    lists[8] = tds[8].text\n",
    "    lists[9] = tds[9].text\n",
    "    lists[10] = tds[10].text\n",
    "    lists[11] = currency_to_number(replace_dot_by_comma, remove_dot, remove_dollar, tds[11].text)\n",
    "    lists[12] = currency_to_number(replace_dot_by_comma, remove_dot, remove_dollar, tds[12].text)\n",
    "    lists[13] = currency_to_number(replace_dot_by_comma, remove_dot, remove_dollar, tds[13].text)\n",
    "    lists[14] =  '-' if not cities[0] else cities[0].upper()\n",
    "    lists[15] =  currency_to_number(replace_dot_by_comma, remove_dot, remove_dollar, 'R$0,00' if not tds[-6].text else tds[-6].text)\n",
    "    lists[16] = currency_to_number(replace_dot_by_comma, remove_dot, remove_dollar, 'R$0,00' if not tds[-5].text else re.sub(remove_two_words, 'R$0,00', tds[-5].text))\n",
    "    lists[17] = currency_to_number(replace_dot_by_comma, remove_dot, remove_dollar, 'R$0,00' if not tds[-4].text else tds[-4].text) \n",
    "    lists[18] = 'Sim' if not tds[-3].text else re.sub(remove_two_words, 'Não', re.sub(remove_currency, 'Não', tds[-3].text))\n",
    "    lists[19] = 'Não' if not tds[-2].text else re.sub(remove_currency, 'Não', tds[-2].text)\n",
    "    lists[20] = '-' if not tds[-1].text else re.sub(remove_currency, '-', re.sub(remove_no, '-', tds[-1].text))\n",
    "\n",
    "    return lists"
   ]
  },
  {
   "cell_type": "code",
   "execution_count": 100,
   "metadata": {},
   "outputs": [],
   "source": [
    "def runner(filename: str, thead_rows: list, rows:list[WebElement], from_index = 0) -> None:\n",
    "    for element in rows[from_index:]:\n",
    "        saveCsvData(filename, data=cleanTexts(element, thead_rows))\n",
    "    \n",
    "    print(f'**** DATA PROCESSING WITH SUCCESS! ****')"
   ]
  },
  {
   "cell_type": "code",
   "execution_count": 101,
   "metadata": {},
   "outputs": [],
   "source": [
    "def create(filename: str, thead_rows: list, rows:list[WebElement]) -> None:\n",
    "    print(f\"******* CREATE DATA ******\")\n",
    "    \n",
    "    runner(filename, thead_rows, rows)\n",
    "    driver.quit()\n",
    "    \n",
    "    print(f\"******* FINISHED ******\")"
   ]
  },
  {
   "cell_type": "code",
   "execution_count": 102,
   "metadata": {},
   "outputs": [],
   "source": [
    "def update(filename: str, thead_rows: list, rows: list[WebElement]) -> None:\n",
    "    print(f\"******* UPDATE DATA ******\")\n",
    "    \n",
    "    with open(filename, mode='r', encoding='utf-8') as freader:\n",
    "        readers = list(csv.reader(freader, delimiter=';'))\n",
    "        freader.close()\n",
    "    \n",
    "    index = readers.index(readers[-1])\n",
    "    \n",
    "    if len(rows[index:]) > 0:\n",
    "        runner(filename, thead_rows, rows, index)\n",
    "\n",
    "    driver.quit()\n",
    "    \n",
    "    print(f\"******* FINISHED ******\")"
   ]
  },
  {
   "cell_type": "code",
   "execution_count": 103,
   "metadata": {},
   "outputs": [],
   "source": [
    "def run() -> None:\n",
    "    \"\"\" Run Scraping Mega Sena\"\"\"\n",
    "    update(FILE_NAME, thead_rows, rows) if is_file(FILE_NAME) else create(FILE_NAME, thead_rows, rows)"
   ]
  },
  {
   "cell_type": "code",
   "execution_count": 104,
   "metadata": {},
   "outputs": [
    {
     "name": "stdout",
     "output_type": "stream",
     "text": [
      "******* UPDATE DATA ******\n",
      "**** DATA PROCESSING WITH SUCCESS! ****\n",
      "******* FINISHED ******\n"
     ]
    }
   ],
   "source": [
    "run()"
   ]
  }
 ],
 "metadata": {
  "kernelspec": {
   "display_name": ".venv3",
   "language": "python",
   "name": "python3"
  },
  "language_info": {
   "codemirror_mode": {
    "name": "ipython",
    "version": 3
   },
   "file_extension": ".py",
   "mimetype": "text/x-python",
   "name": "python",
   "nbconvert_exporter": "python",
   "pygments_lexer": "ipython3",
   "version": "3.11.1"
  },
  "orig_nbformat": 4,
  "vscode": {
   "interpreter": {
    "hash": "f0bc8a497609fe87e6bad32de43be55d317e47bb35934631917ff422bf67649a"
   }
  }
 },
 "nbformat": 4,
 "nbformat_minor": 2
}

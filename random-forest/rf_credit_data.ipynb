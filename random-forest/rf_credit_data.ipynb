{
 "metadata": {
  "language_info": {
   "codemirror_mode": {
    "name": "ipython",
    "version": 3
   },
   "file_extension": ".py",
   "mimetype": "text/x-python",
   "name": "python",
   "nbconvert_exporter": "python",
   "pygments_lexer": "ipython3",
   "version": "3.8.5-final"
  },
  "orig_nbformat": 2,
  "kernelspec": {
   "name": "python3",
   "display_name": "Python 3",
   "language": "python"
  }
 },
 "nbformat": 4,
 "nbformat_minor": 2,
 "cells": [
  {
   "cell_type": "code",
   "execution_count": 3,
   "metadata": {},
   "outputs": [],
   "source": [
    "# -*- coding: utf-8 -*-\n",
    "\n",
    "import os, sys\n",
    "import pandas as pd\n",
    "import numpy as np\n",
    "\n",
    "sys.path.append(os.path.abspath(os.getcwd()))"
   ]
  },
  {
   "cell_type": "code",
   "execution_count": 13,
   "metadata": {},
   "outputs": [
    {
     "output_type": "execute_result",
     "data": {
      "text/plain": [
       "<bound method DataFrame.info of       i#clientid        income        age         loan  c#default\n",
       "0              1  66155.925095  59.017015  8106.532131          0\n",
       "1              2  34415.153966  48.117153  6564.745018          0\n",
       "2              3  57317.170063  63.108049  8020.953296          0\n",
       "3              4  42709.534201  45.751972  6103.642260          0\n",
       "4              5  66952.688845  18.584336  8770.099235          1\n",
       "...          ...           ...        ...          ...        ...\n",
       "1995        1996  59221.044874  48.518179  1926.729397          0\n",
       "1996        1997  69516.127573  23.162104  3503.176156          0\n",
       "1997        1998  44311.449262  28.017167  5522.786693          1\n",
       "1998        1999  43756.056605  63.971796  1622.722598          0\n",
       "1999        2000  69436.579552  56.152617  7378.833599          0\n",
       "\n",
       "[2000 rows x 5 columns]>"
      ]
     },
     "metadata": {},
     "execution_count": 13
    }
   ],
   "source": [
    "path_databases = os.path.join(os.getcwd() + '/../../databases')\n",
    "df = pd.read_csv(path_databases + \"/credit_data.csv\")\n",
    "\n",
    "df.info\n"
   ]
  },
  {
   "cell_type": "code",
   "execution_count": 11,
   "metadata": {},
   "outputs": [],
   "source": [
    "df.loc[df.age < 0, \"age\"] = 40.92  # df.age[df.age > 0].mean())\n"
   ]
  },
  {
   "cell_type": "code",
   "execution_count": 12,
   "metadata": {},
   "outputs": [
    {
     "output_type": "execute_result",
     "data": {
      "text/plain": [
       "(2000, 5)"
      ]
     },
     "metadata": {},
     "execution_count": 12
    }
   ],
   "source": [
    "df.shape"
   ]
  },
  {
   "cell_type": "code",
   "execution_count": 13,
   "metadata": {},
   "outputs": [
    {
     "output_type": "stream",
     "name": "stdout",
     "text": [
      "<class 'pandas.core.frame.DataFrame'>\nRangeIndex: 2000 entries, 0 to 1999\nData columns (total 5 columns):\n #   Column      Non-Null Count  Dtype  \n---  ------      --------------  -----  \n 0   i#clientid  2000 non-null   int64  \n 1   income      2000 non-null   float64\n 2   age         1997 non-null   float64\n 3   loan        2000 non-null   float64\n 4   c#default   2000 non-null   int64  \ndtypes: float64(3), int64(2)\nmemory usage: 78.2 KB\n"
     ]
    }
   ],
   "source": [
    "df.info()"
   ]
  },
  {
   "cell_type": "code",
   "execution_count": 14,
   "metadata": {},
   "outputs": [
    {
     "output_type": "execute_result",
     "data": {
      "text/plain": [
       "        i#clientid        income          age          loan    c#default\n",
       "count  2000.000000   2000.000000  1997.000000   2000.000000  2000.000000\n",
       "mean   1000.500000  45331.600018    40.807559   4444.369695     0.141500\n",
       "std     577.494589  14326.327119    13.624469   3045.410024     0.348624\n",
       "min       1.000000  20014.489470   -52.423280      1.377630     0.000000\n",
       "25%     500.750000  32796.459717    28.990415   1939.708847     0.000000\n",
       "50%    1000.500000  45789.117313    41.317159   3974.719419     0.000000\n",
       "75%    1500.250000  57791.281668    52.587040   6432.410625     0.000000\n",
       "max    2000.000000  69995.685578    63.971796  13766.051239     1.000000"
      ],
      "text/html": "<div>\n<style scoped>\n    .dataframe tbody tr th:only-of-type {\n        vertical-align: middle;\n    }\n\n    .dataframe tbody tr th {\n        vertical-align: top;\n    }\n\n    .dataframe thead th {\n        text-align: right;\n    }\n</style>\n<table border=\"1\" class=\"dataframe\">\n  <thead>\n    <tr style=\"text-align: right;\">\n      <th></th>\n      <th>i#clientid</th>\n      <th>income</th>\n      <th>age</th>\n      <th>loan</th>\n      <th>c#default</th>\n    </tr>\n  </thead>\n  <tbody>\n    <tr>\n      <th>count</th>\n      <td>2000.000000</td>\n      <td>2000.000000</td>\n      <td>1997.000000</td>\n      <td>2000.000000</td>\n      <td>2000.000000</td>\n    </tr>\n    <tr>\n      <th>mean</th>\n      <td>1000.500000</td>\n      <td>45331.600018</td>\n      <td>40.807559</td>\n      <td>4444.369695</td>\n      <td>0.141500</td>\n    </tr>\n    <tr>\n      <th>std</th>\n      <td>577.494589</td>\n      <td>14326.327119</td>\n      <td>13.624469</td>\n      <td>3045.410024</td>\n      <td>0.348624</td>\n    </tr>\n    <tr>\n      <th>min</th>\n      <td>1.000000</td>\n      <td>20014.489470</td>\n      <td>-52.423280</td>\n      <td>1.377630</td>\n      <td>0.000000</td>\n    </tr>\n    <tr>\n      <th>25%</th>\n      <td>500.750000</td>\n      <td>32796.459717</td>\n      <td>28.990415</td>\n      <td>1939.708847</td>\n      <td>0.000000</td>\n    </tr>\n    <tr>\n      <th>50%</th>\n      <td>1000.500000</td>\n      <td>45789.117313</td>\n      <td>41.317159</td>\n      <td>3974.719419</td>\n      <td>0.000000</td>\n    </tr>\n    <tr>\n      <th>75%</th>\n      <td>1500.250000</td>\n      <td>57791.281668</td>\n      <td>52.587040</td>\n      <td>6432.410625</td>\n      <td>0.000000</td>\n    </tr>\n    <tr>\n      <th>max</th>\n      <td>2000.000000</td>\n      <td>69995.685578</td>\n      <td>63.971796</td>\n      <td>13766.051239</td>\n      <td>1.000000</td>\n    </tr>\n  </tbody>\n</table>\n</div>"
     },
     "metadata": {},
     "execution_count": 14
    }
   ],
   "source": [
    "df.describe()"
   ]
  },
  {
   "cell_type": "code",
   "execution_count": 15,
   "metadata": {},
   "outputs": [],
   "source": [
    "previsores = df.iloc[:, 1:4].values\n",
    "classe = df.iloc[:, 4]"
   ]
  },
  {
   "cell_type": "code",
   "execution_count": 16,
   "metadata": {},
   "outputs": [],
   "source": [
    "from sklearn.impute import SimpleImputer\n",
    "\n",
    "imputer = SimpleImputer(missing_values=np.nan, strategy=\"mean\")\n",
    "imputer = imputer.fit(previsores[:, 1:4])"
   ]
  },
  {
   "cell_type": "code",
   "execution_count": 17,
   "metadata": {},
   "outputs": [],
   "source": [
    "previsores[:, 1:4] = imputer.transform(previsores[:, 1:4])"
   ]
  },
  {
   "cell_type": "code",
   "execution_count": 18,
   "metadata": {},
   "outputs": [],
   "source": [
    "from sklearn.preprocessing import StandardScaler\n",
    "\n",
    "scaler = StandardScaler()\n",
    "previsores = scaler.fit_transform(previsores)"
   ]
  },
  {
   "cell_type": "code",
   "execution_count": 19,
   "metadata": {},
   "outputs": [],
   "source": [
    "from sklearn.model_selection import train_test_split\n",
    "\n",
    "(\n",
    "    previsores_trainamento,\n",
    "    previsores_teste,\n",
    "    classe_treinamento,\n",
    "    classe_teste,\n",
    ") = train_test_split(previsores, classe, test_size=0.25, random_state=0)"
   ]
  },
  {
   "cell_type": "code",
   "execution_count": 27,
   "metadata": {},
   "outputs": [],
   "source": [
    "from sklearn.ensemble import RandomForestClassifier\n",
    "rf = RandomForestClassifier(n_estimators=10, criterion=\"entropy\", random_state=0)\n",
    "rf = rf.fit(previsores_trainamento, classe_treinamento)\n",
    "forecast = rf.predict(previsores_teste)"
   ]
  },
  {
   "cell_type": "code",
   "execution_count": 28,
   "metadata": {},
   "outputs": [],
   "source": [
    "from sklearn.metrics import confusion_matrix, accuracy_score\n",
    "\n",
    "precision = accuracy_score(classe_teste, forecast)\n",
    "matrix = confusion_matrix(classe_teste, forecast)"
   ]
  },
  {
   "cell_type": "code",
   "execution_count": null,
   "metadata": {},
   "outputs": [],
   "source": []
  }
 ]
}
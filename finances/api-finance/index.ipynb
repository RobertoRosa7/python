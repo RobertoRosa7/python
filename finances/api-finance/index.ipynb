{
 "cells": [
  {
   "cell_type": "code",
   "execution_count": null,
   "metadata": {},
   "outputs": [],
   "source": [
    "import requests"
   ]
  },
  {
   "cell_type": "code",
   "execution_count": null,
   "metadata": {},
   "outputs": [],
   "source": [
    "URL_BASE = 'http://localhost:8080'\n",
    "URI = '/parking-spot'"
   ]
  },
  {
   "cell_type": "code",
   "execution_count": null,
   "metadata": {},
   "outputs": [],
   "source": [
    "body = requests.get(URL_BASE + URI)\n",
    "print(body.json())"
   ]
  }
 ],
 "metadata": {
  "kernelspec": {
   "display_name": ".virtenv",
   "language": "python",
   "name": "python3"
  },
  "language_info": {
   "name": "python",
   "version": "3.10.9 (main, Dec  7 2022, 13:47:07) [GCC 12.2.0]"
  },
  "orig_nbformat": 4,
  "vscode": {
   "interpreter": {
    "hash": "ba8d7f511d8bc67dfdde966ff5fb1ec5dc3f82972ade794bfe454c3efce046b2"
   }
  }
 },
 "nbformat": 4,
 "nbformat_minor": 2
}

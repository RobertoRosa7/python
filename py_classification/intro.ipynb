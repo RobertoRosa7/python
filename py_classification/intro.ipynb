{
 "cells": [
  {
   "cell_type": "code",
   "execution_count": 1,
   "metadata": {},
   "outputs": [],
   "source": [
    "# features (1 sim, 0 não)\n",
    "# pelo longo?\n",
    "# perna curta?\n",
    "# faz auau?\n",
    "\n",
    "porco = [0, 1, 0]\n",
    "porco1 = [0, 1, 0]\n",
    "porco2 = [1, 1, 0]\n",
    "\n",
    "cachorro = [0, 1, 1]\n",
    "cachorro1 = [1, 0, 1]\n",
    "cachorro2 = [1, 1 ,1]\n",
    "\n",
    "treino_x = [porco,porco1, porco2, cachorro, cachorro1, cachorro2]\n",
    "treino_y = [1,1,1,0,0,0]"
   ]
  },
  {
   "cell_type": "code",
   "execution_count": 2,
   "metadata": {},
   "outputs": [
    {
     "data": {
      "text/plain": [
       "LinearSVC()"
      ]
     },
     "execution_count": 2,
     "metadata": {},
     "output_type": "execute_result"
    }
   ],
   "source": [
    "from sklearn.svm import LinearSVC\n",
    "model = LinearSVC()\n",
    "model.fit(treino_x, treino_y)"
   ]
  },
  {
   "cell_type": "code",
   "execution_count": 3,
   "metadata": {},
   "outputs": [
    {
     "data": {
      "text/plain": [
       "array([0])"
      ]
     },
     "execution_count": 3,
     "metadata": {},
     "output_type": "execute_result"
    }
   ],
   "source": [
    "animal_misterioso = [1,1,1]\n",
    "model.predict([animal_misterioso])"
   ]
  },
  {
   "cell_type": "code",
   "execution_count": 4,
   "metadata": {},
   "outputs": [],
   "source": [
    "misterio1 = [1,1,1]\n",
    "misterio2 = [1,1,0]\n",
    "misterio3 = [0,1,1]\n",
    "teste_x = [misterio1, misterio2, misterio3]\n",
    "teste_y = [0, 1, 1]\n",
    "previsoes = model.predict(teste_x)"
   ]
  },
  {
   "cell_type": "code",
   "execution_count": 7,
   "metadata": {},
   "outputs": [
    {
     "name": "stdout",
     "output_type": "stream",
     "text": [
      "Taxa de acerto: 66.67\n"
     ]
    }
   ],
   "source": [
    "corretos = (previsoes == teste_y).sum()\n",
    "total = len(teste_x)\n",
    "taxa = corretos/total\n",
    "print(\"Taxa de acerto: %.2f\" % (taxa * 100))"
   ]
  },
  {
   "cell_type": "code",
   "execution_count": 8,
   "metadata": {},
   "outputs": [
    {
     "name": "stdout",
     "output_type": "stream",
     "text": [
      "Taxa de acerto: 66.67\n"
     ]
    }
   ],
   "source": [
    "from sklearn.metrics import accuracy_score\n",
    "taxa_acerto = accuracy_score(teste_y, previsoes)\n",
    "print(\"Taxa de acerto: %.2f\" % (taxa_acerto * 100))"
   ]
  }
 ],
 "metadata": {
  "interpreter": {
   "hash": "556a2ac426a87100d24131df5df4cd6f08a8e50034730ea27cbc9e68ba3ead9c"
  },
  "kernelspec": {
   "display_name": "Python 3.10.2 ('.venv': venv)",
   "language": "python",
   "name": "python3"
  },
  "language_info": {
   "codemirror_mode": {
    "name": "ipython",
    "version": 3
   },
   "file_extension": ".py",
   "mimetype": "text/x-python",
   "name": "python",
   "nbconvert_exporter": "python",
   "pygments_lexer": "ipython3",
   "version": "3.10.2"
  },
  "orig_nbformat": 4
 },
 "nbformat": 4,
 "nbformat_minor": 2
}

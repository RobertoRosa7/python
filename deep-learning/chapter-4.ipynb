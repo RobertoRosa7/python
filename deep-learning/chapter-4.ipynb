{
 "cells": [
  {
   "attachments": {},
   "cell_type": "markdown",
   "metadata": {},
   "source": [
    "<h1>Chapter 4 - Fundamentals of Machine Learning</h1>"
   ]
  },
  {
   "attachments": {},
   "cell_type": "markdown",
   "metadata": {},
   "source": [
    "<h2>This chapter cover</h2>\n",
    "<ul>\n",
    "<li>Forms of machine learning beyond classification and regression</li>\n",
    "<li>Formal evaluation procedures for machine learning models</li>\n",
    "<li>Preparing Data for Deep Learning</li>\n",
    "<li>Feature engineering</li>\n",
    "<li>Tackling Overfitting</li>\n",
    "<li>The universal workflow for approaching machine learning problems</li>\n",
    "</ul>"
   ]
  },
  {
   "attachments": {},
   "cell_type": "markdown",
   "metadata": {},
   "source": [
    "<h3>4.1.1 Supervised learning</h3>\n",
    "<p>\n",
    "Generally, almost all applications of deep learning that are in the spotlight thsese days belongs in this category\n",
    "such as:\n",
    "</p>\n",
    "\n",
    "<ul>\n",
    "<li>Optical Character Recognition</li>\n",
    "<li>Speech Recognition</li>\n",
    "<li>Image Classification</li>\n",
    "<li>Language Translation</li>\n",
    "<li>Sequence Generation</li>\n",
    "<li>Syntax Tree Prediction</li>\n",
    "<li>Object Detection</li>\n",
    "<li>Image Segmentation</li>\n",
    "</ul>"
   ]
  },
  {
   "attachments": {},
   "cell_type": "markdown",
   "metadata": {},
   "source": [
    "<h3>4.1.2 Unsupervised learning</h3>\n",
    "<p>\n",
    "Consists of finding interesting transformations of the input data without the help of any targerts, for the purposes\n",
    "of data visualization\n",
    "</p>\n",
    "\n",
    "<ul>\n",
    "<li>Data Visualization</li>\n",
    "<li>Data Compression</li>\n",
    "<li>Data Denoising or to better understand the correlations the data at hand.</li>\n",
    "<li>Dimensinality Reduction</li>\n",
    "<li>Clustering</li>\n",
    "</ul>"
   ]
  },
  {
   "attachments": {},
   "cell_type": "markdown",
   "metadata": {},
   "source": [
    "<h3>Classification and Regression Glossary</h3>\n",
    "\n",
    "<ul>\n",
    "<li><i style=\"color: yellow\">Sample or Input</i> - One Data point that goes into your model</li>\n",
    "<li><i style=\"color: yellow\">Prediction or Ouput</i> - What comes out yout model\n",
    "<li><i style=\"color: yellow\">Target</i> - The Truth. What your model should ideally have predicted, according to an external source data</li>\n",
    "<li><i style=\"color: yellow\">Prediction Error or Loss Value </i> - A measure of the distance between yout model's prediction and the target</li>\n",
    "<li><i style=\"color: yellow\">Classes</i> - A set of possible labels to choose from in a classification problem</li>\n",
    "<li><i style=\"color: yellow\">Label</i> - A specific instance of a class annotation in a classification. </br>For instance, if picture #123 is annotated as containing the  cass 'dog' then 'dog' is a label of picture #123</li>\n",
    "<li><i style=\"color: yellow\">Ground-truth or Annotations</i> - All targets for a dataset, typically collected by humans</li>\n",
    "<li><i style=\"color: yellow\">Binary classification</i> - A classification task where each input sample should be categorized into two exclusive categories</li>\n",
    "<li><i style=\"color: yellow\">Multiclass classification</i> - A classification task where each input sample should be categorized </br> into more than two categories: for instance, classifying handwritten digits.</li>\n",
    "<li><i style=\"color: yellow\">Multilabel classification</i> A classification taks where each input sample can be assigned multiple labels. </br> Give image may contain both a cat and a dog and should be annotated both with the cat label and the dog label.</li>\n",
    "<li><i style=\"color: yellow\">Scalar regressin</i> - A task where the target is a continous scalr value. Predicting house prices is a good example.</li>\n",
    "<li><i style=\"color:yellow\">Vector regression</i> - A task where the target i a set of continous values: For example, a continous vector. </br> If you're doing regression against multiple values, (such as the coordinate of a bounding box in an image), then you're doing vector regression.</li>\n",
    "</ul>"
   ]
  },
  {
   "attachments": {},
   "cell_type": "markdown",
   "metadata": {},
   "source": [
    "<h4>4.1 Hold-out validation</h4>"
   ]
  },
  {
   "cell_type": "code",
   "execution_count": 56,
   "metadata": {},
   "outputs": [],
   "source": [
    "from keras.models import Sequential\n",
    "from keras.layers import Dense, Dropout\n",
    "from keras.datasets import boston_housing\n",
    "import numpy as np"
   ]
  },
  {
   "attachments": {},
   "cell_type": "markdown",
   "metadata": {},
   "source": [
    "<h4>4.3 Original Model</h4>"
   ]
  },
  {
   "cell_type": "code",
   "execution_count": 10,
   "metadata": {},
   "outputs": [],
   "source": [
    "normal = Sequential()\n",
    "normal.add(Dense(16, activation='relu', input_shape=(1000, )))\n",
    "normal.add(Dense(16, activation='relu'))\n",
    "normal.add(Dense(1, activation='sigmoid'))"
   ]
  },
  {
   "attachments": {},
   "cell_type": "markdown",
   "metadata": {},
   "source": [
    "<h4>4.3 Version of the model with lower capacity</h4>"
   ]
  },
  {
   "cell_type": "code",
   "execution_count": 11,
   "metadata": {},
   "outputs": [],
   "source": [
    "lower = Sequential()\n",
    "lower.add(Dense(4, activation='relu', input_shape=(1000, )))\n",
    "lower.add(Dense(4, activation='relu'))\n",
    "lower.add(Dense(1, activation='sigmoid'))"
   ]
  },
  {
   "attachments": {},
   "cell_type": "markdown",
   "metadata": {},
   "source": [
    "<h4>4.4 Version of the model with higher capacity</h4>"
   ]
  },
  {
   "cell_type": "code",
   "execution_count": 13,
   "metadata": {},
   "outputs": [],
   "source": [
    "higher = Sequential()\n",
    "higher.add(Dense(512, activation='relu', input_shape=(1000, )))\n",
    "higher.add(Dense(512, activation='relu'))\n",
    "higher.add(Dense(1, activation='sigmoid'))"
   ]
  },
  {
   "attachments": {},
   "cell_type": "markdown",
   "metadata": {},
   "source": [
    "<h4>4.6 Adding L2 weight regularization to the model</h4>"
   ]
  },
  {
   "cell_type": "code",
   "execution_count": 16,
   "metadata": {},
   "outputs": [],
   "source": [
    "from keras import regularizers\n",
    "\n",
    "L2 = Sequential()\n",
    "L2.add(Dense(16, kernel_regularizer=regularizers.l2(0.001), activation='relu', input_shape=(1000,)))\n",
    "L2.add(Dense(16, kernel_regularizer=regularizers.l2(0.001), activation='relu'))\n",
    "L2.add(Dense(1,  activation='sigmoid'))\n",
    "\n",
    "# l2(0.001) means every coefficient in the  weight matrix of the layer will add 0.001 * weight_coefficient_value \n",
    "# to the total loss of the network."
   ]
  },
  {
   "attachments": {},
   "cell_type": "markdown",
   "metadata": {},
   "source": [
    "<h3>4.4.3 Adding Dropout</h3>"
   ]
  },
  {
   "cell_type": "code",
   "execution_count": 55,
   "metadata": {},
   "outputs": [
    {
     "data": {
      "text/plain": [
       "array([list([0.3, 0.2, 1.5, 0.0]), list([0.6, 0.1, 0.0, 0.3]),\n",
       "       list([0.2, 1, 9, 0.3, 1.2]), list([0.7, 0.5, 1.0, 0.0])],\n",
       "      dtype=object)"
      ]
     },
     "execution_count": 55,
     "metadata": {},
     "output_type": "execute_result"
    }
   ],
   "source": [
    "layer_output = np.array([\n",
    "  [0.3, 0.2, 1.5, 0.0], \n",
    "  [0.6, 0.1, 0.0, 0.3], \n",
    "  [0.2, 1,9, 0.3, 1.2], \n",
    "  [0.7, 0.5, 1.0, 0.0]\n",
    "  ], dtype=object)\n",
    "layer_output"
   ]
  },
  {
   "cell_type": "code",
   "execution_count": 54,
   "metadata": {},
   "outputs": [
    {
     "data": {
      "text/plain": [
       "array([list([0.3, 0.2, 1.5, 0.0]), list([]), list([]), list([])],\n",
       "      dtype=object)"
      ]
     },
     "execution_count": 54,
     "metadata": {},
     "output_type": "execute_result"
    }
   ],
   "source": [
    "# At training time, drops out 50% of the units in the output\n",
    "layer_output *= np.random.randint(0, high=2, size=layer_output.shape)\n",
    "layer_output"
   ]
  },
  {
   "cell_type": "code",
   "execution_count": 57,
   "metadata": {},
   "outputs": [],
   "source": [
    "dropout = Sequential()\n",
    "dropout.add(Dense(16, activation='relu', input_shape=(1000,)))\n",
    "dropout.add(Dropout(0.5))\n",
    "dropout.add(Dense(16, activation='relu'))\n",
    "dropout.add(Dropout(0.5))\n",
    "dropout.add(Dense(1,  activation='sigmoid'))"
   ]
  },
  {
   "attachments": {},
   "cell_type": "markdown",
   "metadata": {},
   "source": [
    "|Problem Type| Activation | Loss |\n",
    "|------------|------------|------|\n",
    "|Binary classification| sigmoid | binary_crossentroyp |\n",
    "|Multiclass classification | softmax | categorical_crossentroypy |\n",
    "|Muliclass, multilabel classification | sigmoid | binary_crossentropy |\n",
    "|Regression to arbitrary values | None | mse |\n",
    "|Regression to values between 0 and 1 | sigmoid | mse or binary_crossentropy |"
   ]
  },
  {
   "attachments": {},
   "cell_type": "markdown",
   "metadata": {},
   "source": [
    "<h3>4.5.6 Scaling up: Developing a model that overfits</h3>\n",
    "<ol>\n",
    "<li>Add layers</li>\n",
    "<li>Make the layer bigger</li>\n",
    "<li>Train for more epochs</li>\n",
    "</ol>"
   ]
  },
  {
   "attachments": {},
   "cell_type": "markdown",
   "metadata": {},
   "source": [
    "<h3>4.5.7 Regularizing your model and tuning your hyperparameters</h3>\n",
    "<ol>\n",
    "<li>Add Dropout</li>\n",
    "<li>Try different architectures - add or remove layers\n",
    "<li>Add L1 and/or L2 regularization</li>\n",
    "<li>Try different hyperparameters</li>\n",
    "<li>Add new features, remover features that don't seem to be informative</li>\n",
    "</ol>"
   ]
  },
  {
   "cell_type": "code",
   "execution_count": null,
   "metadata": {},
   "outputs": [],
   "source": []
  }
 ],
 "metadata": {
  "kernelspec": {
   "display_name": ".venv",
   "language": "python",
   "name": "python3"
  },
  "language_info": {
   "codemirror_mode": {
    "name": "ipython",
    "version": 3
   },
   "file_extension": ".py",
   "mimetype": "text/x-python",
   "name": "python",
   "nbconvert_exporter": "python",
   "pygments_lexer": "ipython3",
   "version": "3.7.0"
  },
  "orig_nbformat": 4,
  "vscode": {
   "interpreter": {
    "hash": "6b013ac445834e07e86657ff0fef9b05f2a8af94d8e0df6f3a8b0b2971656434"
   }
  }
 },
 "nbformat": 4,
 "nbformat_minor": 2
}

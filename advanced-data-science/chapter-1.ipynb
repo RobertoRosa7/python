{
 "cells": [
  {
   "cell_type": "code",
   "execution_count": 1,
   "metadata": {},
   "outputs": [],
   "source": [
    "import numpy as np\n",
    "import pandas as pd\n",
    "from datetime import datetime"
   ]
  },
  {
   "cell_type": "code",
   "execution_count": 2,
   "metadata": {},
   "outputs": [],
   "source": [
    "# We create a dictionary with some sample data\n",
    "data = {'date': [\n",
    "'2018-01-01', '2018-02-01',\n",
    "'2018-03-01', '2018-04-01',\n",
    "'2018-05-01', '2018-06-01',\n",
    "'2018-01-01', '2018-02-01',\n",
    "'2018-03-01', '2018-04-01',\n",
    "'2018-05-01', '2018-06-01'],\n",
    "'visitors': [35, 30, 82, 26, 83, 46, 40, 57, 95, 57, 87, 42]\n",
    "}"
   ]
  },
  {
   "cell_type": "code",
   "execution_count": 3,
   "metadata": {},
   "outputs": [],
   "source": [
    "df = pd.DataFrame(data, columns=['date', 'visitors'])"
   ]
  },
  {
   "cell_type": "code",
   "execution_count": 4,
   "metadata": {},
   "outputs": [
    {
     "data": {
      "text/html": [
       "<div>\n",
       "<style scoped>\n",
       "    .dataframe tbody tr th:only-of-type {\n",
       "        vertical-align: middle;\n",
       "    }\n",
       "\n",
       "    .dataframe tbody tr th {\n",
       "        vertical-align: top;\n",
       "    }\n",
       "\n",
       "    .dataframe thead th {\n",
       "        text-align: right;\n",
       "    }\n",
       "</style>\n",
       "<table border=\"1\" class=\"dataframe\">\n",
       "  <thead>\n",
       "    <tr style=\"text-align: right;\">\n",
       "      <th></th>\n",
       "      <th>date</th>\n",
       "      <th>visitors</th>\n",
       "    </tr>\n",
       "  </thead>\n",
       "  <tbody>\n",
       "    <tr>\n",
       "      <th>0</th>\n",
       "      <td>2018-01-01</td>\n",
       "      <td>35</td>\n",
       "    </tr>\n",
       "    <tr>\n",
       "      <th>1</th>\n",
       "      <td>2018-02-01</td>\n",
       "      <td>30</td>\n",
       "    </tr>\n",
       "    <tr>\n",
       "      <th>2</th>\n",
       "      <td>2018-03-01</td>\n",
       "      <td>82</td>\n",
       "    </tr>\n",
       "    <tr>\n",
       "      <th>3</th>\n",
       "      <td>2018-04-01</td>\n",
       "      <td>26</td>\n",
       "    </tr>\n",
       "    <tr>\n",
       "      <th>4</th>\n",
       "      <td>2018-05-01</td>\n",
       "      <td>83</td>\n",
       "    </tr>\n",
       "  </tbody>\n",
       "</table>\n",
       "</div>"
      ],
      "text/plain": [
       "         date  visitors\n",
       "0  2018-01-01        35\n",
       "1  2018-02-01        30\n",
       "2  2018-03-01        82\n",
       "3  2018-04-01        26\n",
       "4  2018-05-01        83"
      ]
     },
     "execution_count": 4,
     "metadata": {},
     "output_type": "execute_result"
    }
   ],
   "source": [
    "df.head()"
   ]
  },
  {
   "attachments": {},
   "cell_type": "markdown",
   "metadata": {},
   "source": [
    "Notice that when looking at the dataset, the rows have been given a number (starting with 0)"
   ]
  },
  {
   "cell_type": "code",
   "execution_count": 5,
   "metadata": {},
   "outputs": [
    {
     "data": {
      "text/plain": [
       "date        object\n",
       "visitors     int64\n",
       "dtype: object"
      ]
     },
     "execution_count": 5,
     "metadata": {},
     "output_type": "execute_result"
    }
   ],
   "source": [
    "df.dtypes"
   ]
  },
  {
   "attachments": {},
   "cell_type": "markdown",
   "metadata": {},
   "source": [
    "The *visitors* column is of interger type, but the date column is shown to be an object. We know that this is a date and it would be preferable to use a more relevant type.\n",
    "We can change this column with to_datetime"
   ]
  },
  {
   "cell_type": "code",
   "execution_count": 6,
   "metadata": {},
   "outputs": [],
   "source": [
    "# we can use to to_datetime method to convert Pandas columns into date object\n",
    "df['date'] = pd.to_datetime(df['date'])\n",
    "\n",
    "# We set index and sort the dataframe by that index\n",
    "df.set_index('date', inplace=True)\n",
    "df.sort_index(inplace=True)"
   ]
  },
  {
   "attachments": {},
   "cell_type": "markdown",
   "metadata": {},
   "source": [
    "> The inplace property lets us make changes direclty to the dataframe. Otherwise, we would need to make copies of it to appy the changes."
   ]
  },
  {
   "cell_type": "code",
   "execution_count": 7,
   "metadata": {},
   "outputs": [
    {
     "data": {
      "text/html": [
       "<div>\n",
       "<style scoped>\n",
       "    .dataframe tbody tr th:only-of-type {\n",
       "        vertical-align: middle;\n",
       "    }\n",
       "\n",
       "    .dataframe tbody tr th {\n",
       "        vertical-align: top;\n",
       "    }\n",
       "\n",
       "    .dataframe thead th {\n",
       "        text-align: right;\n",
       "    }\n",
       "</style>\n",
       "<table border=\"1\" class=\"dataframe\">\n",
       "  <thead>\n",
       "    <tr style=\"text-align: right;\">\n",
       "      <th></th>\n",
       "      <th>visitors</th>\n",
       "    </tr>\n",
       "    <tr>\n",
       "      <th>date</th>\n",
       "      <th></th>\n",
       "    </tr>\n",
       "  </thead>\n",
       "  <tbody>\n",
       "    <tr>\n",
       "      <th>2018-01-01</th>\n",
       "      <td>35</td>\n",
       "    </tr>\n",
       "    <tr>\n",
       "      <th>2018-01-01</th>\n",
       "      <td>40</td>\n",
       "    </tr>\n",
       "    <tr>\n",
       "      <th>2018-02-01</th>\n",
       "      <td>30</td>\n",
       "    </tr>\n",
       "    <tr>\n",
       "      <th>2018-02-01</th>\n",
       "      <td>57</td>\n",
       "    </tr>\n",
       "    <tr>\n",
       "      <th>2018-03-01</th>\n",
       "      <td>82</td>\n",
       "    </tr>\n",
       "  </tbody>\n",
       "</table>\n",
       "</div>"
      ],
      "text/plain": [
       "            visitors\n",
       "date                \n",
       "2018-01-01        35\n",
       "2018-01-01        40\n",
       "2018-02-01        30\n",
       "2018-02-01        57\n",
       "2018-03-01        82"
      ]
     },
     "execution_count": 7,
     "metadata": {},
     "output_type": "execute_result"
    }
   ],
   "source": [
    "df.head()"
   ]
  },
  {
   "cell_type": "code",
   "execution_count": 8,
   "metadata": {},
   "outputs": [
    {
     "name": "stderr",
     "output_type": "stream",
     "text": [
      "/tmp/ipykernel_62969/1179810648.py:2: FutureWarning: Indexing a DataFrame with a datetimelike index using a single string to slice the rows, like `frame[string]`, is deprecated and will be removed in a future version. Use `frame.loc[string]` instead.\n",
      "  df['2018']\n"
     ]
    },
    {
     "data": {
      "text/html": [
       "<div>\n",
       "<style scoped>\n",
       "    .dataframe tbody tr th:only-of-type {\n",
       "        vertical-align: middle;\n",
       "    }\n",
       "\n",
       "    .dataframe tbody tr th {\n",
       "        vertical-align: top;\n",
       "    }\n",
       "\n",
       "    .dataframe thead th {\n",
       "        text-align: right;\n",
       "    }\n",
       "</style>\n",
       "<table border=\"1\" class=\"dataframe\">\n",
       "  <thead>\n",
       "    <tr style=\"text-align: right;\">\n",
       "      <th></th>\n",
       "      <th>visitors</th>\n",
       "    </tr>\n",
       "    <tr>\n",
       "      <th>date</th>\n",
       "      <th></th>\n",
       "    </tr>\n",
       "  </thead>\n",
       "  <tbody>\n",
       "    <tr>\n",
       "      <th>2018-01-01</th>\n",
       "      <td>35</td>\n",
       "    </tr>\n",
       "    <tr>\n",
       "      <th>2018-01-01</th>\n",
       "      <td>40</td>\n",
       "    </tr>\n",
       "    <tr>\n",
       "      <th>2018-02-01</th>\n",
       "      <td>30</td>\n",
       "    </tr>\n",
       "    <tr>\n",
       "      <th>2018-02-01</th>\n",
       "      <td>57</td>\n",
       "    </tr>\n",
       "    <tr>\n",
       "      <th>2018-03-01</th>\n",
       "      <td>82</td>\n",
       "    </tr>\n",
       "    <tr>\n",
       "      <th>2018-03-01</th>\n",
       "      <td>95</td>\n",
       "    </tr>\n",
       "    <tr>\n",
       "      <th>2018-04-01</th>\n",
       "      <td>26</td>\n",
       "    </tr>\n",
       "    <tr>\n",
       "      <th>2018-04-01</th>\n",
       "      <td>57</td>\n",
       "    </tr>\n",
       "    <tr>\n",
       "      <th>2018-05-01</th>\n",
       "      <td>83</td>\n",
       "    </tr>\n",
       "    <tr>\n",
       "      <th>2018-05-01</th>\n",
       "      <td>87</td>\n",
       "    </tr>\n",
       "    <tr>\n",
       "      <th>2018-06-01</th>\n",
       "      <td>46</td>\n",
       "    </tr>\n",
       "    <tr>\n",
       "      <th>2018-06-01</th>\n",
       "      <td>42</td>\n",
       "    </tr>\n",
       "  </tbody>\n",
       "</table>\n",
       "</div>"
      ],
      "text/plain": [
       "            visitors\n",
       "date                \n",
       "2018-01-01        35\n",
       "2018-01-01        40\n",
       "2018-02-01        30\n",
       "2018-02-01        57\n",
       "2018-03-01        82\n",
       "2018-03-01        95\n",
       "2018-04-01        26\n",
       "2018-04-01        57\n",
       "2018-05-01        83\n",
       "2018-05-01        87\n",
       "2018-06-01        46\n",
       "2018-06-01        42"
      ]
     },
     "execution_count": 8,
     "metadata": {},
     "output_type": "execute_result"
    }
   ],
   "source": [
    "# all data points\n",
    "df['2018']"
   ]
  },
  {
   "cell_type": "code",
   "execution_count": 9,
   "metadata": {},
   "outputs": [
    {
     "name": "stderr",
     "output_type": "stream",
     "text": [
      "/tmp/ipykernel_62969/3123795720.py:2: FutureWarning: Indexing a DataFrame with a datetimelike index using a single string to slice the rows, like `frame[string]`, is deprecated and will be removed in a future version. Use `frame.loc[string]` instead.\n",
      "  df['2018-05']\n"
     ]
    },
    {
     "data": {
      "text/html": [
       "<div>\n",
       "<style scoped>\n",
       "    .dataframe tbody tr th:only-of-type {\n",
       "        vertical-align: middle;\n",
       "    }\n",
       "\n",
       "    .dataframe tbody tr th {\n",
       "        vertical-align: top;\n",
       "    }\n",
       "\n",
       "    .dataframe thead th {\n",
       "        text-align: right;\n",
       "    }\n",
       "</style>\n",
       "<table border=\"1\" class=\"dataframe\">\n",
       "  <thead>\n",
       "    <tr style=\"text-align: right;\">\n",
       "      <th></th>\n",
       "      <th>visitors</th>\n",
       "    </tr>\n",
       "    <tr>\n",
       "      <th>date</th>\n",
       "      <th></th>\n",
       "    </tr>\n",
       "  </thead>\n",
       "  <tbody>\n",
       "    <tr>\n",
       "      <th>2018-05-01</th>\n",
       "      <td>83</td>\n",
       "    </tr>\n",
       "    <tr>\n",
       "      <th>2018-05-01</th>\n",
       "      <td>87</td>\n",
       "    </tr>\n",
       "  </tbody>\n",
       "</table>\n",
       "</div>"
      ],
      "text/plain": [
       "            visitors\n",
       "date                \n",
       "2018-05-01        83\n",
       "2018-05-01        87"
      ]
     },
     "execution_count": 9,
     "metadata": {},
     "output_type": "execute_result"
    }
   ],
   "source": [
    "# Here we are filtering for the visitors in May\n",
    "df['2018-05']"
   ]
  },
  {
   "attachments": {},
   "cell_type": "markdown",
   "metadata": {},
   "source": [
    "Other slicing and dicing techniques used in collection objects are possible thanks to the use of the colon notation"
   ]
  },
  {
   "cell_type": "code",
   "execution_count": 10,
   "metadata": {},
   "outputs": [
    {
     "data": {
      "text/html": [
       "<div>\n",
       "<style scoped>\n",
       "    .dataframe tbody tr th:only-of-type {\n",
       "        vertical-align: middle;\n",
       "    }\n",
       "\n",
       "    .dataframe tbody tr th {\n",
       "        vertical-align: top;\n",
       "    }\n",
       "\n",
       "    .dataframe thead th {\n",
       "        text-align: right;\n",
       "    }\n",
       "</style>\n",
       "<table border=\"1\" class=\"dataframe\">\n",
       "  <thead>\n",
       "    <tr style=\"text-align: right;\">\n",
       "      <th></th>\n",
       "      <th>visitors</th>\n",
       "    </tr>\n",
       "    <tr>\n",
       "      <th>date</th>\n",
       "      <th></th>\n",
       "    </tr>\n",
       "  </thead>\n",
       "  <tbody>\n",
       "    <tr>\n",
       "      <th>2018-03-01</th>\n",
       "      <td>82</td>\n",
       "    </tr>\n",
       "    <tr>\n",
       "      <th>2018-03-01</th>\n",
       "      <td>95</td>\n",
       "    </tr>\n",
       "    <tr>\n",
       "      <th>2018-04-01</th>\n",
       "      <td>26</td>\n",
       "    </tr>\n",
       "    <tr>\n",
       "      <th>2018-04-01</th>\n",
       "      <td>57</td>\n",
       "    </tr>\n",
       "    <tr>\n",
       "      <th>2018-05-01</th>\n",
       "      <td>83</td>\n",
       "    </tr>\n",
       "    <tr>\n",
       "      <th>2018-05-01</th>\n",
       "      <td>87</td>\n",
       "    </tr>\n",
       "    <tr>\n",
       "      <th>2018-06-01</th>\n",
       "      <td>46</td>\n",
       "    </tr>\n",
       "    <tr>\n",
       "      <th>2018-06-01</th>\n",
       "      <td>42</td>\n",
       "    </tr>\n",
       "  </tbody>\n",
       "</table>\n",
       "</div>"
      ],
      "text/plain": [
       "            visitors\n",
       "date                \n",
       "2018-03-01        82\n",
       "2018-03-01        95\n",
       "2018-04-01        26\n",
       "2018-04-01        57\n",
       "2018-05-01        83\n",
       "2018-05-01        87\n",
       "2018-06-01        46\n",
       "2018-06-01        42"
      ]
     },
     "execution_count": 10,
     "metadata": {},
     "output_type": "execute_result"
    }
   ],
   "source": [
    "df[datetime(2018, 3, 1):]"
   ]
  },
  {
   "attachments": {},
   "cell_type": "markdown",
   "metadata": {},
   "source": [
    "The *truncate* methods can help us keep all the data points before or after a given data. In this case, let us ask for the data up to March 2018."
   ]
  },
  {
   "cell_type": "code",
   "execution_count": 11,
   "metadata": {},
   "outputs": [
    {
     "data": {
      "text/html": [
       "<div>\n",
       "<style scoped>\n",
       "    .dataframe tbody tr th:only-of-type {\n",
       "        vertical-align: middle;\n",
       "    }\n",
       "\n",
       "    .dataframe tbody tr th {\n",
       "        vertical-align: top;\n",
       "    }\n",
       "\n",
       "    .dataframe thead th {\n",
       "        text-align: right;\n",
       "    }\n",
       "</style>\n",
       "<table border=\"1\" class=\"dataframe\">\n",
       "  <thead>\n",
       "    <tr style=\"text-align: right;\">\n",
       "      <th></th>\n",
       "      <th>visitors</th>\n",
       "    </tr>\n",
       "    <tr>\n",
       "      <th>date</th>\n",
       "      <th></th>\n",
       "    </tr>\n",
       "  </thead>\n",
       "  <tbody>\n",
       "    <tr>\n",
       "      <th>2018-01-01</th>\n",
       "      <td>35</td>\n",
       "    </tr>\n",
       "    <tr>\n",
       "      <th>2018-01-01</th>\n",
       "      <td>40</td>\n",
       "    </tr>\n",
       "    <tr>\n",
       "      <th>2018-02-01</th>\n",
       "      <td>30</td>\n",
       "    </tr>\n",
       "    <tr>\n",
       "      <th>2018-02-01</th>\n",
       "      <td>57</td>\n",
       "    </tr>\n",
       "    <tr>\n",
       "      <th>2018-03-01</th>\n",
       "      <td>82</td>\n",
       "    </tr>\n",
       "    <tr>\n",
       "      <th>2018-03-01</th>\n",
       "      <td>95</td>\n",
       "    </tr>\n",
       "  </tbody>\n",
       "</table>\n",
       "</div>"
      ],
      "text/plain": [
       "            visitors\n",
       "date                \n",
       "2018-01-01        35\n",
       "2018-01-01        40\n",
       "2018-02-01        30\n",
       "2018-02-01        57\n",
       "2018-03-01        82\n",
       "2018-03-01        95"
      ]
     },
     "execution_count": 11,
     "metadata": {},
     "output_type": "execute_result"
    }
   ],
   "source": [
    "# We can truncate the time series with the method\n",
    "df.truncate(after=datetime(2018, 3, 1))"
   ]
  },
  {
   "cell_type": "code",
   "execution_count": 12,
   "metadata": {},
   "outputs": [
    {
     "data": {
      "text/html": [
       "<div>\n",
       "<style scoped>\n",
       "    .dataframe tbody tr th:only-of-type {\n",
       "        vertical-align: middle;\n",
       "    }\n",
       "\n",
       "    .dataframe tbody tr th {\n",
       "        vertical-align: top;\n",
       "    }\n",
       "\n",
       "    .dataframe thead th {\n",
       "        text-align: right;\n",
       "    }\n",
       "</style>\n",
       "<table border=\"1\" class=\"dataframe\">\n",
       "  <thead>\n",
       "    <tr style=\"text-align: right;\">\n",
       "      <th></th>\n",
       "      <th>visitors</th>\n",
       "    </tr>\n",
       "    <tr>\n",
       "      <th>date</th>\n",
       "      <th></th>\n",
       "    </tr>\n",
       "  </thead>\n",
       "  <tbody>\n",
       "    <tr>\n",
       "      <th>2018-01-01</th>\n",
       "      <td>35</td>\n",
       "    </tr>\n",
       "    <tr>\n",
       "      <th>2018-01-01</th>\n",
       "      <td>40</td>\n",
       "    </tr>\n",
       "    <tr>\n",
       "      <th>2018-02-01</th>\n",
       "      <td>30</td>\n",
       "    </tr>\n",
       "    <tr>\n",
       "      <th>2018-02-01</th>\n",
       "      <td>57</td>\n",
       "    </tr>\n",
       "  </tbody>\n",
       "</table>\n",
       "</div>"
      ],
      "text/plain": [
       "            visitors\n",
       "date                \n",
       "2018-01-01        35\n",
       "2018-01-01        40\n",
       "2018-02-01        30\n",
       "2018-02-01        57"
      ]
     },
     "execution_count": 12,
     "metadata": {},
     "output_type": "execute_result"
    }
   ],
   "source": [
    "df.truncate(after=datetime(2018, 2, 1))"
   ]
  },
  {
   "cell_type": "code",
   "execution_count": 13,
   "metadata": {},
   "outputs": [
    {
     "data": {
      "text/html": [
       "<div>\n",
       "<style scoped>\n",
       "    .dataframe tbody tr th:only-of-type {\n",
       "        vertical-align: middle;\n",
       "    }\n",
       "\n",
       "    .dataframe tbody tr th {\n",
       "        vertical-align: top;\n",
       "    }\n",
       "\n",
       "    .dataframe thead th {\n",
       "        text-align: right;\n",
       "    }\n",
       "</style>\n",
       "<table border=\"1\" class=\"dataframe\">\n",
       "  <thead>\n",
       "    <tr style=\"text-align: right;\">\n",
       "      <th></th>\n",
       "      <th>visitors</th>\n",
       "    </tr>\n",
       "    <tr>\n",
       "      <th>date</th>\n",
       "      <th></th>\n",
       "    </tr>\n",
       "  </thead>\n",
       "  <tbody>\n",
       "    <tr>\n",
       "      <th>2018-05-01</th>\n",
       "      <td>83</td>\n",
       "    </tr>\n",
       "    <tr>\n",
       "      <th>2018-05-01</th>\n",
       "      <td>87</td>\n",
       "    </tr>\n",
       "    <tr>\n",
       "      <th>2018-06-01</th>\n",
       "      <td>46</td>\n",
       "    </tr>\n",
       "    <tr>\n",
       "      <th>2018-06-01</th>\n",
       "      <td>42</td>\n",
       "    </tr>\n",
       "  </tbody>\n",
       "</table>\n",
       "</div>"
      ],
      "text/plain": [
       "            visitors\n",
       "date                \n",
       "2018-05-01        83\n",
       "2018-05-01        87\n",
       "2018-06-01        46\n",
       "2018-06-01        42"
      ]
     },
     "execution_count": 13,
     "metadata": {},
     "output_type": "execute_result"
    }
   ],
   "source": [
    "df.truncate(before=datetime(2018, 5, 1))"
   ]
  },
  {
   "cell_type": "code",
   "execution_count": 14,
   "metadata": {},
   "outputs": [
    {
     "data": {
      "text/html": [
       "<div>\n",
       "<style scoped>\n",
       "    .dataframe tbody tr th:only-of-type {\n",
       "        vertical-align: middle;\n",
       "    }\n",
       "\n",
       "    .dataframe tbody tr th {\n",
       "        vertical-align: top;\n",
       "    }\n",
       "\n",
       "    .dataframe thead th {\n",
       "        text-align: right;\n",
       "    }\n",
       "</style>\n",
       "<table border=\"1\" class=\"dataframe\">\n",
       "  <thead>\n",
       "    <tr style=\"text-align: right;\">\n",
       "      <th></th>\n",
       "      <th>visitors</th>\n",
       "    </tr>\n",
       "    <tr>\n",
       "      <th>date</th>\n",
       "      <th></th>\n",
       "    </tr>\n",
       "  </thead>\n",
       "  <tbody>\n",
       "    <tr>\n",
       "      <th>2018-01-01</th>\n",
       "      <td>2</td>\n",
       "    </tr>\n",
       "    <tr>\n",
       "      <th>2018-02-01</th>\n",
       "      <td>2</td>\n",
       "    </tr>\n",
       "    <tr>\n",
       "      <th>2018-03-01</th>\n",
       "      <td>2</td>\n",
       "    </tr>\n",
       "    <tr>\n",
       "      <th>2018-04-01</th>\n",
       "      <td>2</td>\n",
       "    </tr>\n",
       "    <tr>\n",
       "      <th>2018-05-01</th>\n",
       "      <td>2</td>\n",
       "    </tr>\n",
       "    <tr>\n",
       "      <th>2018-06-01</th>\n",
       "      <td>2</td>\n",
       "    </tr>\n",
       "  </tbody>\n",
       "</table>\n",
       "</div>"
      ],
      "text/plain": [
       "            visitors\n",
       "date                \n",
       "2018-01-01         2\n",
       "2018-02-01         2\n",
       "2018-03-01         2\n",
       "2018-04-01         2\n",
       "2018-05-01         2\n",
       "2018-06-01         2"
      ]
     },
     "execution_count": 14,
     "metadata": {},
     "output_type": "execute_result"
    }
   ],
   "source": [
    "# We can calculate aggregations with the help of groupby. In this case we are interested in the count\n",
    "df.groupby('date').count()"
   ]
  },
  {
   "attachments": {},
   "cell_type": "markdown",
   "metadata": {},
   "source": [
    "As expected, we have two entries for each date. We can also look at statistics such as the mean and the sum of entries.\n",
    "In this case, we are going to use `resample` method for a series.  \n",
    "In effect this enables us to change the time frequency in our dataset. Let us use the `M` *offset alias* to tell Pandas to create\n",
    "monthly statistics."
   ]
  },
  {
   "cell_type": "code",
   "execution_count": 15,
   "metadata": {},
   "outputs": [
    {
     "data": {
      "text/html": [
       "<div>\n",
       "<style scoped>\n",
       "    .dataframe tbody tr th:only-of-type {\n",
       "        vertical-align: middle;\n",
       "    }\n",
       "\n",
       "    .dataframe tbody tr th {\n",
       "        vertical-align: top;\n",
       "    }\n",
       "\n",
       "    .dataframe thead th {\n",
       "        text-align: right;\n",
       "    }\n",
       "</style>\n",
       "<table border=\"1\" class=\"dataframe\">\n",
       "  <thead>\n",
       "    <tr style=\"text-align: right;\">\n",
       "      <th></th>\n",
       "      <th>visitors</th>\n",
       "    </tr>\n",
       "    <tr>\n",
       "      <th>date</th>\n",
       "      <th></th>\n",
       "    </tr>\n",
       "  </thead>\n",
       "  <tbody>\n",
       "    <tr>\n",
       "      <th>2018-01-31</th>\n",
       "      <td>37.5</td>\n",
       "    </tr>\n",
       "    <tr>\n",
       "      <th>2018-02-28</th>\n",
       "      <td>43.5</td>\n",
       "    </tr>\n",
       "    <tr>\n",
       "      <th>2018-03-31</th>\n",
       "      <td>88.5</td>\n",
       "    </tr>\n",
       "    <tr>\n",
       "      <th>2018-04-30</th>\n",
       "      <td>41.5</td>\n",
       "    </tr>\n",
       "    <tr>\n",
       "      <th>2018-05-31</th>\n",
       "      <td>85.0</td>\n",
       "    </tr>\n",
       "    <tr>\n",
       "      <th>2018-06-30</th>\n",
       "      <td>44.0</td>\n",
       "    </tr>\n",
       "  </tbody>\n",
       "</table>\n",
       "</div>"
      ],
      "text/plain": [
       "            visitors\n",
       "date                \n",
       "2018-01-31      37.5\n",
       "2018-02-28      43.5\n",
       "2018-03-31      88.5\n",
       "2018-04-30      41.5\n",
       "2018-05-31      85.0\n",
       "2018-06-30      44.0"
      ]
     },
     "execution_count": 15,
     "metadata": {},
     "output_type": "execute_result"
    }
   ],
   "source": [
    "df.resample('M').mean() # we calculate the mean"
   ]
  },
  {
   "cell_type": "code",
   "execution_count": 16,
   "metadata": {},
   "outputs": [
    {
     "data": {
      "text/html": [
       "<div>\n",
       "<style scoped>\n",
       "    .dataframe tbody tr th:only-of-type {\n",
       "        vertical-align: middle;\n",
       "    }\n",
       "\n",
       "    .dataframe tbody tr th {\n",
       "        vertical-align: top;\n",
       "    }\n",
       "\n",
       "    .dataframe thead th {\n",
       "        text-align: right;\n",
       "    }\n",
       "</style>\n",
       "<table border=\"1\" class=\"dataframe\">\n",
       "  <thead>\n",
       "    <tr style=\"text-align: right;\">\n",
       "      <th></th>\n",
       "      <th>visitors</th>\n",
       "    </tr>\n",
       "    <tr>\n",
       "      <th>date</th>\n",
       "      <th></th>\n",
       "    </tr>\n",
       "  </thead>\n",
       "  <tbody>\n",
       "    <tr>\n",
       "      <th>2018-01-31</th>\n",
       "      <td>75</td>\n",
       "    </tr>\n",
       "    <tr>\n",
       "      <th>2018-02-28</th>\n",
       "      <td>87</td>\n",
       "    </tr>\n",
       "    <tr>\n",
       "      <th>2018-03-31</th>\n",
       "      <td>177</td>\n",
       "    </tr>\n",
       "    <tr>\n",
       "      <th>2018-04-30</th>\n",
       "      <td>83</td>\n",
       "    </tr>\n",
       "    <tr>\n",
       "      <th>2018-05-31</th>\n",
       "      <td>170</td>\n",
       "    </tr>\n",
       "    <tr>\n",
       "      <th>2018-06-30</th>\n",
       "      <td>88</td>\n",
       "    </tr>\n",
       "  </tbody>\n",
       "</table>\n",
       "</div>"
      ],
      "text/plain": [
       "            visitors\n",
       "date                \n",
       "2018-01-31        75\n",
       "2018-02-28        87\n",
       "2018-03-31       177\n",
       "2018-04-30        83\n",
       "2018-05-31       170\n",
       "2018-06-30        88"
      ]
     },
     "execution_count": 16,
     "metadata": {},
     "output_type": "execute_result"
    }
   ],
   "source": [
    "df.resample('M').sum() # we calculate the sum"
   ]
  },
  {
   "attachments": {},
   "cell_type": "markdown",
   "metadata": {},
   "source": [
    "| Alias | Description |\n",
    "| ----- | ----------- |\n",
    "| B | business day frequency |\n",
    "| C | custom bunisness day frequency |\n",
    "| D | calendar day frequency |\n",
    "| W | weekly frequency |\n",
    "| M | month-end frequency |\n",
    "| Q | quarter-end frequency |\n",
    "| H | hourly frequency |\n",
    "| S | secondly frequency |\n",
    "| N | nanoseconds\n",
    "| BQ | business quarter-end frequency |\n",
    "| QS | quarter start frequency |\n",
    "| SM | semi-month-end frequency (15th and end of month) |\n",
    "| BM | business month-end frequency |\n",
    "| MS | month-start frequency |\n",
    "| BH | business hour frequency |\n",
    "| BQS | business quarter start frequency |\n",
    "| SMS | semi-month-start frequency (1st and 15th) |\n",
    "| CBM | custom business month-end frequency |\n",
    "| BMS | business month start frequency |\n",
    "| CBMS | custom business month-start frequency |\n",
    "| A, Y | year-end frequency |\n",
    "| L, ms | milliseconds |\n",
    "| U, us | microseconds |\n",
    "| BA, By | business year-end frequency |\n",
    "| AS, YS | year-start frequency |\n",
    "| T, min | minutely frequency |\n",
    "| BAS, BYS | businness year-start frequency |\n"
   ]
  },
  {
   "cell_type": "code",
   "execution_count": 17,
   "metadata": {},
   "outputs": [
    {
     "data": {
      "text/html": [
       "<div>\n",
       "<style scoped>\n",
       "    .dataframe tbody tr th:only-of-type {\n",
       "        vertical-align: middle;\n",
       "    }\n",
       "\n",
       "    .dataframe tbody tr th {\n",
       "        vertical-align: top;\n",
       "    }\n",
       "\n",
       "    .dataframe thead tr th {\n",
       "        text-align: left;\n",
       "    }\n",
       "\n",
       "    .dataframe thead tr:last-of-type th {\n",
       "        text-align: right;\n",
       "    }\n",
       "</style>\n",
       "<table border=\"1\" class=\"dataframe\">\n",
       "  <thead>\n",
       "    <tr>\n",
       "      <th></th>\n",
       "      <th colspan=\"8\" halign=\"left\">visitors</th>\n",
       "    </tr>\n",
       "    <tr>\n",
       "      <th></th>\n",
       "      <th>count</th>\n",
       "      <th>mean</th>\n",
       "      <th>std</th>\n",
       "      <th>min</th>\n",
       "      <th>25%</th>\n",
       "      <th>50%</th>\n",
       "      <th>75%</th>\n",
       "      <th>max</th>\n",
       "    </tr>\n",
       "    <tr>\n",
       "      <th>date</th>\n",
       "      <th></th>\n",
       "      <th></th>\n",
       "      <th></th>\n",
       "      <th></th>\n",
       "      <th></th>\n",
       "      <th></th>\n",
       "      <th></th>\n",
       "      <th></th>\n",
       "    </tr>\n",
       "  </thead>\n",
       "  <tbody>\n",
       "    <tr>\n",
       "      <th>2018-01-01</th>\n",
       "      <td>2.0</td>\n",
       "      <td>37.5</td>\n",
       "      <td>3.535534</td>\n",
       "      <td>35.0</td>\n",
       "      <td>36.25</td>\n",
       "      <td>37.5</td>\n",
       "      <td>38.75</td>\n",
       "      <td>40.0</td>\n",
       "    </tr>\n",
       "    <tr>\n",
       "      <th>2018-02-01</th>\n",
       "      <td>2.0</td>\n",
       "      <td>43.5</td>\n",
       "      <td>19.091883</td>\n",
       "      <td>30.0</td>\n",
       "      <td>36.75</td>\n",
       "      <td>43.5</td>\n",
       "      <td>50.25</td>\n",
       "      <td>57.0</td>\n",
       "    </tr>\n",
       "    <tr>\n",
       "      <th>2018-03-01</th>\n",
       "      <td>2.0</td>\n",
       "      <td>88.5</td>\n",
       "      <td>9.192388</td>\n",
       "      <td>82.0</td>\n",
       "      <td>85.25</td>\n",
       "      <td>88.5</td>\n",
       "      <td>91.75</td>\n",
       "      <td>95.0</td>\n",
       "    </tr>\n",
       "    <tr>\n",
       "      <th>2018-04-01</th>\n",
       "      <td>2.0</td>\n",
       "      <td>41.5</td>\n",
       "      <td>21.920310</td>\n",
       "      <td>26.0</td>\n",
       "      <td>33.75</td>\n",
       "      <td>41.5</td>\n",
       "      <td>49.25</td>\n",
       "      <td>57.0</td>\n",
       "    </tr>\n",
       "    <tr>\n",
       "      <th>2018-05-01</th>\n",
       "      <td>2.0</td>\n",
       "      <td>85.0</td>\n",
       "      <td>2.828427</td>\n",
       "      <td>83.0</td>\n",
       "      <td>84.00</td>\n",
       "      <td>85.0</td>\n",
       "      <td>86.00</td>\n",
       "      <td>87.0</td>\n",
       "    </tr>\n",
       "    <tr>\n",
       "      <th>2018-06-01</th>\n",
       "      <td>2.0</td>\n",
       "      <td>44.0</td>\n",
       "      <td>2.828427</td>\n",
       "      <td>42.0</td>\n",
       "      <td>43.00</td>\n",
       "      <td>44.0</td>\n",
       "      <td>45.00</td>\n",
       "      <td>46.0</td>\n",
       "    </tr>\n",
       "  </tbody>\n",
       "</table>\n",
       "</div>"
      ],
      "text/plain": [
       "           visitors                                                 \n",
       "              count  mean        std   min    25%   50%    75%   max\n",
       "date                                                                \n",
       "2018-01-01      2.0  37.5   3.535534  35.0  36.25  37.5  38.75  40.0\n",
       "2018-02-01      2.0  43.5  19.091883  30.0  36.75  43.5  50.25  57.0\n",
       "2018-03-01      2.0  88.5   9.192388  82.0  85.25  88.5  91.75  95.0\n",
       "2018-04-01      2.0  41.5  21.920310  26.0  33.75  41.5  49.25  57.0\n",
       "2018-05-01      2.0  85.0   2.828427  83.0  84.00  85.0  86.00  87.0\n",
       "2018-06-01      2.0  44.0   2.828427  42.0  43.00  44.0  45.00  46.0"
      ]
     },
     "execution_count": 17,
     "metadata": {},
     "output_type": "execute_result"
    }
   ],
   "source": [
    "# Descriptive statistics for data entered manually. We are not including the count in this table\n",
    "df.groupby('date').describe()"
   ]
  },
  {
   "cell_type": "code",
   "execution_count": 18,
   "metadata": {},
   "outputs": [
    {
     "data": {
      "text/plain": [
       "Timestamp('2016-10-14 00:00:00')"
      ]
     },
     "execution_count": 18,
     "metadata": {},
     "output_type": "execute_result"
    }
   ],
   "source": [
    "# we can provide a data in plain natural language, and convert it to a date type\n",
    "date = pd.to_datetime(\"14th of October, 2016\")\n",
    "date"
   ]
  },
  {
   "attachments": {},
   "cell_type": "markdown",
   "metadata": {},
   "source": [
    "| Directive | Meaning |\n",
    "| --------- | ------- |\n",
    "| %a | abbreviated weekday name |\n",
    "| %A | full weekday name |\n",
    "| %b | abbreviated month name |\n",
    "| %B | full month name |\n",
    "| %c | preferred date and time representation |\n",
    "| %d | day of the month (1 to 31) |\n",
    "| %D | same as %m/%d/%y\n",
    "| %e | day of the month (1 to 31) |\n",
    "| %m | month (1 to 12) |\n",
    "| %M | minute |\n",
    "| %S | second |\n",
    "| %u | weekday as number (Mon = 1 to 7) |"
   ]
  },
  {
   "cell_type": "code",
   "execution_count": 19,
   "metadata": {},
   "outputs": [
    {
     "name": "stdout",
     "output_type": "stream",
     "text": [
      "%A => Friday\n",
      "%a => Fri\n",
      "%b => Oct\n",
      "%B => October\n",
      "%c => Fri Oct 14 00:00:00 2016\n",
      "%d => 14\n",
      "%D => 10/14/16\n",
      "%e => 14\n",
      "%m => 10\n",
      "%M => 00\n",
      "%S => 00\n",
      "%U => 41\n",
      "%u => 5\n"
     ]
    }
   ],
   "source": [
    "print('%A => ' + date.strftime('%A'))\n",
    "print('%a => ' +  date.strftime('%a'))\n",
    "print('%b => ' +  date.strftime('%b'))\n",
    "print('%B => ' +  date.strftime('%B'))\n",
    "print('%c => ' +  date.strftime('%c'))\n",
    "print('%d => ' +  date.strftime('%d'))\n",
    "print('%D => ' +  date.strftime('%D'))\n",
    "print('%e => ' +  date.strftime('%e'))\n",
    "print('%m => ' +  date.strftime('%m'))\n",
    "print('%M => ' +  date.strftime('%M'))\n",
    "print('%S => ' +  date.strftime('%S'))\n",
    "print('%U => ' +  date.strftime('%U'))\n",
    "print('%u => ' +  date.strftime('%u'))"
   ]
  },
  {
   "attachments": {},
   "cell_type": "markdown",
   "metadata": {},
   "source": [
    "In some case we may need to create time series data from scratch. In this section we are going to explore some of the ways  \n",
    "which pandas enables us to crate and manipulate time series data on top the commands we have discussed up until this point.  "
   ]
  },
  {
   "cell_type": "code",
   "execution_count": 20,
   "metadata": {},
   "outputs": [
    {
     "data": {
      "text/plain": [
       "DatetimeIndex(['2018-05-30', '2018-05-31', '2018-06-01', '2018-06-02'], dtype='datetime64[ns]', freq='D')"
      ]
     },
     "execution_count": 20,
     "metadata": {},
     "output_type": "execute_result"
    }
   ],
   "source": [
    "# we can determine a time series by specifying start and end times\n",
    "pd.date_range('2018-05-30', '2018-06-02')"
   ]
  },
  {
   "attachments": {},
   "cell_type": "markdown",
   "metadata": {},
   "source": [
    "Note that the output of the command above is an index covering the time range requested with a daily frequency  \n",
    "as shown in the output with `freq=\"D\"`  \n",
    "\n",
    "An alternative to the above command is to provide a start date, but instead of giving an end date, we request a  \n",
    "number of `periods` to cover with the time series."
   ]
  },
  {
   "cell_type": "code",
   "execution_count": 21,
   "metadata": {},
   "outputs": [
    {
     "data": {
      "text/plain": [
       "DatetimeIndex(['2023-02-28', '2023-03-01', '2023-03-02', '2023-03-03'], dtype='datetime64[ns]', freq='D')"
      ]
     },
     "execution_count": 21,
     "metadata": {},
     "output_type": "execute_result"
    }
   ],
   "source": [
    "pd.date_range('2023-02-28', periods=4)"
   ]
  },
  {
   "cell_type": "code",
   "execution_count": 22,
   "metadata": {},
   "outputs": [
    {
     "data": {
      "text/plain": [
       "DatetimeIndex(['2023-02-28', '2023-03-31', '2023-04-30', '2023-05-31'], dtype='datetime64[ns]', freq='M')"
      ]
     },
     "execution_count": 22,
     "metadata": {},
     "output_type": "execute_result"
    }
   ],
   "source": [
    "# Here we provide a start time a number of periods and the frequency for those periods\n",
    "# as you can see, all we had to do was specify the monthly frequency with freq=\"M\"\n",
    "pd.date_range('2023-02-28', periods=4, freq=\"M\")"
   ]
  },
  {
   "attachments": {},
   "cell_type": "markdown",
   "metadata": {},
   "source": [
    "Let us construct a more complicated dataset: For a period of four days starting on June 4, 2018; we take  \n",
    "reading for four features called, **A, B, C e D**. In this case we will generate the readings with a random  \n",
    "number sampled from a standard normal distribution."
   ]
  },
  {
   "cell_type": "code",
   "execution_count": 23,
   "metadata": {},
   "outputs": [],
   "source": [
    "from numpy.random import randn\n",
    "idx = pd.date_range('2018-06-04 00:00:00', periods=4)\n",
    "cols = ['A', 'B', 'C', 'D']"
   ]
  },
  {
   "attachments": {},
   "cell_type": "markdown",
   "metadata": {},
   "source": [
    "We will now create data for four rows and four columns with help of randin"
   ]
  },
  {
   "cell_type": "code",
   "execution_count": 24,
   "metadata": {},
   "outputs": [
    {
     "data": {
      "text/plain": [
       "array([[ 0.52199365, -0.06794737,  0.29436848,  1.48826394],\n",
       "       [-0.57553074,  1.00215066, -0.13384976,  0.94363619],\n",
       "       [ 0.34148036,  0.00643473,  0.31229367,  0.04041302],\n",
       "       [ 0.39498088,  1.7800649 ,  1.31557911, -0.60401436]])"
      ]
     },
     "execution_count": 24,
     "metadata": {},
     "output_type": "execute_result"
    }
   ],
   "source": [
    "# randn(m, n) creates an anrray of m row and columns\n",
    "data = randn(len(idx), len(cols))\n",
    "data"
   ]
  },
  {
   "cell_type": "code",
   "execution_count": 25,
   "metadata": {},
   "outputs": [
    {
     "data": {
      "text/html": [
       "<div>\n",
       "<style scoped>\n",
       "    .dataframe tbody tr th:only-of-type {\n",
       "        vertical-align: middle;\n",
       "    }\n",
       "\n",
       "    .dataframe tbody tr th {\n",
       "        vertical-align: top;\n",
       "    }\n",
       "\n",
       "    .dataframe thead th {\n",
       "        text-align: right;\n",
       "    }\n",
       "</style>\n",
       "<table border=\"1\" class=\"dataframe\">\n",
       "  <thead>\n",
       "    <tr style=\"text-align: right;\">\n",
       "      <th></th>\n",
       "      <th>A</th>\n",
       "      <th>B</th>\n",
       "      <th>C</th>\n",
       "      <th>D</th>\n",
       "    </tr>\n",
       "    <tr>\n",
       "      <th>date</th>\n",
       "      <th></th>\n",
       "      <th></th>\n",
       "      <th></th>\n",
       "      <th></th>\n",
       "    </tr>\n",
       "  </thead>\n",
       "  <tbody>\n",
       "    <tr>\n",
       "      <th>2018-06-04</th>\n",
       "      <td>0.521994</td>\n",
       "      <td>-0.067947</td>\n",
       "      <td>0.294368</td>\n",
       "      <td>1.488264</td>\n",
       "    </tr>\n",
       "    <tr>\n",
       "      <th>2018-06-05</th>\n",
       "      <td>-0.575531</td>\n",
       "      <td>1.002151</td>\n",
       "      <td>-0.133850</td>\n",
       "      <td>0.943636</td>\n",
       "    </tr>\n",
       "    <tr>\n",
       "      <th>2018-06-06</th>\n",
       "      <td>0.341480</td>\n",
       "      <td>0.006435</td>\n",
       "      <td>0.312294</td>\n",
       "      <td>0.040413</td>\n",
       "    </tr>\n",
       "    <tr>\n",
       "      <th>2018-06-07</th>\n",
       "      <td>0.394981</td>\n",
       "      <td>1.780065</td>\n",
       "      <td>1.315579</td>\n",
       "      <td>-0.604014</td>\n",
       "    </tr>\n",
       "  </tbody>\n",
       "</table>\n",
       "</div>"
      ],
      "text/plain": [
       "                   A         B         C         D\n",
       "date                                              \n",
       "2018-06-04  0.521994 -0.067947  0.294368  1.488264\n",
       "2018-06-05 -0.575531  1.002151 -0.133850  0.943636\n",
       "2018-06-06  0.341480  0.006435  0.312294  0.040413\n",
       "2018-06-07  0.394981  1.780065  1.315579 -0.604014"
      ]
     },
     "execution_count": 25,
     "metadata": {},
     "output_type": "execute_result"
    }
   ],
   "source": [
    "# Since we used random numbers to generate the dta, the numbers shown here will differ from\n",
    "# those you may obtain on your computer\n",
    "\n",
    "df = pd.DataFrame(data=data, index=idx, columns=cols)\n",
    "df.index.name = 'date'\n",
    "df"
   ]
  },
  {
   "attachments": {},
   "cell_type": "markdown",
   "metadata": {},
   "source": [
    "A table like the one above is useful to summarise data and it is fit for `human consumption`. However, in many application  \n",
    "it is much better to have a `long format`or `melted` dataset  \n",
    "\n",
    "In ordet to achieve this, we nedd to repeat the dates and we also require a new column to hold the feature to which each  \n",
    "rading corresponds. This can easily be done with **Pandas** in an single command."
   ]
  },
  {
   "cell_type": "code",
   "execution_count": 26,
   "metadata": {},
   "outputs": [
    {
     "data": {
      "text/html": [
       "<div>\n",
       "<style scoped>\n",
       "    .dataframe tbody tr th:only-of-type {\n",
       "        vertical-align: middle;\n",
       "    }\n",
       "\n",
       "    .dataframe tbody tr th {\n",
       "        vertical-align: top;\n",
       "    }\n",
       "\n",
       "    .dataframe thead th {\n",
       "        text-align: right;\n",
       "    }\n",
       "</style>\n",
       "<table border=\"1\" class=\"dataframe\">\n",
       "  <thead>\n",
       "    <tr style=\"text-align: right;\">\n",
       "      <th></th>\n",
       "      <th>date</th>\n",
       "      <th>A</th>\n",
       "      <th>B</th>\n",
       "      <th>C</th>\n",
       "      <th>D</th>\n",
       "    </tr>\n",
       "  </thead>\n",
       "  <tbody>\n",
       "    <tr>\n",
       "      <th>0</th>\n",
       "      <td>2018-06-04</td>\n",
       "      <td>0.521994</td>\n",
       "      <td>-0.067947</td>\n",
       "      <td>0.294368</td>\n",
       "      <td>1.488264</td>\n",
       "    </tr>\n",
       "    <tr>\n",
       "      <th>1</th>\n",
       "      <td>2018-06-05</td>\n",
       "      <td>-0.575531</td>\n",
       "      <td>1.002151</td>\n",
       "      <td>-0.133850</td>\n",
       "      <td>0.943636</td>\n",
       "    </tr>\n",
       "    <tr>\n",
       "      <th>2</th>\n",
       "      <td>2018-06-06</td>\n",
       "      <td>0.341480</td>\n",
       "      <td>0.006435</td>\n",
       "      <td>0.312294</td>\n",
       "      <td>0.040413</td>\n",
       "    </tr>\n",
       "    <tr>\n",
       "      <th>3</th>\n",
       "      <td>2018-06-07</td>\n",
       "      <td>0.394981</td>\n",
       "      <td>1.780065</td>\n",
       "      <td>1.315579</td>\n",
       "      <td>-0.604014</td>\n",
       "    </tr>\n",
       "  </tbody>\n",
       "</table>\n",
       "</div>"
      ],
      "text/plain": [
       "        date         A         B         C         D\n",
       "0 2018-06-04  0.521994 -0.067947  0.294368  1.488264\n",
       "1 2018-06-05 -0.575531  1.002151 -0.133850  0.943636\n",
       "2 2018-06-06  0.341480  0.006435  0.312294  0.040413\n",
       "3 2018-06-07  0.394981  1.780065  1.315579 -0.604014"
      ]
     },
     "execution_count": 26,
     "metadata": {},
     "output_type": "execute_result"
    }
   ],
   "source": [
    "# This is because we need to date to be part of the new formatted dataset\n",
    "df.reset_index(inplace=True)\n",
    "df"
   ]
  },
  {
   "attachments": {},
   "cell_type": "markdown",
   "metadata": {},
   "source": [
    "In order to melt the dataframe, we will use the melt method that takes the following parameters:  \n",
    "A column that will become the new identifier variable with `id_vars`, the columns to un-pivot are  \n",
    "specified with `value_vars` and finally the names for the variables and value columns with `var_name` \n",
    "and `value_name`"
   ]
  },
  {
   "cell_type": "code",
   "execution_count": 27,
   "metadata": {},
   "outputs": [
    {
     "data": {
      "text/html": [
       "<div>\n",
       "<style scoped>\n",
       "    .dataframe tbody tr th:only-of-type {\n",
       "        vertical-align: middle;\n",
       "    }\n",
       "\n",
       "    .dataframe tbody tr th {\n",
       "        vertical-align: top;\n",
       "    }\n",
       "\n",
       "    .dataframe thead th {\n",
       "        text-align: right;\n",
       "    }\n",
       "</style>\n",
       "<table border=\"1\" class=\"dataframe\">\n",
       "  <thead>\n",
       "    <tr style=\"text-align: right;\">\n",
       "      <th></th>\n",
       "      <th>date</th>\n",
       "      <th>feature</th>\n",
       "      <th>reading</th>\n",
       "    </tr>\n",
       "  </thead>\n",
       "  <tbody>\n",
       "    <tr>\n",
       "      <th>0</th>\n",
       "      <td>2018-06-04</td>\n",
       "      <td>A</td>\n",
       "      <td>0.521994</td>\n",
       "    </tr>\n",
       "    <tr>\n",
       "      <th>1</th>\n",
       "      <td>2018-06-05</td>\n",
       "      <td>A</td>\n",
       "      <td>-0.575531</td>\n",
       "    </tr>\n",
       "    <tr>\n",
       "      <th>2</th>\n",
       "      <td>2018-06-06</td>\n",
       "      <td>A</td>\n",
       "      <td>0.341480</td>\n",
       "    </tr>\n",
       "    <tr>\n",
       "      <th>3</th>\n",
       "      <td>2018-06-07</td>\n",
       "      <td>A</td>\n",
       "      <td>0.394981</td>\n",
       "    </tr>\n",
       "    <tr>\n",
       "      <th>4</th>\n",
       "      <td>2018-06-04</td>\n",
       "      <td>B</td>\n",
       "      <td>-0.067947</td>\n",
       "    </tr>\n",
       "    <tr>\n",
       "      <th>5</th>\n",
       "      <td>2018-06-05</td>\n",
       "      <td>B</td>\n",
       "      <td>1.002151</td>\n",
       "    </tr>\n",
       "    <tr>\n",
       "      <th>6</th>\n",
       "      <td>2018-06-06</td>\n",
       "      <td>B</td>\n",
       "      <td>0.006435</td>\n",
       "    </tr>\n",
       "    <tr>\n",
       "      <th>7</th>\n",
       "      <td>2018-06-07</td>\n",
       "      <td>B</td>\n",
       "      <td>1.780065</td>\n",
       "    </tr>\n",
       "    <tr>\n",
       "      <th>8</th>\n",
       "      <td>2018-06-04</td>\n",
       "      <td>C</td>\n",
       "      <td>0.294368</td>\n",
       "    </tr>\n",
       "    <tr>\n",
       "      <th>9</th>\n",
       "      <td>2018-06-05</td>\n",
       "      <td>C</td>\n",
       "      <td>-0.133850</td>\n",
       "    </tr>\n",
       "    <tr>\n",
       "      <th>10</th>\n",
       "      <td>2018-06-06</td>\n",
       "      <td>C</td>\n",
       "      <td>0.312294</td>\n",
       "    </tr>\n",
       "    <tr>\n",
       "      <th>11</th>\n",
       "      <td>2018-06-07</td>\n",
       "      <td>C</td>\n",
       "      <td>1.315579</td>\n",
       "    </tr>\n",
       "    <tr>\n",
       "      <th>12</th>\n",
       "      <td>2018-06-04</td>\n",
       "      <td>D</td>\n",
       "      <td>1.488264</td>\n",
       "    </tr>\n",
       "    <tr>\n",
       "      <th>13</th>\n",
       "      <td>2018-06-05</td>\n",
       "      <td>D</td>\n",
       "      <td>0.943636</td>\n",
       "    </tr>\n",
       "    <tr>\n",
       "      <th>14</th>\n",
       "      <td>2018-06-06</td>\n",
       "      <td>D</td>\n",
       "      <td>0.040413</td>\n",
       "    </tr>\n",
       "    <tr>\n",
       "      <th>15</th>\n",
       "      <td>2018-06-07</td>\n",
       "      <td>D</td>\n",
       "      <td>-0.604014</td>\n",
       "    </tr>\n",
       "  </tbody>\n",
       "</table>\n",
       "</div>"
      ],
      "text/plain": [
       "         date feature   reading\n",
       "0  2018-06-04       A  0.521994\n",
       "1  2018-06-05       A -0.575531\n",
       "2  2018-06-06       A  0.341480\n",
       "3  2018-06-07       A  0.394981\n",
       "4  2018-06-04       B -0.067947\n",
       "5  2018-06-05       B  1.002151\n",
       "6  2018-06-06       B  0.006435\n",
       "7  2018-06-07       B  1.780065\n",
       "8  2018-06-04       C  0.294368\n",
       "9  2018-06-05       C -0.133850\n",
       "10 2018-06-06       C  0.312294\n",
       "11 2018-06-07       C  1.315579\n",
       "12 2018-06-04       D  1.488264\n",
       "13 2018-06-05       D  0.943636\n",
       "14 2018-06-06       D  0.040413\n",
       "15 2018-06-07       D -0.604014"
      ]
     },
     "execution_count": 27,
     "metadata": {},
     "output_type": "execute_result"
    }
   ],
   "source": [
    "# The original columns have become entries in the column called 'feature' and the values are in column 'reading'\n",
    "melted = pd.melt(df, id_vars='date', var_name='feature', value_name='reading')\n",
    "melted"
   ]
  },
  {
   "cell_type": "code",
   "execution_count": 28,
   "metadata": {},
   "outputs": [
    {
     "data": {
      "text/html": [
       "<div>\n",
       "<style scoped>\n",
       "    .dataframe tbody tr th:only-of-type {\n",
       "        vertical-align: middle;\n",
       "    }\n",
       "\n",
       "    .dataframe tbody tr th {\n",
       "        vertical-align: top;\n",
       "    }\n",
       "\n",
       "    .dataframe thead th {\n",
       "        text-align: right;\n",
       "    }\n",
       "</style>\n",
       "<table border=\"1\" class=\"dataframe\">\n",
       "  <thead>\n",
       "    <tr style=\"text-align: right;\">\n",
       "      <th></th>\n",
       "      <th>feature</th>\n",
       "      <th>reading</th>\n",
       "    </tr>\n",
       "    <tr>\n",
       "      <th>date</th>\n",
       "      <th></th>\n",
       "      <th></th>\n",
       "    </tr>\n",
       "  </thead>\n",
       "  <tbody>\n",
       "    <tr>\n",
       "      <th>2018-06-04</th>\n",
       "      <td>A</td>\n",
       "      <td>0.521994</td>\n",
       "    </tr>\n",
       "    <tr>\n",
       "      <th>2018-06-04</th>\n",
       "      <td>B</td>\n",
       "      <td>-0.067947</td>\n",
       "    </tr>\n",
       "    <tr>\n",
       "      <th>2018-06-04</th>\n",
       "      <td>C</td>\n",
       "      <td>0.294368</td>\n",
       "    </tr>\n",
       "    <tr>\n",
       "      <th>2018-06-04</th>\n",
       "      <td>D</td>\n",
       "      <td>1.488264</td>\n",
       "    </tr>\n",
       "    <tr>\n",
       "      <th>2018-06-05</th>\n",
       "      <td>A</td>\n",
       "      <td>-0.575531</td>\n",
       "    </tr>\n",
       "    <tr>\n",
       "      <th>2018-06-05</th>\n",
       "      <td>B</td>\n",
       "      <td>1.002151</td>\n",
       "    </tr>\n",
       "    <tr>\n",
       "      <th>2018-06-05</th>\n",
       "      <td>C</td>\n",
       "      <td>-0.133850</td>\n",
       "    </tr>\n",
       "    <tr>\n",
       "      <th>2018-06-05</th>\n",
       "      <td>D</td>\n",
       "      <td>0.943636</td>\n",
       "    </tr>\n",
       "    <tr>\n",
       "      <th>2018-06-06</th>\n",
       "      <td>A</td>\n",
       "      <td>0.341480</td>\n",
       "    </tr>\n",
       "    <tr>\n",
       "      <th>2018-06-06</th>\n",
       "      <td>B</td>\n",
       "      <td>0.006435</td>\n",
       "    </tr>\n",
       "    <tr>\n",
       "      <th>2018-06-06</th>\n",
       "      <td>C</td>\n",
       "      <td>0.312294</td>\n",
       "    </tr>\n",
       "    <tr>\n",
       "      <th>2018-06-06</th>\n",
       "      <td>D</td>\n",
       "      <td>0.040413</td>\n",
       "    </tr>\n",
       "    <tr>\n",
       "      <th>2018-06-07</th>\n",
       "      <td>A</td>\n",
       "      <td>0.394981</td>\n",
       "    </tr>\n",
       "    <tr>\n",
       "      <th>2018-06-07</th>\n",
       "      <td>B</td>\n",
       "      <td>1.780065</td>\n",
       "    </tr>\n",
       "    <tr>\n",
       "      <th>2018-06-07</th>\n",
       "      <td>C</td>\n",
       "      <td>1.315579</td>\n",
       "    </tr>\n",
       "    <tr>\n",
       "      <th>2018-06-07</th>\n",
       "      <td>D</td>\n",
       "      <td>-0.604014</td>\n",
       "    </tr>\n",
       "  </tbody>\n",
       "</table>\n",
       "</div>"
      ],
      "text/plain": [
       "           feature   reading\n",
       "date                        \n",
       "2018-06-04       A  0.521994\n",
       "2018-06-04       B -0.067947\n",
       "2018-06-04       C  0.294368\n",
       "2018-06-04       D  1.488264\n",
       "2018-06-05       A -0.575531\n",
       "2018-06-05       B  1.002151\n",
       "2018-06-05       C -0.133850\n",
       "2018-06-05       D  0.943636\n",
       "2018-06-06       A  0.341480\n",
       "2018-06-06       B  0.006435\n",
       "2018-06-06       C  0.312294\n",
       "2018-06-06       D  0.040413\n",
       "2018-06-07       A  0.394981\n",
       "2018-06-07       B  1.780065\n",
       "2018-06-07       C  1.315579\n",
       "2018-06-07       D -0.604014"
      ]
     },
     "execution_count": 28,
     "metadata": {},
     "output_type": "execute_result"
    }
   ],
   "source": [
    "melted.set_index('date', inplace=True)\n",
    "melted.sort_index(inplace=True)\n",
    "melted"
   ]
  },
  {
   "cell_type": "code",
   "execution_count": 29,
   "metadata": {},
   "outputs": [],
   "source": [
    "import os\n",
    "import numpy as np\n",
    "import pandas as pd"
   ]
  },
  {
   "cell_type": "code",
   "execution_count": 30,
   "metadata": {},
   "outputs": [],
   "source": [
    "base_files = os.path.join(os.getcwd(), '..', 'data', 'files')"
   ]
  },
  {
   "cell_type": "code",
   "execution_count": 31,
   "metadata": {},
   "outputs": [],
   "source": [
    "# Make sure that you pass on the correct path for the file\n",
    "appl = pd.read_csv(os.path.join(base_files, 'advanced-data-science-aapl.csv'), sep=',', encoding='utf-8')"
   ]
  },
  {
   "cell_type": "code",
   "execution_count": 32,
   "metadata": {},
   "outputs": [
    {
     "data": {
      "text/html": [
       "<div>\n",
       "<style scoped>\n",
       "    .dataframe tbody tr th:only-of-type {\n",
       "        vertical-align: middle;\n",
       "    }\n",
       "\n",
       "    .dataframe tbody tr th {\n",
       "        vertical-align: top;\n",
       "    }\n",
       "\n",
       "    .dataframe thead th {\n",
       "        text-align: right;\n",
       "    }\n",
       "</style>\n",
       "<table border=\"1\" class=\"dataframe\">\n",
       "  <thead>\n",
       "    <tr style=\"text-align: right;\">\n",
       "      <th></th>\n",
       "      <th>Date</th>\n",
       "      <th>Open</th>\n",
       "      <th>High</th>\n",
       "      <th>Low</th>\n",
       "      <th>Close</th>\n",
       "      <th>Adj Close</th>\n",
       "      <th>Volume</th>\n",
       "    </tr>\n",
       "  </thead>\n",
       "  <tbody>\n",
       "    <tr>\n",
       "      <th>0</th>\n",
       "      <td>2017-04-25</td>\n",
       "      <td>143.910004</td>\n",
       "      <td>144.899994</td>\n",
       "      <td>143.869995</td>\n",
       "      <td>144.529999</td>\n",
       "      <td>142.279205</td>\n",
       "      <td>18871500</td>\n",
       "    </tr>\n",
       "    <tr>\n",
       "      <th>1</th>\n",
       "      <td>2017-04-26</td>\n",
       "      <td>144.470001</td>\n",
       "      <td>144.600006</td>\n",
       "      <td>143.380005</td>\n",
       "      <td>143.679993</td>\n",
       "      <td>141.442444</td>\n",
       "      <td>20041200</td>\n",
       "    </tr>\n",
       "    <tr>\n",
       "      <th>2</th>\n",
       "      <td>2017-04-27</td>\n",
       "      <td>143.919998</td>\n",
       "      <td>144.160004</td>\n",
       "      <td>143.309998</td>\n",
       "      <td>143.789993</td>\n",
       "      <td>141.550735</td>\n",
       "      <td>14246300</td>\n",
       "    </tr>\n",
       "    <tr>\n",
       "      <th>3</th>\n",
       "      <td>2017-04-28</td>\n",
       "      <td>144.089996</td>\n",
       "      <td>144.300003</td>\n",
       "      <td>143.270004</td>\n",
       "      <td>143.649994</td>\n",
       "      <td>141.412918</td>\n",
       "      <td>20860400</td>\n",
       "    </tr>\n",
       "    <tr>\n",
       "      <th>4</th>\n",
       "      <td>2017-05-01</td>\n",
       "      <td>145.100006</td>\n",
       "      <td>147.199997</td>\n",
       "      <td>144.960007</td>\n",
       "      <td>146.580002</td>\n",
       "      <td>144.297287</td>\n",
       "      <td>33602900</td>\n",
       "    </tr>\n",
       "  </tbody>\n",
       "</table>\n",
       "</div>"
      ],
      "text/plain": [
       "         Date        Open        High         Low       Close   Adj Close  \\\n",
       "0  2017-04-25  143.910004  144.899994  143.869995  144.529999  142.279205   \n",
       "1  2017-04-26  144.470001  144.600006  143.380005  143.679993  141.442444   \n",
       "2  2017-04-27  143.919998  144.160004  143.309998  143.789993  141.550735   \n",
       "3  2017-04-28  144.089996  144.300003  143.270004  143.649994  141.412918   \n",
       "4  2017-05-01  145.100006  147.199997  144.960007  146.580002  144.297287   \n",
       "\n",
       "     Volume  \n",
       "0  18871500  \n",
       "1  20041200  \n",
       "2  14246300  \n",
       "3  20860400  \n",
       "4  33602900  "
      ]
     },
     "execution_count": 32,
     "metadata": {},
     "output_type": "execute_result"
    }
   ],
   "source": [
    "appl.head()"
   ]
  },
  {
   "cell_type": "code",
   "execution_count": 33,
   "metadata": {},
   "outputs": [
    {
     "data": {
      "text/plain": [
       "pandas.core.series.Series"
      ]
     },
     "execution_count": 33,
     "metadata": {},
     "output_type": "execute_result"
    }
   ],
   "source": [
    "type(appl.Date)"
   ]
  },
  {
   "cell_type": "code",
   "execution_count": 34,
   "metadata": {},
   "outputs": [
    {
     "data": {
      "text/plain": [
       "pandas.core.series.Series"
      ]
     },
     "execution_count": 34,
     "metadata": {},
     "output_type": "execute_result"
    }
   ],
   "source": [
    "# We are using to_datetime to ensure that ates are appropriately typed\n",
    "appl.Date = pd.to_datetime(appl.Date, format='%Y-%m-%d')\n",
    "type(appl.Date)"
   ]
  },
  {
   "attachments": {},
   "cell_type": "markdown",
   "metadata": {},
   "source": [
    "The dataset contains open, high, low and close prices for Apple Inc. stock between April 2017 and April 2018  \n",
    "We are goint to concentrate on the `Close` column, but before we do that, we need to ensure tat the dataset is  \n",
    "`indexed` by the time stamps provided by the `Date column`. We can easily do that with the `set_index method`"
   ]
  },
  {
   "cell_type": "code",
   "execution_count": 35,
   "metadata": {},
   "outputs": [
    {
     "data": {
      "text/plain": [
       "Date\n",
       "2017-04-25    144.529999\n",
       "2017-04-26    143.679993\n",
       "2017-04-27    143.789993\n",
       "Name: Close, dtype: float64"
      ]
     },
     "execution_count": 35,
     "metadata": {},
     "output_type": "execute_result"
    }
   ],
   "source": [
    "# We centre our attention on the use of the closing prices\n",
    "appl.set_index('Date', inplace=True)\n",
    "appl['Close'].head(3)"
   ]
  },
  {
   "cell_type": "code",
   "execution_count": 36,
   "metadata": {},
   "outputs": [],
   "source": [
    "appl.sort_index(inplace=True)"
   ]
  },
  {
   "attachments": {},
   "cell_type": "markdown",
   "metadata": {},
   "source": [
    "$$\n",
    "R_{t} = \\frac{P_{t} - P_{t} -1}{P_{t} -1}\n",
    "$$"
   ]
  },
  {
   "attachments": {},
   "cell_type": "markdown",
   "metadata": {},
   "source": [
    "* $ P_{t} $ is the price \n",
    "* *t*  is the time\n",
    "* $ P_{t} - 1 $ is the price at the previous time period"
   ]
  },
  {
   "cell_type": "code",
   "execution_count": 37,
   "metadata": {},
   "outputs": [],
   "source": [
    "# we are using pct_change to calculate the returns\n",
    "appl['pct_change'] = appl.Close.pct_change()"
   ]
  },
  {
   "cell_type": "code",
   "execution_count": 38,
   "metadata": {},
   "outputs": [
    {
     "data": {
      "text/plain": [
       "Date\n",
       "2018-04-23   -0.002896\n",
       "2018-04-24   -0.013919\n",
       "2018-04-25    0.004357\n",
       "Name: pct_change, dtype: float64"
      ]
     },
     "execution_count": 38,
     "metadata": {},
     "output_type": "execute_result"
    }
   ],
   "source": [
    "# The percentage change from one day to the next is easily calculated\n",
    "appl['pct_change'].tail(3)"
   ]
  },
  {
   "attachments": {},
   "cell_type": "markdown",
   "metadata": {},
   "source": [
    "$$ r_{t} = log(1 + R_{t}) = log(\\frac{P_{t}}{P_{t} -1}) = log(P_{t}) - log(P_{t} - 1) * (1.2) $$"
   ]
  },
  {
   "attachments": {},
   "cell_type": "markdown",
   "metadata": {},
   "source": [
    "We need to calculate the logarithm of the price at each time *t* and then take the difference between time periods.  \n",
    "We can certainly do this in Python, and Pandas gives us a helping hand with the diff()."
   ]
  },
  {
   "cell_type": "code",
   "execution_count": 39,
   "metadata": {},
   "outputs": [],
   "source": [
    "# The diff method calculate the difference from one time period to the next\n",
    "appl['log_ret'] = np.log(appl.Close).diff()"
   ]
  },
  {
   "cell_type": "code",
   "execution_count": 40,
   "metadata": {},
   "outputs": [
    {
     "data": {
      "text/plain": [
       "Date\n",
       "2018-04-23   -0.002901\n",
       "2018-04-24   -0.014017\n",
       "2018-04-25    0.004348\n",
       "Name: log_ret, dtype: float64"
      ]
     },
     "execution_count": 40,
     "metadata": {},
     "output_type": "execute_result"
    }
   ],
   "source": [
    "appl['log_ret'].tail(3)"
   ]
  },
  {
   "attachments": {},
   "cell_type": "markdown",
   "metadata": {},
   "source": [
    "This is the data that we show, we calculated that time series in the figure. It is fairly common to have  \n",
    "financial data series like the one we have used above, where the frequency is given by the end of day prices.  \n",
    "However, the frequency can be different for instance by the minimun upward or downward price movement in the price  \n",
    "of security"
   ]
  },
  {
   "cell_type": "code",
   "execution_count": 41,
   "metadata": {},
   "outputs": [],
   "source": [
    "parser = lambda date: pd.datetime.strptime(date, '%d/%m/%Y %H:%M')"
   ]
  },
  {
   "cell_type": "code",
   "execution_count": 42,
   "metadata": {},
   "outputs": [
    {
     "name": "stderr",
     "output_type": "stream",
     "text": [
      "/tmp/ipykernel_62969/1511385639.py:1: FutureWarning: The pandas.datetime class is deprecated and will be removed from pandas in a future version. Import from datetime module instead.\n",
      "  parser = lambda date: pd.datetime.strptime(date, '%d/%m/%Y %H:%M')\n"
     ]
    }
   ],
   "source": [
    "bitcoin = pd.read_csv(os.path.join(base_files, 'bitcoin_usd.csv'), parse_dates=['time_start'], date_parser=parser, index_col='time_start')"
   ]
  },
  {
   "cell_type": "code",
   "execution_count": 43,
   "metadata": {},
   "outputs": [
    {
     "data": {
      "text/html": [
       "<div>\n",
       "<style scoped>\n",
       "    .dataframe tbody tr th:only-of-type {\n",
       "        vertical-align: middle;\n",
       "    }\n",
       "\n",
       "    .dataframe tbody tr th {\n",
       "        vertical-align: top;\n",
       "    }\n",
       "\n",
       "    .dataframe thead th {\n",
       "        text-align: right;\n",
       "    }\n",
       "</style>\n",
       "<table border=\"1\" class=\"dataframe\">\n",
       "  <thead>\n",
       "    <tr style=\"text-align: right;\">\n",
       "      <th></th>\n",
       "      <th>exchange</th>\n",
       "      <th>market</th>\n",
       "      <th>open</th>\n",
       "      <th>high</th>\n",
       "      <th>low</th>\n",
       "      <th>close</th>\n",
       "      <th>volume</th>\n",
       "    </tr>\n",
       "    <tr>\n",
       "      <th>time_start</th>\n",
       "      <th></th>\n",
       "      <th></th>\n",
       "      <th></th>\n",
       "      <th></th>\n",
       "      <th></th>\n",
       "      <th></th>\n",
       "      <th></th>\n",
       "    </tr>\n",
       "  </thead>\n",
       "  <tbody>\n",
       "    <tr>\n",
       "      <th>2016-03-31 00:00:00</th>\n",
       "      <td>BITF</td>\n",
       "      <td>BTC/USD</td>\n",
       "      <td>413.04</td>\n",
       "      <td>413.27</td>\n",
       "      <td>413.04</td>\n",
       "      <td>413.27</td>\n",
       "      <td>8.953746</td>\n",
       "    </tr>\n",
       "    <tr>\n",
       "      <th>2016-03-31 00:01:00</th>\n",
       "      <td>BITF</td>\n",
       "      <td>BTC/USD</td>\n",
       "      <td>413.27</td>\n",
       "      <td>413.27</td>\n",
       "      <td>413.27</td>\n",
       "      <td>413.27</td>\n",
       "      <td>0.000000</td>\n",
       "    </tr>\n",
       "    <tr>\n",
       "      <th>2016-03-31 00:02:00</th>\n",
       "      <td>BITF</td>\n",
       "      <td>BTC/USD</td>\n",
       "      <td>413.27</td>\n",
       "      <td>413.27</td>\n",
       "      <td>413.27</td>\n",
       "      <td>413.27</td>\n",
       "      <td>0.000000</td>\n",
       "    </tr>\n",
       "    <tr>\n",
       "      <th>2016-03-31 00:03:00</th>\n",
       "      <td>BITF</td>\n",
       "      <td>BTC/USD</td>\n",
       "      <td>413.27</td>\n",
       "      <td>413.27</td>\n",
       "      <td>413.27</td>\n",
       "      <td>413.27</td>\n",
       "      <td>4.726186</td>\n",
       "    </tr>\n",
       "    <tr>\n",
       "      <th>2016-03-31 00:04:00</th>\n",
       "      <td>BITF</td>\n",
       "      <td>BTC/USD</td>\n",
       "      <td>413.27</td>\n",
       "      <td>413.27</td>\n",
       "      <td>413.27</td>\n",
       "      <td>413.27</td>\n",
       "      <td>0.000000</td>\n",
       "    </tr>\n",
       "  </tbody>\n",
       "</table>\n",
       "</div>"
      ],
      "text/plain": [
       "                    exchange   market    open    high     low   close  \\\n",
       "time_start                                                              \n",
       "2016-03-31 00:00:00     BITF  BTC/USD  413.04  413.27  413.04  413.27   \n",
       "2016-03-31 00:01:00     BITF  BTC/USD  413.27  413.27  413.27  413.27   \n",
       "2016-03-31 00:02:00     BITF  BTC/USD  413.27  413.27  413.27  413.27   \n",
       "2016-03-31 00:03:00     BITF  BTC/USD  413.27  413.27  413.27  413.27   \n",
       "2016-03-31 00:04:00     BITF  BTC/USD  413.27  413.27  413.27  413.27   \n",
       "\n",
       "                       volume  \n",
       "time_start                     \n",
       "2016-03-31 00:00:00  8.953746  \n",
       "2016-03-31 00:01:00  0.000000  \n",
       "2016-03-31 00:02:00  0.000000  \n",
       "2016-03-31 00:03:00  4.726186  \n",
       "2016-03-31 00:04:00  0.000000  "
      ]
     },
     "execution_count": 43,
     "metadata": {},
     "output_type": "execute_result"
    }
   ],
   "source": [
    "bitcoin.head()"
   ]
  },
  {
   "attachments": {},
   "cell_type": "markdown",
   "metadata": {},
   "source": [
    "Notice that we are specifiying what columns need to be parsed as dates with **parse_dates** and how  \n",
    "the parsing should be performed with **date_parser**. We also load the dataset indicating which column  \n",
    "is the index."
   ]
  },
  {
   "cell_type": "code",
   "execution_count": 44,
   "metadata": {},
   "outputs": [],
   "source": [
    "ticks = bitcoin[['close', 'volume']] # we are effectily creating a new dataframe called ticks"
   ]
  },
  {
   "cell_type": "code",
   "execution_count": 45,
   "metadata": {},
   "outputs": [
    {
     "data": {
      "text/html": [
       "<div>\n",
       "<style scoped>\n",
       "    .dataframe tbody tr th:only-of-type {\n",
       "        vertical-align: middle;\n",
       "    }\n",
       "\n",
       "    .dataframe tbody tr th {\n",
       "        vertical-align: top;\n",
       "    }\n",
       "\n",
       "    .dataframe thead th {\n",
       "        text-align: right;\n",
       "    }\n",
       "</style>\n",
       "<table border=\"1\" class=\"dataframe\">\n",
       "  <thead>\n",
       "    <tr style=\"text-align: right;\">\n",
       "      <th></th>\n",
       "      <th>close</th>\n",
       "      <th>volume</th>\n",
       "    </tr>\n",
       "    <tr>\n",
       "      <th>time_start</th>\n",
       "      <th></th>\n",
       "      <th></th>\n",
       "    </tr>\n",
       "  </thead>\n",
       "  <tbody>\n",
       "    <tr>\n",
       "      <th>2016-03-31 00:00:00</th>\n",
       "      <td>413.27</td>\n",
       "      <td>8.953746</td>\n",
       "    </tr>\n",
       "    <tr>\n",
       "      <th>2016-03-31 00:05:00</th>\n",
       "      <td>413.26</td>\n",
       "      <td>0.035157</td>\n",
       "    </tr>\n",
       "    <tr>\n",
       "      <th>2016-03-31 00:10:00</th>\n",
       "      <td>413.51</td>\n",
       "      <td>43.640052</td>\n",
       "    </tr>\n",
       "    <tr>\n",
       "      <th>2016-03-31 00:15:00</th>\n",
       "      <td>414.98</td>\n",
       "      <td>0.038896</td>\n",
       "    </tr>\n",
       "    <tr>\n",
       "      <th>2016-03-31 00:20:00</th>\n",
       "      <td>414.98</td>\n",
       "      <td>0.241800</td>\n",
       "    </tr>\n",
       "    <tr>\n",
       "      <th>...</th>\n",
       "      <td>...</td>\n",
       "      <td>...</td>\n",
       "    </tr>\n",
       "    <tr>\n",
       "      <th>2016-04-03 23:35:00</th>\n",
       "      <td>420.60</td>\n",
       "      <td>0.000000</td>\n",
       "    </tr>\n",
       "    <tr>\n",
       "      <th>2016-04-03 23:40:00</th>\n",
       "      <td>NaN</td>\n",
       "      <td>NaN</td>\n",
       "    </tr>\n",
       "    <tr>\n",
       "      <th>2016-04-03 23:45:00</th>\n",
       "      <td>NaN</td>\n",
       "      <td>NaN</td>\n",
       "    </tr>\n",
       "    <tr>\n",
       "      <th>2016-04-03 23:50:00</th>\n",
       "      <td>420.60</td>\n",
       "      <td>0.955772</td>\n",
       "    </tr>\n",
       "    <tr>\n",
       "      <th>2016-04-03 23:55:00</th>\n",
       "      <td>421.00</td>\n",
       "      <td>58.000000</td>\n",
       "    </tr>\n",
       "  </tbody>\n",
       "</table>\n",
       "<p>1152 rows × 2 columns</p>\n",
       "</div>"
      ],
      "text/plain": [
       "                      close     volume\n",
       "time_start                            \n",
       "2016-03-31 00:00:00  413.27   8.953746\n",
       "2016-03-31 00:05:00  413.26   0.035157\n",
       "2016-03-31 00:10:00  413.51  43.640052\n",
       "2016-03-31 00:15:00  414.98   0.038896\n",
       "2016-03-31 00:20:00  414.98   0.241800\n",
       "...                     ...        ...\n",
       "2016-04-03 23:35:00  420.60   0.000000\n",
       "2016-04-03 23:40:00     NaN        NaN\n",
       "2016-04-03 23:45:00     NaN        NaN\n",
       "2016-04-03 23:50:00  420.60   0.955772\n",
       "2016-04-03 23:55:00  421.00  58.000000\n",
       "\n",
       "[1152 rows x 2 columns]"
      ]
     },
     "execution_count": 45,
     "metadata": {},
     "output_type": "execute_result"
    }
   ],
   "source": [
    "# The data is roughly on a minute-by-minute frequency. We can use Pandas\n",
    "# to resample the data at desired intervals. For instance we can request for the data\n",
    "# to be sampled every five minute and take the first value in the interval.\n",
    "\n",
    "ticks.resample('5Min').first() # we can resample our data with the help of resample()"
   ]
  },
  {
   "cell_type": "code",
   "execution_count": 46,
   "metadata": {},
   "outputs": [
    {
     "data": {
      "text/html": [
       "<div>\n",
       "<style scoped>\n",
       "    .dataframe tbody tr th:only-of-type {\n",
       "        vertical-align: middle;\n",
       "    }\n",
       "\n",
       "    .dataframe tbody tr th {\n",
       "        vertical-align: top;\n",
       "    }\n",
       "\n",
       "    .dataframe thead th {\n",
       "        text-align: right;\n",
       "    }\n",
       "</style>\n",
       "<table border=\"1\" class=\"dataframe\">\n",
       "  <thead>\n",
       "    <tr style=\"text-align: right;\">\n",
       "      <th></th>\n",
       "      <th>close</th>\n",
       "      <th>volume</th>\n",
       "    </tr>\n",
       "    <tr>\n",
       "      <th>time_start</th>\n",
       "      <th></th>\n",
       "      <th></th>\n",
       "    </tr>\n",
       "  </thead>\n",
       "  <tbody>\n",
       "    <tr>\n",
       "      <th>2016-03-31 00:00:00</th>\n",
       "      <td>413.270000</td>\n",
       "      <td>2.735987</td>\n",
       "    </tr>\n",
       "    <tr>\n",
       "      <th>2016-03-31 00:05:00</th>\n",
       "      <td>413.264000</td>\n",
       "      <td>2.211749</td>\n",
       "    </tr>\n",
       "    <tr>\n",
       "      <th>2016-03-31 00:10:00</th>\n",
       "      <td>414.660000</td>\n",
       "      <td>37.919166</td>\n",
       "    </tr>\n",
       "    <tr>\n",
       "      <th>2016-03-31 00:15:00</th>\n",
       "      <td>414.982000</td>\n",
       "      <td>5.574657</td>\n",
       "    </tr>\n",
       "    <tr>\n",
       "      <th>2016-03-31 00:20:00</th>\n",
       "      <td>414.986000</td>\n",
       "      <td>0.063756</td>\n",
       "    </tr>\n",
       "    <tr>\n",
       "      <th>...</th>\n",
       "      <td>...</td>\n",
       "      <td>...</td>\n",
       "    </tr>\n",
       "    <tr>\n",
       "      <th>2016-04-03 23:35:00</th>\n",
       "      <td>420.600000</td>\n",
       "      <td>0.000000</td>\n",
       "    </tr>\n",
       "    <tr>\n",
       "      <th>2016-04-03 23:40:00</th>\n",
       "      <td>NaN</td>\n",
       "      <td>NaN</td>\n",
       "    </tr>\n",
       "    <tr>\n",
       "      <th>2016-04-03 23:45:00</th>\n",
       "      <td>NaN</td>\n",
       "      <td>NaN</td>\n",
       "    </tr>\n",
       "    <tr>\n",
       "      <th>2016-04-03 23:50:00</th>\n",
       "      <td>420.600000</td>\n",
       "      <td>0.955772</td>\n",
       "    </tr>\n",
       "    <tr>\n",
       "      <th>2016-04-03 23:55:00</th>\n",
       "      <td>420.733333</td>\n",
       "      <td>19.827284</td>\n",
       "    </tr>\n",
       "  </tbody>\n",
       "</table>\n",
       "<p>1152 rows × 2 columns</p>\n",
       "</div>"
      ],
      "text/plain": [
       "                          close     volume\n",
       "time_start                                \n",
       "2016-03-31 00:00:00  413.270000   2.735987\n",
       "2016-03-31 00:05:00  413.264000   2.211749\n",
       "2016-03-31 00:10:00  414.660000  37.919166\n",
       "2016-03-31 00:15:00  414.982000   5.574657\n",
       "2016-03-31 00:20:00  414.986000   0.063756\n",
       "...                         ...        ...\n",
       "2016-04-03 23:35:00  420.600000   0.000000\n",
       "2016-04-03 23:40:00         NaN        NaN\n",
       "2016-04-03 23:45:00         NaN        NaN\n",
       "2016-04-03 23:50:00  420.600000   0.955772\n",
       "2016-04-03 23:55:00  420.733333  19.827284\n",
       "\n",
       "[1152 rows x 2 columns]"
      ]
     },
     "execution_count": 46,
     "metadata": {},
     "output_type": "execute_result"
    }
   ],
   "source": [
    "# we can also ask for the mean for example\n",
    "ticks.resample('5Min').mean()\n"
   ]
  },
  {
   "cell_type": "code",
   "execution_count": 47,
   "metadata": {},
   "outputs": [
    {
     "data": {
      "text/html": [
       "<div>\n",
       "<style scoped>\n",
       "    .dataframe tbody tr th:only-of-type {\n",
       "        vertical-align: middle;\n",
       "    }\n",
       "\n",
       "    .dataframe tbody tr th {\n",
       "        vertical-align: top;\n",
       "    }\n",
       "\n",
       "    .dataframe thead th {\n",
       "        text-align: right;\n",
       "    }\n",
       "</style>\n",
       "<table border=\"1\" class=\"dataframe\">\n",
       "  <thead>\n",
       "    <tr style=\"text-align: right;\">\n",
       "      <th></th>\n",
       "      <th>close</th>\n",
       "      <th>volume</th>\n",
       "    </tr>\n",
       "    <tr>\n",
       "      <th>time_start</th>\n",
       "      <th></th>\n",
       "      <th></th>\n",
       "    </tr>\n",
       "  </thead>\n",
       "  <tbody>\n",
       "    <tr>\n",
       "      <th>2016-03-31</th>\n",
       "      <td>416.02</td>\n",
       "      <td>0.200000</td>\n",
       "    </tr>\n",
       "    <tr>\n",
       "      <th>2016-04-01</th>\n",
       "      <td>417.90</td>\n",
       "      <td>52.099684</td>\n",
       "    </tr>\n",
       "    <tr>\n",
       "      <th>2016-04-02</th>\n",
       "      <td>420.30</td>\n",
       "      <td>0.850000</td>\n",
       "    </tr>\n",
       "    <tr>\n",
       "      <th>2016-04-03</th>\n",
       "      <td>420.60</td>\n",
       "      <td>0.984358</td>\n",
       "    </tr>\n",
       "  </tbody>\n",
       "</table>\n",
       "</div>"
      ],
      "text/plain": [
       "             close     volume\n",
       "time_start                   \n",
       "2016-03-31  416.02   0.200000\n",
       "2016-04-01  417.90  52.099684\n",
       "2016-04-02  420.30   0.850000\n",
       "2016-04-03  420.60   0.984358"
      ]
     },
     "execution_count": 47,
     "metadata": {},
     "output_type": "execute_result"
    }
   ],
   "source": [
    "# In this way we could get the closing price for the day by resampling by day\n",
    "# and requesting the last volume\n",
    "ticks.resample('D').last()\n"
   ]
  },
  {
   "cell_type": "code",
   "execution_count": 48,
   "metadata": {},
   "outputs": [
    {
     "data": {
      "text/html": [
       "<div>\n",
       "<style scoped>\n",
       "    .dataframe tbody tr th:only-of-type {\n",
       "        vertical-align: middle;\n",
       "    }\n",
       "\n",
       "    .dataframe tbody tr th {\n",
       "        vertical-align: top;\n",
       "    }\n",
       "\n",
       "    .dataframe thead th {\n",
       "        text-align: right;\n",
       "    }\n",
       "</style>\n",
       "<table border=\"1\" class=\"dataframe\">\n",
       "  <thead>\n",
       "    <tr style=\"text-align: right;\">\n",
       "      <th></th>\n",
       "      <th>open</th>\n",
       "      <th>high</th>\n",
       "      <th>low</th>\n",
       "      <th>close</th>\n",
       "    </tr>\n",
       "    <tr>\n",
       "      <th>time_start</th>\n",
       "      <th></th>\n",
       "      <th></th>\n",
       "      <th></th>\n",
       "      <th></th>\n",
       "    </tr>\n",
       "  </thead>\n",
       "  <tbody>\n",
       "    <tr>\n",
       "      <th>2016-03-31 00:00:00</th>\n",
       "      <td>413.27</td>\n",
       "      <td>413.27</td>\n",
       "      <td>413.27</td>\n",
       "      <td>413.27</td>\n",
       "    </tr>\n",
       "    <tr>\n",
       "      <th>2016-03-31 00:05:00</th>\n",
       "      <td>413.26</td>\n",
       "      <td>413.28</td>\n",
       "      <td>413.25</td>\n",
       "      <td>413.28</td>\n",
       "    </tr>\n",
       "    <tr>\n",
       "      <th>2016-03-31 00:10:00</th>\n",
       "      <td>413.51</td>\n",
       "      <td>414.98</td>\n",
       "      <td>413.51</td>\n",
       "      <td>414.98</td>\n",
       "    </tr>\n",
       "    <tr>\n",
       "      <th>2016-03-31 00:15:00</th>\n",
       "      <td>414.98</td>\n",
       "      <td>414.99</td>\n",
       "      <td>414.98</td>\n",
       "      <td>414.98</td>\n",
       "    </tr>\n",
       "    <tr>\n",
       "      <th>2016-03-31 00:20:00</th>\n",
       "      <td>414.98</td>\n",
       "      <td>414.99</td>\n",
       "      <td>414.98</td>\n",
       "      <td>414.99</td>\n",
       "    </tr>\n",
       "    <tr>\n",
       "      <th>...</th>\n",
       "      <td>...</td>\n",
       "      <td>...</td>\n",
       "      <td>...</td>\n",
       "      <td>...</td>\n",
       "    </tr>\n",
       "    <tr>\n",
       "      <th>2016-04-03 23:35:00</th>\n",
       "      <td>420.60</td>\n",
       "      <td>420.60</td>\n",
       "      <td>420.60</td>\n",
       "      <td>420.60</td>\n",
       "    </tr>\n",
       "    <tr>\n",
       "      <th>2016-04-03 23:40:00</th>\n",
       "      <td>NaN</td>\n",
       "      <td>NaN</td>\n",
       "      <td>NaN</td>\n",
       "      <td>NaN</td>\n",
       "    </tr>\n",
       "    <tr>\n",
       "      <th>2016-04-03 23:45:00</th>\n",
       "      <td>NaN</td>\n",
       "      <td>NaN</td>\n",
       "      <td>NaN</td>\n",
       "      <td>NaN</td>\n",
       "    </tr>\n",
       "    <tr>\n",
       "      <th>2016-04-03 23:50:00</th>\n",
       "      <td>420.60</td>\n",
       "      <td>420.60</td>\n",
       "      <td>420.60</td>\n",
       "      <td>420.60</td>\n",
       "    </tr>\n",
       "    <tr>\n",
       "      <th>2016-04-03 23:55:00</th>\n",
       "      <td>421.00</td>\n",
       "      <td>421.00</td>\n",
       "      <td>420.60</td>\n",
       "      <td>420.60</td>\n",
       "    </tr>\n",
       "  </tbody>\n",
       "</table>\n",
       "<p>1152 rows × 4 columns</p>\n",
       "</div>"
      ],
      "text/plain": [
       "                       open    high     low   close\n",
       "time_start                                         \n",
       "2016-03-31 00:00:00  413.27  413.27  413.27  413.27\n",
       "2016-03-31 00:05:00  413.26  413.28  413.25  413.28\n",
       "2016-03-31 00:10:00  413.51  414.98  413.51  414.98\n",
       "2016-03-31 00:15:00  414.98  414.99  414.98  414.98\n",
       "2016-03-31 00:20:00  414.98  414.99  414.98  414.99\n",
       "...                     ...     ...     ...     ...\n",
       "2016-04-03 23:35:00  420.60  420.60  420.60  420.60\n",
       "2016-04-03 23:40:00     NaN     NaN     NaN     NaN\n",
       "2016-04-03 23:45:00     NaN     NaN     NaN     NaN\n",
       "2016-04-03 23:50:00  420.60  420.60  420.60  420.60\n",
       "2016-04-03 23:55:00  421.00  421.00  420.60  420.60\n",
       "\n",
       "[1152 rows x 4 columns]"
      ]
     },
     "execution_count": 48,
     "metadata": {},
     "output_type": "execute_result"
    }
   ],
   "source": [
    "# Now that we know how to resample the data, we can consider creating a new open\n",
    "# high, low and close set of prices for the resampled data.\n",
    "# \n",
    "# The ohlc() method lets us find the OHLC prices for our new sampled data\n",
    "bars = ticks['close'].resample('5Min').ohlc()\n",
    "bars"
   ]
  },
  {
   "cell_type": "code",
   "execution_count": 49,
   "metadata": {},
   "outputs": [
    {
     "data": {
      "text/html": [
       "<div>\n",
       "<style scoped>\n",
       "    .dataframe tbody tr th:only-of-type {\n",
       "        vertical-align: middle;\n",
       "    }\n",
       "\n",
       "    .dataframe tbody tr th {\n",
       "        vertical-align: top;\n",
       "    }\n",
       "\n",
       "    .dataframe thead th {\n",
       "        text-align: right;\n",
       "    }\n",
       "</style>\n",
       "<table border=\"1\" class=\"dataframe\">\n",
       "  <thead>\n",
       "    <tr style=\"text-align: right;\">\n",
       "      <th></th>\n",
       "      <th>open</th>\n",
       "      <th>high</th>\n",
       "      <th>low</th>\n",
       "      <th>close</th>\n",
       "    </tr>\n",
       "    <tr>\n",
       "      <th>time_start</th>\n",
       "      <th></th>\n",
       "      <th></th>\n",
       "      <th></th>\n",
       "      <th></th>\n",
       "    </tr>\n",
       "  </thead>\n",
       "  <tbody>\n",
       "    <tr>\n",
       "      <th>2016-03-31 10:00:00</th>\n",
       "      <td>416.00</td>\n",
       "      <td>416.00</td>\n",
       "      <td>415.98</td>\n",
       "      <td>415.98</td>\n",
       "    </tr>\n",
       "    <tr>\n",
       "      <th>2016-03-31 10:05:00</th>\n",
       "      <td>415.98</td>\n",
       "      <td>415.98</td>\n",
       "      <td>415.97</td>\n",
       "      <td>415.97</td>\n",
       "    </tr>\n",
       "    <tr>\n",
       "      <th>2016-03-31 10:10:00</th>\n",
       "      <td>415.97</td>\n",
       "      <td>415.97</td>\n",
       "      <td>415.96</td>\n",
       "      <td>415.96</td>\n",
       "    </tr>\n",
       "    <tr>\n",
       "      <th>2016-03-31 10:15:00</th>\n",
       "      <td>415.96</td>\n",
       "      <td>415.97</td>\n",
       "      <td>415.96</td>\n",
       "      <td>415.96</td>\n",
       "    </tr>\n",
       "    <tr>\n",
       "      <th>2016-03-31 10:20:00</th>\n",
       "      <td>415.96</td>\n",
       "      <td>415.98</td>\n",
       "      <td>415.96</td>\n",
       "      <td>415.96</td>\n",
       "    </tr>\n",
       "    <tr>\n",
       "      <th>...</th>\n",
       "      <td>...</td>\n",
       "      <td>...</td>\n",
       "      <td>...</td>\n",
       "      <td>...</td>\n",
       "    </tr>\n",
       "    <tr>\n",
       "      <th>2016-04-03 15:40:00</th>\n",
       "      <td>421.02</td>\n",
       "      <td>421.02</td>\n",
       "      <td>421.00</td>\n",
       "      <td>421.00</td>\n",
       "    </tr>\n",
       "    <tr>\n",
       "      <th>2016-04-03 15:45:00</th>\n",
       "      <td>421.01</td>\n",
       "      <td>421.01</td>\n",
       "      <td>421.01</td>\n",
       "      <td>421.01</td>\n",
       "    </tr>\n",
       "    <tr>\n",
       "      <th>2016-04-03 15:50:00</th>\n",
       "      <td>421.01</td>\n",
       "      <td>421.01</td>\n",
       "      <td>421.01</td>\n",
       "      <td>421.01</td>\n",
       "    </tr>\n",
       "    <tr>\n",
       "      <th>2016-04-03 15:55:00</th>\n",
       "      <td>421.01</td>\n",
       "      <td>421.02</td>\n",
       "      <td>421.00</td>\n",
       "      <td>421.00</td>\n",
       "    </tr>\n",
       "    <tr>\n",
       "      <th>2016-04-03 16:00:00</th>\n",
       "      <td>421.01</td>\n",
       "      <td>421.01</td>\n",
       "      <td>421.01</td>\n",
       "      <td>421.01</td>\n",
       "    </tr>\n",
       "  </tbody>\n",
       "</table>\n",
       "<p>292 rows × 4 columns</p>\n",
       "</div>"
      ],
      "text/plain": [
       "                       open    high     low   close\n",
       "time_start                                         \n",
       "2016-03-31 10:00:00  416.00  416.00  415.98  415.98\n",
       "2016-03-31 10:05:00  415.98  415.98  415.97  415.97\n",
       "2016-03-31 10:10:00  415.97  415.97  415.96  415.96\n",
       "2016-03-31 10:15:00  415.96  415.97  415.96  415.96\n",
       "2016-03-31 10:20:00  415.96  415.98  415.96  415.96\n",
       "...                     ...     ...     ...     ...\n",
       "2016-04-03 15:40:00  421.02  421.02  421.00  421.00\n",
       "2016-04-03 15:45:00  421.01  421.01  421.01  421.01\n",
       "2016-04-03 15:50:00  421.01  421.01  421.01  421.01\n",
       "2016-04-03 15:55:00  421.01  421.02  421.00  421.00\n",
       "2016-04-03 16:00:00  421.01  421.01  421.01  421.01\n",
       "\n",
       "[292 rows x 4 columns]"
      ]
     },
     "execution_count": 49,
     "metadata": {},
     "output_type": "execute_result"
    }
   ],
   "source": [
    "# Pandas will take the first and last values in the interval to be open\n",
    "# and close for the bar. Then it will take the max and min as the high and low\n",
    "# respectively. In this way, we start filtering the data. For example, imagine we are\n",
    "# interested in the price between 10 am and 4 pm each day\n",
    "filtered = bars.between_time('10:00', '16:00')\n",
    "filtered"
   ]
  },
  {
   "cell_type": "code",
   "execution_count": 50,
   "metadata": {},
   "outputs": [
    {
     "data": {
      "text/plain": [
       "time_start\n",
       "2016-03-31 08:00:00    416.11\n",
       "2016-04-01 08:00:00    416.02\n",
       "2016-04-02 08:00:00    420.69\n",
       "2016-04-03 08:00:00    418.78\n",
       "Freq: 1440T, Name: open, dtype: float64"
      ]
     },
     "execution_count": 50,
     "metadata": {},
     "output_type": "execute_result"
    }
   ],
   "source": [
    "# We may be interested in looking at the price first thing in the morning\n",
    "# in this case, we are using at_time method\n",
    "bars.open.at_time('8:00')"
   ]
  },
  {
   "cell_type": "code",
   "execution_count": 51,
   "metadata": {},
   "outputs": [
    {
     "data": {
      "text/plain": [
       "time_start\n",
       "2016-03-31 08:00:00         NaN\n",
       "2016-04-01 08:00:00   -0.000216\n",
       "2016-04-02 08:00:00    0.011225\n",
       "2016-04-03 08:00:00   -0.004540\n",
       "Freq: 1440T, Name: open, dtype: float64"
      ]
     },
     "execution_count": 51,
     "metadata": {},
     "output_type": "execute_result"
    }
   ],
   "source": [
    "# Not only that, we can request the percentage change too by combining the methods we have\n",
    "# already discussed\n",
    "bars.open.at_time('8:00').pct_change()"
   ]
  },
  {
   "cell_type": "code",
   "execution_count": 52,
   "metadata": {},
   "outputs": [
    {
     "data": {
      "text/html": [
       "<div>\n",
       "<style scoped>\n",
       "    .dataframe tbody tr th:only-of-type {\n",
       "        vertical-align: middle;\n",
       "    }\n",
       "\n",
       "    .dataframe tbody tr th {\n",
       "        vertical-align: top;\n",
       "    }\n",
       "\n",
       "    .dataframe thead th {\n",
       "        text-align: right;\n",
       "    }\n",
       "</style>\n",
       "<table border=\"1\" class=\"dataframe\">\n",
       "  <thead>\n",
       "    <tr style=\"text-align: right;\">\n",
       "      <th></th>\n",
       "      <th>open</th>\n",
       "      <th>high</th>\n",
       "      <th>low</th>\n",
       "      <th>close</th>\n",
       "    </tr>\n",
       "    <tr>\n",
       "      <th>time_start</th>\n",
       "      <th></th>\n",
       "      <th></th>\n",
       "      <th></th>\n",
       "      <th></th>\n",
       "    </tr>\n",
       "  </thead>\n",
       "  <tbody>\n",
       "    <tr>\n",
       "      <th>2016-04-03 23:35:00</th>\n",
       "      <td>420.6</td>\n",
       "      <td>420.6</td>\n",
       "      <td>420.6</td>\n",
       "      <td>420.6</td>\n",
       "    </tr>\n",
       "    <tr>\n",
       "      <th>2016-04-03 23:40:00</th>\n",
       "      <td>NaN</td>\n",
       "      <td>NaN</td>\n",
       "      <td>NaN</td>\n",
       "      <td>NaN</td>\n",
       "    </tr>\n",
       "    <tr>\n",
       "      <th>2016-04-03 23:45:00</th>\n",
       "      <td>NaN</td>\n",
       "      <td>NaN</td>\n",
       "      <td>NaN</td>\n",
       "      <td>NaN</td>\n",
       "    </tr>\n",
       "    <tr>\n",
       "      <th>2016-04-03 23:50:00</th>\n",
       "      <td>420.6</td>\n",
       "      <td>420.6</td>\n",
       "      <td>420.6</td>\n",
       "      <td>420.6</td>\n",
       "    </tr>\n",
       "    <tr>\n",
       "      <th>2016-04-03 23:55:00</th>\n",
       "      <td>421.0</td>\n",
       "      <td>421.0</td>\n",
       "      <td>420.6</td>\n",
       "      <td>420.6</td>\n",
       "    </tr>\n",
       "  </tbody>\n",
       "</table>\n",
       "</div>"
      ],
      "text/plain": [
       "                      open   high    low  close\n",
       "time_start                                     \n",
       "2016-04-03 23:35:00  420.6  420.6  420.6  420.6\n",
       "2016-04-03 23:40:00    NaN    NaN    NaN    NaN\n",
       "2016-04-03 23:45:00    NaN    NaN    NaN    NaN\n",
       "2016-04-03 23:50:00  420.6  420.6  420.6  420.6\n",
       "2016-04-03 23:55:00  421.0  421.0  420.6  420.6"
      ]
     },
     "execution_count": 52,
     "metadata": {},
     "output_type": "execute_result"
    }
   ],
   "source": [
    "# Please note that the first percentage change connot be calculated as we do not have\n",
    "# a comparison data point from the previous interval. In this case, pandas indicates this by\n",
    "# the use of NaN\n",
    "bars.tail()"
   ]
  },
  {
   "cell_type": "code",
   "execution_count": 53,
   "metadata": {},
   "outputs": [
    {
     "data": {
      "text/html": [
       "<div>\n",
       "<style scoped>\n",
       "    .dataframe tbody tr th:only-of-type {\n",
       "        vertical-align: middle;\n",
       "    }\n",
       "\n",
       "    .dataframe tbody tr th {\n",
       "        vertical-align: top;\n",
       "    }\n",
       "\n",
       "    .dataframe thead th {\n",
       "        text-align: right;\n",
       "    }\n",
       "</style>\n",
       "<table border=\"1\" class=\"dataframe\">\n",
       "  <thead>\n",
       "    <tr style=\"text-align: right;\">\n",
       "      <th></th>\n",
       "      <th>open</th>\n",
       "      <th>high</th>\n",
       "      <th>low</th>\n",
       "      <th>close</th>\n",
       "    </tr>\n",
       "    <tr>\n",
       "      <th>time_start</th>\n",
       "      <th></th>\n",
       "      <th></th>\n",
       "      <th></th>\n",
       "      <th></th>\n",
       "    </tr>\n",
       "  </thead>\n",
       "  <tbody>\n",
       "    <tr>\n",
       "      <th>2016-03-31 00:00:00</th>\n",
       "      <td>413.27</td>\n",
       "      <td>413.27</td>\n",
       "      <td>413.27</td>\n",
       "      <td>413.27</td>\n",
       "    </tr>\n",
       "    <tr>\n",
       "      <th>2016-03-31 00:05:00</th>\n",
       "      <td>413.26</td>\n",
       "      <td>413.28</td>\n",
       "      <td>413.25</td>\n",
       "      <td>413.28</td>\n",
       "    </tr>\n",
       "    <tr>\n",
       "      <th>2016-03-31 00:10:00</th>\n",
       "      <td>413.51</td>\n",
       "      <td>414.98</td>\n",
       "      <td>413.51</td>\n",
       "      <td>414.98</td>\n",
       "    </tr>\n",
       "    <tr>\n",
       "      <th>2016-03-31 00:15:00</th>\n",
       "      <td>414.98</td>\n",
       "      <td>414.99</td>\n",
       "      <td>414.98</td>\n",
       "      <td>414.98</td>\n",
       "    </tr>\n",
       "    <tr>\n",
       "      <th>2016-03-31 00:20:00</th>\n",
       "      <td>414.98</td>\n",
       "      <td>414.99</td>\n",
       "      <td>414.98</td>\n",
       "      <td>414.99</td>\n",
       "    </tr>\n",
       "    <tr>\n",
       "      <th>...</th>\n",
       "      <td>...</td>\n",
       "      <td>...</td>\n",
       "      <td>...</td>\n",
       "      <td>...</td>\n",
       "    </tr>\n",
       "    <tr>\n",
       "      <th>2016-04-03 23:35:00</th>\n",
       "      <td>420.60</td>\n",
       "      <td>420.60</td>\n",
       "      <td>420.60</td>\n",
       "      <td>420.60</td>\n",
       "    </tr>\n",
       "    <tr>\n",
       "      <th>2016-04-03 23:40:00</th>\n",
       "      <td>420.60</td>\n",
       "      <td>420.60</td>\n",
       "      <td>420.60</td>\n",
       "      <td>420.60</td>\n",
       "    </tr>\n",
       "    <tr>\n",
       "      <th>2016-04-03 23:45:00</th>\n",
       "      <td>NaN</td>\n",
       "      <td>NaN</td>\n",
       "      <td>NaN</td>\n",
       "      <td>NaN</td>\n",
       "    </tr>\n",
       "    <tr>\n",
       "      <th>2016-04-03 23:50:00</th>\n",
       "      <td>420.60</td>\n",
       "      <td>420.60</td>\n",
       "      <td>420.60</td>\n",
       "      <td>420.60</td>\n",
       "    </tr>\n",
       "    <tr>\n",
       "      <th>2016-04-03 23:55:00</th>\n",
       "      <td>421.00</td>\n",
       "      <td>421.00</td>\n",
       "      <td>420.60</td>\n",
       "      <td>420.60</td>\n",
       "    </tr>\n",
       "  </tbody>\n",
       "</table>\n",
       "<p>1152 rows × 4 columns</p>\n",
       "</div>"
      ],
      "text/plain": [
       "                       open    high     low   close\n",
       "time_start                                         \n",
       "2016-03-31 00:00:00  413.27  413.27  413.27  413.27\n",
       "2016-03-31 00:05:00  413.26  413.28  413.25  413.28\n",
       "2016-03-31 00:10:00  413.51  414.98  413.51  414.98\n",
       "2016-03-31 00:15:00  414.98  414.99  414.98  414.98\n",
       "2016-03-31 00:20:00  414.98  414.99  414.98  414.99\n",
       "...                     ...     ...     ...     ...\n",
       "2016-04-03 23:35:00  420.60  420.60  420.60  420.60\n",
       "2016-04-03 23:40:00  420.60  420.60  420.60  420.60\n",
       "2016-04-03 23:45:00     NaN     NaN     NaN     NaN\n",
       "2016-04-03 23:50:00  420.60  420.60  420.60  420.60\n",
       "2016-04-03 23:55:00  421.00  421.00  420.60  420.60\n",
       "\n",
       "[1152 rows x 4 columns]"
      ]
     },
     "execution_count": 53,
     "metadata": {},
     "output_type": "execute_result"
    }
   ],
   "source": [
    "# We can fill in missing data with help of fillna, which taks a parameter called method.\n",
    "# It can be either 'pad' or 'ffill' to propagate last valid observation forward or instead\n",
    "# 'backfill' or 'bfill' to use the next valid observation to fill the gap.\n",
    "#\n",
    "# Here we have filled the missing data by bringing the last value forward and limiting the operation to one time period\n",
    "bars.fillna(method='ffill', limit=1)"
   ]
  },
  {
   "cell_type": "code",
   "execution_count": 54,
   "metadata": {},
   "outputs": [],
   "source": [
    "filledbars = bars.fillna(method='ffill')"
   ]
  },
  {
   "cell_type": "code",
   "execution_count": 55,
   "metadata": {},
   "outputs": [],
   "source": [
    "volume = ticks.volume.resample('5Min').sum()\n",
    "vol = volume.fillna(0.)"
   ]
  },
  {
   "cell_type": "code",
   "execution_count": 56,
   "metadata": {},
   "outputs": [
    {
     "name": "stderr",
     "output_type": "stream",
     "text": [
      "/tmp/ipykernel_62969/1113957224.py:1: FutureWarning: Indexing a DataFrame with a datetimelike index using a single string to slice the rows, like `frame[string]`, is deprecated and will be removed in a future version. Use `frame.loc[string]` instead.\n",
      "  filledbars['2016-04-03'].between_time('9:00', '23:59').plot(color=['gray', 'gray', 'gray', 'k'], style=['-', '--', '-.', '-+'])\n"
     ]
    },
    {
     "data": {
      "text/plain": [
       "<AxesSubplot: >"
      ]
     },
     "execution_count": 56,
     "metadata": {},
     "output_type": "execute_result"
    },
    {
     "data": {
      "image/png": "[encoded data removed]",
      "text/plain": [
       "<Figure size 640x480 with 2 Axes>"
      ]
     },
     "metadata": {},
     "output_type": "display_data"
    }
   ],
   "source": [
    "filledbars['2016-04-03'].between_time('9:00', '23:59').plot(color=['gray', 'gray', 'gray', 'k'], style=['-', '--', '-.', '-+'])\n",
    "vol['2016-04-03'].between_time('9:30','23:59').plot(secondary_y=True, style='k-o')"
   ]
  }
 ],
 "metadata": {
  "kernelspec": {
   "display_name": ".virtenv",
   "language": "python",
   "name": "python3"
  },
  "language_info": {
   "codemirror_mode": {
    "name": "ipython",
    "version": 3
   },
   "file_extension": ".py",
   "mimetype": "text/x-python",
   "name": "python",
   "nbconvert_exporter": "python",
   "pygments_lexer": "ipython3",
   "version": "3.10.9"
  },
  "orig_nbformat": 4,
  "vscode": {
   "interpreter": {
    "hash": "ba8d7f511d8bc67dfdde966ff5fb1ec5dc3f82972ade794bfe454c3efce046b2"
   }
  }
 },
 "nbformat": 4,
 "nbformat_minor": 2
}

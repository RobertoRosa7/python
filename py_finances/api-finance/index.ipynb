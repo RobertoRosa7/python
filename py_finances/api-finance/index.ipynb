{
 "cells": [
  {
   "cell_type": "code",
   "execution_count": 20,
   "metadata": {},
   "outputs": [],
   "source": [
    "import requests\n",
    "import pandas as pd\n",
    "import json"
   ]
  },
  {
   "cell_type": "code",
   "execution_count": 2,
   "metadata": {},
   "outputs": [],
   "source": [
    "URL_BASE = 'http://localhost:8080'\n",
    "URI = '/parking-spot'"
   ]
  },
  {
   "cell_type": "code",
   "execution_count": 35,
   "metadata": {},
   "outputs": [],
   "source": [
    "body = requests.get(URL_BASE + URI)\n",
    "data = body.json()"
   ]
  },
  {
   "cell_type": "code",
   "execution_count": 36,
   "metadata": {},
   "outputs": [
    {
     "data": {
      "text/html": [
       "<div>\n",
       "<style scoped>\n",
       "    .dataframe tbody tr th:only-of-type {\n",
       "        vertical-align: middle;\n",
       "    }\n",
       "\n",
       "    .dataframe tbody tr th {\n",
       "        vertical-align: top;\n",
       "    }\n",
       "\n",
       "    .dataframe thead th {\n",
       "        text-align: right;\n",
       "    }\n",
       "</style>\n",
       "<table border=\"1\" class=\"dataframe\">\n",
       "  <thead>\n",
       "    <tr style=\"text-align: right;\">\n",
       "      <th></th>\n",
       "      <th>id</th>\n",
       "      <th>parkingSpotNumber</th>\n",
       "      <th>licensePlateCar</th>\n",
       "      <th>brandCar</th>\n",
       "      <th>modelCar</th>\n",
       "      <th>colorCar</th>\n",
       "      <th>registrationDate</th>\n",
       "      <th>responsibleName</th>\n",
       "      <th>apartment</th>\n",
       "      <th>block</th>\n",
       "    </tr>\n",
       "  </thead>\n",
       "  <tbody>\n",
       "    <tr>\n",
       "      <th>0</th>\n",
       "      <td>2c6ed6ee-cf1e-40e9-8a47-a209555965b7</td>\n",
       "      <td>99</td>\n",
       "      <td>ABCDEFG</td>\n",
       "      <td>Jeep</td>\n",
       "      <td>Renegade</td>\n",
       "      <td>black</td>\n",
       "      <td>2023-02-03T03:44:43Z</td>\n",
       "      <td>Roberto</td>\n",
       "      <td>190</td>\n",
       "      <td>A</td>\n",
       "    </tr>\n",
       "    <tr>\n",
       "      <th>1</th>\n",
       "      <td>4ac9a61f-c87c-4498-8489-aa30771de238</td>\n",
       "      <td>2023</td>\n",
       "      <td>RRS0TW4</td>\n",
       "      <td>audi</td>\n",
       "      <td>q5</td>\n",
       "      <td>black</td>\n",
       "      <td>2023-02-02T03:08:34Z</td>\n",
       "      <td>Roberto Rosa</td>\n",
       "      <td>205</td>\n",
       "      <td>B</td>\n",
       "    </tr>\n",
       "    <tr>\n",
       "      <th>2</th>\n",
       "      <td>9e2feade-e41d-41e0-aa64-7db3a5d03b56</td>\n",
       "      <td>2059</td>\n",
       "      <td>RRS0TW3</td>\n",
       "      <td>audi</td>\n",
       "      <td>q5</td>\n",
       "      <td>black</td>\n",
       "      <td>2023-02-02T17:12:08Z</td>\n",
       "      <td>Roberto Rosa</td>\n",
       "      <td>206</td>\n",
       "      <td>B</td>\n",
       "    </tr>\n",
       "    <tr>\n",
       "      <th>3</th>\n",
       "      <td>a198643b-d8d3-43b7-beec-1c88b1dfd243</td>\n",
       "      <td>2022</td>\n",
       "      <td>RRS0TW0</td>\n",
       "      <td>audi</td>\n",
       "      <td>q5</td>\n",
       "      <td>black</td>\n",
       "      <td>2023-02-02T17:14:04Z</td>\n",
       "      <td>Roberto Rosa</td>\n",
       "      <td>202</td>\n",
       "      <td>B</td>\n",
       "    </tr>\n",
       "    <tr>\n",
       "      <th>4</th>\n",
       "      <td>c1adfe38-6f15-46c3-8ce4-54a2cb354969</td>\n",
       "      <td>2040</td>\n",
       "      <td>RRS0AB0</td>\n",
       "      <td>audi</td>\n",
       "      <td>q5</td>\n",
       "      <td>black</td>\n",
       "      <td>2023-02-02T17:15:58Z</td>\n",
       "      <td>Roberto Rosa</td>\n",
       "      <td>219</td>\n",
       "      <td>B</td>\n",
       "    </tr>\n",
       "    <tr>\n",
       "      <th>5</th>\n",
       "      <td>ea17b719-772d-4bee-81b7-20272f254c9f</td>\n",
       "      <td>2021</td>\n",
       "      <td>RRS0TB0</td>\n",
       "      <td>audi</td>\n",
       "      <td>q5</td>\n",
       "      <td>black</td>\n",
       "      <td>2023-02-02T17:15:20Z</td>\n",
       "      <td>Roberto Rosa</td>\n",
       "      <td>220</td>\n",
       "      <td>B</td>\n",
       "    </tr>\n",
       "    <tr>\n",
       "      <th>6</th>\n",
       "      <td>f40cab41-0e27-422c-9a67-6dbff6d5e405</td>\n",
       "      <td>2029</td>\n",
       "      <td>RRS0TW2</td>\n",
       "      <td>audi</td>\n",
       "      <td>q5</td>\n",
       "      <td>black</td>\n",
       "      <td>2023-02-02T17:13:39Z</td>\n",
       "      <td>Roberto Rosa</td>\n",
       "      <td>201</td>\n",
       "      <td>B</td>\n",
       "    </tr>\n",
       "  </tbody>\n",
       "</table>\n",
       "</div>"
      ],
      "text/plain": [
       "                                     id parkingSpotNumber licensePlateCar  \\\n",
       "0  2c6ed6ee-cf1e-40e9-8a47-a209555965b7                99         ABCDEFG   \n",
       "1  4ac9a61f-c87c-4498-8489-aa30771de238              2023         RRS0TW4   \n",
       "2  9e2feade-e41d-41e0-aa64-7db3a5d03b56              2059         RRS0TW3   \n",
       "3  a198643b-d8d3-43b7-beec-1c88b1dfd243              2022         RRS0TW0   \n",
       "4  c1adfe38-6f15-46c3-8ce4-54a2cb354969              2040         RRS0AB0   \n",
       "5  ea17b719-772d-4bee-81b7-20272f254c9f              2021         RRS0TB0   \n",
       "6  f40cab41-0e27-422c-9a67-6dbff6d5e405              2029         RRS0TW2   \n",
       "\n",
       "  brandCar  modelCar colorCar      registrationDate responsibleName apartment  \\\n",
       "0     Jeep  Renegade    black  2023-02-03T03:44:43Z         Roberto       190   \n",
       "1     audi        q5    black  2023-02-02T03:08:34Z    Roberto Rosa       205   \n",
       "2     audi        q5    black  2023-02-02T17:12:08Z    Roberto Rosa       206   \n",
       "3     audi        q5    black  2023-02-02T17:14:04Z    Roberto Rosa       202   \n",
       "4     audi        q5    black  2023-02-02T17:15:58Z    Roberto Rosa       219   \n",
       "5     audi        q5    black  2023-02-02T17:15:20Z    Roberto Rosa       220   \n",
       "6     audi        q5    black  2023-02-02T17:13:39Z    Roberto Rosa       201   \n",
       "\n",
       "  block  \n",
       "0     A  \n",
       "1     B  \n",
       "2     B  \n",
       "3     B  \n",
       "4     B  \n",
       "5     B  \n",
       "6     B  "
      ]
     },
     "execution_count": 36,
     "metadata": {},
     "output_type": "execute_result"
    }
   ],
   "source": [
    "df = pd.DataFrame.from_dict(data['content'])\n",
    "df"
   ]
  },
  {
   "cell_type": "code",
   "execution_count": 19,
   "metadata": {},
   "outputs": [
    {
     "data": {
      "text/plain": [
       "'[{\"id\":\"4ac9a61f-c87c-4498-8489-aa30771de238\",\"parkingSpotNumber\":\"2023\",\"licensePlateCar\":\"RRS0TW4\",\"brandCar\":\"audi\",\"modelCar\":\"q5\",\"colorCar\":\"black\",\"registrationDate\":\"2023-02-02T03:08:34Z\",\"responsibleName\":\"Roberto Rosa\",\"apartment\":\"205\",\"block\":\"B\"},{\"id\":\"9e2feade-e41d-41e0-aa64-7db3a5d03b56\",\"parkingSpotNumber\":\"2059\",\"licensePlateCar\":\"RRS0TW3\",\"brandCar\":\"audi\",\"modelCar\":\"q5\",\"colorCar\":\"black\",\"registrationDate\":\"2023-02-02T17:12:08Z\",\"responsibleName\":\"Roberto Rosa\",\"apartment\":\"206\",\"block\":\"B\"},{\"id\":\"a198643b-d8d3-43b7-beec-1c88b1dfd243\",\"parkingSpotNumber\":\"2022\",\"licensePlateCar\":\"RRS0TW0\",\"brandCar\":\"audi\",\"modelCar\":\"q5\",\"colorCar\":\"black\",\"registrationDate\":\"2023-02-02T17:14:04Z\",\"responsibleName\":\"Roberto Rosa\",\"apartment\":\"202\",\"block\":\"B\"},{\"id\":\"c1adfe38-6f15-46c3-8ce4-54a2cb354969\",\"parkingSpotNumber\":\"2040\",\"licensePlateCar\":\"RRS0AB0\",\"brandCar\":\"audi\",\"modelCar\":\"q5\",\"colorCar\":\"black\",\"registrationDate\":\"2023-02-02T17:15:58Z\",\"responsibleName\":\"Roberto Rosa\",\"apartment\":\"219\",\"block\":\"B\"},{\"id\":\"ea17b719-772d-4bee-81b7-20272f254c9f\",\"parkingSpotNumber\":\"2021\",\"licensePlateCar\":\"RRS0TB0\",\"brandCar\":\"audi\",\"modelCar\":\"q5\",\"colorCar\":\"black\",\"registrationDate\":\"2023-02-02T17:15:20Z\",\"responsibleName\":\"Roberto Rosa\",\"apartment\":\"220\",\"block\":\"B\"},{\"id\":\"f40cab41-0e27-422c-9a67-6dbff6d5e405\",\"parkingSpotNumber\":\"2029\",\"licensePlateCar\":\"RRS0TW2\",\"brandCar\":\"audi\",\"modelCar\":\"q5\",\"colorCar\":\"black\",\"registrationDate\":\"2023-02-02T17:13:39Z\",\"responsibleName\":\"Roberto Rosa\",\"apartment\":\"201\",\"block\":\"B\"}]'"
      ]
     },
     "execution_count": 19,
     "metadata": {},
     "output_type": "execute_result"
    }
   ],
   "source": [
    "to_dataframe = df.to_json(orient='records')\n",
    "to_dataframe"
   ]
  },
  {
   "cell_type": "code",
   "execution_count": 33,
   "metadata": {},
   "outputs": [
    {
     "data": {
      "text/plain": [
       "'{\"parkingSpotNumber\": \"99\", \"licensePlateCar\": \"ABCDEFG\", \"brandCar\": \"Jeep\", \"modelCar\": \"Renegade\", \"colorCar\": \"black\", \"responsibleName\": \"Roberto\", \"apartment\": \"190\", \"block\": \"A\"}'"
      ]
     },
     "execution_count": 33,
     "metadata": {},
     "output_type": "execute_result"
    }
   ],
   "source": [
    "send = json.dumps(dict({\n",
    "  \"parkingSpotNumber\":\"99\",\n",
    "  \t\"licensePlateCar\":\"ABCDEFG\",\n",
    "    \"brandCar\":\"Jeep\",\n",
    "    \"modelCar\":\"Renegade\",\n",
    "    \"colorCar\":\t\"black\", \n",
    "    \"responsibleName\":\"Roberto\",\n",
    "    \"apartment\": \"190\",\t\n",
    "    \"block\":\"A\"\n",
    "}))\n",
    "send\n"
   ]
  },
  {
   "cell_type": "code",
   "execution_count": 34,
   "metadata": {},
   "outputs": [
    {
     "name": "stdout",
     "output_type": "stream",
     "text": [
      "{'id': '2c6ed6ee-cf1e-40e9-8a47-a209555965b7', 'parkingSpotNumber': '99', 'licensePlateCar': 'ABCDEFG', 'brandCar': 'Jeep', 'modelCar': 'Renegade', 'colorCar': 'black', 'registrationDate': '2023-02-03T03:44:43Z', 'responsibleName': 'Roberto', 'apartment': '190', 'block': 'A'}\n"
     ]
    }
   ],
   "source": [
    "response = requests.post(URL_BASE + URI, data=send, headers={'Content-Type': 'application/json'})\n",
    "print(response.json())"
   ]
  }
 ],
 "metadata": {
  "kernelspec": {
   "display_name": ".venv2",
   "language": "python",
   "name": "python3"
  },
  "language_info": {
   "codemirror_mode": {
    "name": "ipython",
    "version": 3
   },
   "file_extension": ".py",
   "mimetype": "text/x-python",
   "name": "python",
   "nbconvert_exporter": "python",
   "pygments_lexer": "ipython3",
   "version": "3.10.9"
  },
  "orig_nbformat": 4,
  "vscode": {
   "interpreter": {
    "hash": "8e1c291eaefcf53708c040eee71500eab9bbd2f13bc1a223bed33e3a18e0c57f"
   }
  }
 },
 "nbformat": 4,
 "nbformat_minor": 2
}

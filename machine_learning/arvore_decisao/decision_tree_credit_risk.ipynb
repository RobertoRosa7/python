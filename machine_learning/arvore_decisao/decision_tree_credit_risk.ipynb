{
 "cells": [
  {
   "cell_type": "code",
   "execution_count": 1,
   "metadata": {},
   "outputs": [],
   "source": [
    "# -*- coding: utf-8 -*-\n",
    "import os, sys\n",
    "from os.path import dirname, join\n",
    "import pandas as pd\n",
    "from sklearn.preprocessing import LabelEncoder\n",
    "from sklearn.tree import DecisionTreeClassifier, export_graphviz"
   ]
  },
  {
   "cell_type": "code",
   "execution_count": 2,
   "metadata": {},
   "outputs": [],
   "source": [
    "df = pd.read_csv(\"../databases/risco_credito.csv\")\n",
    "previsores = df.iloc[:, 0:4].values\n",
    "classe = df.iloc[:, 4].values"
   ]
  },
  {
   "cell_type": "code",
   "execution_count": 3,
   "metadata": {},
   "outputs": [],
   "source": [
    "# Árvores de decisão não podem ser categoricos\n",
    "labelencoder = LabelEncoder()\n",
    "previsores[:, 0] = labelencoder.fit_transform(previsores[:, 0])\n",
    "previsores[:, 1] = labelencoder.fit_transform(previsores[:, 1])\n",
    "previsores[:, 2] = labelencoder.fit_transform(previsores[:, 2])\n",
    "previsores[:, 3] = labelencoder.fit_transform(previsores[:, 3])"
   ]
  },
  {
   "cell_type": "code",
   "execution_count": 4,
   "metadata": {},
   "outputs": [],
   "source": [
    "decisionTree = DecisionTreeClassifier(criterion=\"entropy\")\n",
    "\"\"\"\n",
    "  Attributes\n",
    "  -----------\n",
    "    feature_importances_ : classificar a importância de cada atributo\n",
    "  \n",
    "  Methods\n",
    "  -------\n",
    "    export_graphviz : dot_data : string\n",
    "      representação gráfica da árvore de decisção\n",
    "\"\"\"\n",
    "decisionTree = decisionTree.fit(previsores, classe)"
   ]
  },
  {
   "cell_type": "code",
   "execution_count": 5,
   "metadata": {},
   "outputs": [],
   "source": [
    "# export_graphviz(\n",
    "#     decisionTree,\n",
    "#     out_file=os.path.abspath(join(dirname(os.getcwd()), 'python/tree_credit_risk.dot')),\n",
    "#     feature_names=[\"historia\", \"divida\", \"garantias\", \"renda\"],\n",
    "#     class_names=[\"alto\", \"moderado\", \"baixo\"],\n",
    "#     filled=True,\n",
    "#     leaves_parallel=True,\n",
    "# )"
   ]
  },
  {
   "cell_type": "code",
   "execution_count": 6,
   "metadata": {},
   "outputs": [
    {
     "output_type": "stream",
     "name": "stdout",
     "text": [
      "['baixo' 'alto']\n"
     ]
    }
   ],
   "source": [
    "result = decisionTree.predict([[0, 0, 1, 2], [3, 0, 0, 0]])\n",
    "print(result)"
   ]
  }
 ],
 "metadata": {
  "kernelspec": {
   "display_name": "Python 3",
   "language": "python",
   "name": "python3"
  },
  "language_info": {
   "codemirror_mode": {
    "name": "ipython",
    "version": 3
   },
   "file_extension": ".py",
   "mimetype": "text/x-python",
   "name": "python",
   "nbconvert_exporter": "python",
   "pygments_lexer": "ipython3",
   "version": "3.8.3-final"
  }
 },
 "nbformat": 4,
 "nbformat_minor": 2
}
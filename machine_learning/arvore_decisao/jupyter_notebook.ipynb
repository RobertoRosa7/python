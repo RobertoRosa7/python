{
 "metadata": {
  "language_info": {
   "codemirror_mode": {
    "name": "ipython",
    "version": 3
   },
   "file_extension": ".py",
   "mimetype": "text/x-python",
   "name": "python",
   "nbconvert_exporter": "python",
   "pygments_lexer": "ipython3",
   "version": "3.8.3-final"
  },
  "orig_nbformat": 2,
  "kernelspec": {
   "name": "python3",
   "display_name": "Python 3"
  }
 },
 "nbformat": 4,
 "nbformat_minor": 2,
 "cells": [
  {
   "cell_type": "code",
   "execution_count": 7,
   "metadata": {},
   "outputs": [
    {
     "output_type": "error",
     "ename": "ModuleNotFoundError",
     "evalue": "No module named 'utils'",
     "traceback": [
      "\u001b[0;31m---------------------------------------------------------------------------\u001b[0m",
      "\u001b[0;31mModuleNotFoundError\u001b[0m                       Traceback (most recent call last)",
      "\u001b[0;32m<ipython-input-7-e6252b6b839e>\u001b[0m in \u001b[0;36m<module>\u001b[0;34m\u001b[0m\n\u001b[1;32m      7\u001b[0m \u001b[0;34m\u001b[0m\u001b[0m\n\u001b[1;32m      8\u001b[0m \u001b[0;32mfrom\u001b[0m \u001b[0msklearn\u001b[0m\u001b[0;34m.\u001b[0m\u001b[0mpreprocessing\u001b[0m \u001b[0;32mimport\u001b[0m \u001b[0mLabelEncoder\u001b[0m\u001b[0;34m\u001b[0m\u001b[0;34m\u001b[0m\u001b[0m\n\u001b[0;32m----> 9\u001b[0;31m \u001b[0;32mfrom\u001b[0m \u001b[0mutils\u001b[0m\u001b[0;34m.\u001b[0m\u001b[0mformats\u001b[0m \u001b[0;32mimport\u001b[0m \u001b[0mFormats\u001b[0m\u001b[0;34m\u001b[0m\u001b[0;34m\u001b[0m\u001b[0m\n\u001b[0m\u001b[1;32m     10\u001b[0m \u001b[0;32mfrom\u001b[0m \u001b[0msklearn\u001b[0m\u001b[0;34m.\u001b[0m\u001b[0mtree\u001b[0m \u001b[0;32mimport\u001b[0m \u001b[0mDecisionTreeClassifier\u001b[0m\u001b[0;34m,\u001b[0m \u001b[0mexport_graphviz\u001b[0m\u001b[0;34m\u001b[0m\u001b[0;34m\u001b[0m\u001b[0m\n\u001b[1;32m     11\u001b[0m \u001b[0;34m\u001b[0m\u001b[0m\n",
      "\u001b[0;31mModuleNotFoundError\u001b[0m: No module named 'utils'"
     ]
    }
   ],
   "source": [
    "# -*- coding: utf-8 -*-\n",
    "import os, sys\n",
    "from os.path import dirname, join\n",
    "import pandas as pd\n",
    "\n",
    "sys.path.append(os.path.abspath(os.getcwd()))\n",
    "\n",
    "from sklearn.preprocessing import LabelEncoder\n",
    "from utils.formats import Formats\n",
    "from sklearn.tree import DecisionTreeClassifier, export_graphviz\n",
    "\n",
    "formats = Formats()\n",
    "df = pd.read_csv(formats.path_database(\"risco_credito.csv\"))\n",
    "previsores = df.iloc[:, 0:4].values\n",
    "classe = df.iloc[:, 4].values\n",
    "\n",
    "# Árvores de decisão não podem ser categoricos\n",
    "labelencoder = LabelEncoder()\n",
    "previsores[:, 0] = labelencoder.fit_transform(previsores[:, 0])\n",
    "previsores[:, 1] = labelencoder.fit_transform(previsores[:, 1])\n",
    "previsores[:, 2] = labelencoder.fit_transform(previsores[:, 2])\n",
    "previsores[:, 3] = labelencoder.fit_transform(previsores[:, 3])\n",
    "\n",
    "decisionTree = DecisionTreeClassifier(criterion=\"entropy\")\n",
    "\"\"\"\n",
    "  Attributes\n",
    "  -----------\n",
    "    feature_importances_ : classificar a importância de cada atributo\n",
    "  \n",
    "  Methods\n",
    "  -------\n",
    "    export_graphviz : dot_data : string\n",
    "      representação gráfica da árvore de decisção\n",
    "\"\"\"\n",
    "decisionTree = decisionTree.fit(previsores, classe)\n",
    "# export_graphviz(\n",
    "#     decisionTree,\n",
    "#     out_file=os.path.abspath(join(dirname(os.getcwd()), 'python/tree_credit_risk.dot')),\n",
    "#     feature_names=[\"historia\", \"divida\", \"garantias\", \"renda\"],\n",
    "#     class_names=[\"alto\", \"moderado\", \"baixo\"],\n",
    "#     filled=True,\n",
    "#     leaves_parallel=True,\n",
    "# )\n",
    "result = decisionTree.predict([[0, 0, 1, 2], [3, 0, 0, 0]])\n",
    "print(result)"
   ]
  }
 ]
}
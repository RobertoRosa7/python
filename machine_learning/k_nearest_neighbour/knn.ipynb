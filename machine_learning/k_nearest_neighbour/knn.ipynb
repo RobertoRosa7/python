{
 "cells": [
  {
   "cell_type": "code",
   "execution_count": 403,
   "metadata": {},
   "outputs": [],
   "source": [
    "# -*- coding: utf-8 -*-\n",
    "import pandas as pd\n",
    "import math\n",
    "\n",
    "from sklearn.preprocessing import LabelEncoder\n"
   ]
  },
  {
   "cell_type": "code",
   "execution_count": 404,
   "metadata": {},
   "outputs": [
    {
     "output_type": "stream",
     "name": "stdout",
     "text": [
      "Ana e Marcos: 2.1213203435596424\nAna e Claudia: 0.5\nMarcos e Claudia: 1.8027756377319946\n"
     ]
    }
   ],
   "source": [
    "\n",
    "# calculo euclidiana\n",
    "ana = [3.0, 3.5]\n",
    "marcos = [1.5, 5.0]\n",
    "claudia = [3.0, 4.0]\n",
    "\n",
    "def calc(v1, v2):\n",
    "    soma = 0\n",
    "    for i in range(len(v1)):\n",
    "        soma += math.pow(v1[i] - v2[i], 2)\n",
    "    return math.sqrt(soma)\n",
    "\n",
    "print(\"Ana e Marcos: {0}\".format(calc(ana, marcos)))\n",
    "print(\"Ana e Claudia: {0}\".format(calc(ana, claudia)))\n",
    "print(\"Marcos e Claudia: {0}\".format(calc(marcos, claudia)))"
   ]
  },
  {
   "cell_type": "code",
   "execution_count": 405,
   "metadata": {},
   "outputs": [
    {
     "output_type": "stream",
     "name": "stdout",
     "text": [
      "A hora do Pesado Vs Invocação do Mal: 0.30000000000000004\nA hora do Pesado Vs Floresta Maldita: 0.17320508075688773\nA hora do Pesado Vs Meu passado me condena: 1.2124355652982142\nA hora do Pesado Vs Tirando o atraso: 1.174734012447073\n"
     ]
    }
   ],
   "source": [
    "\n",
    "# Classificação K-nearest neighbour\n",
    "# k = 1 indica aproximação mais próxima\n",
    "# k = 2 indica segunda aproximação mais próxima\n",
    "# k = 3 indica terceira aproximação mais próxima\n",
    "\n",
    "# payload modelo\n",
    "movie_payload = {\n",
    "    \"movie_name\": \"A hora do Pesadelo\",\n",
    "    \"violence\":0.8,\n",
    "    \"romance\":0.1,\n",
    "    \"action\":0.5,\n",
    "    \"comedy\":0.0\n",
    "}\n",
    "\n",
    "# converting to list and extracting values\n",
    "movie_list = list(dict.values(movie_payload))\n",
    "# hora_do_pesadelo = [float(i) for i in movie_list[1:5]]\n",
    "hora_do_pesadelo = movie_list[1:5]\n",
    "\n",
    "# read database\n",
    "df = pd.read_csv('../databases/movies.csv')\n",
    "\n",
    "# extrating only values and create a list\n",
    "invocacao_do_mal = df.iloc[0,0:5].values.tolist()[1:5]\n",
    "florest_maldiata = df.iloc[1,0:5].values.tolist()[1:5]\n",
    "meu_passado_me_condena = df.iloc[2,0:5].values.tolist()[1:5]\n",
    "tirando_atrasdo = df.iloc[3,0:5].values.tolist()[1:5]\n",
    "\n",
    "# show result\n",
    "print(\"A hora do Pesado Vs Invocação do Mal: {0}\".format(calc(hora_do_pesadelo, invocacao_do_mal)))\n",
    "print(\"A hora do Pesado Vs Floresta Maldita: {0}\".format(calc(hora_do_pesadelo, florest_maldiata)))\n",
    "print(\"A hora do Pesado Vs Meu passado me condena: {0}\".format(calc(hora_do_pesadelo, meu_passado_me_condena)))\n",
    "print(\"A hora do Pesado Vs Tirando o atraso: {0}\".format(calc(hora_do_pesadelo, tirando_atrasdo)))\n"
   ]
  },
  {
   "cell_type": "code",
   "execution_count": 406,
   "metadata": {},
   "outputs": [],
   "source": [
    "dataframe_risco = pd.read_csv('../databases/risco_credito.csv')\n",
    "# dataframe_risco"
   ]
  },
  {
   "cell_type": "code",
   "execution_count": 407,
   "metadata": {},
   "outputs": [],
   "source": [
    "predict = dataframe_risco.iloc[:, 0:4].values\n",
    "classe = dataframe_risco.iloc[:, 4]\n",
    "\n",
    "encoder = LabelEncoder()\n",
    "predict[:, 0] = encoder.fit_transform(predict[:, 0])\n",
    "predict[:, 1] = encoder.fit_transform(predict[:, 1])\n",
    "predict[:, 2] = encoder.fit_transform(predict[:, 2])\n",
    "predict[:, 3] = encoder.fit_transform(predict[:, 3])\n",
    "# classe = encoder.fit_transform(classe)\n",
    "\n",
    "# historia:0,   divida:1, garantias:2:    renda:3\n",
    "# ruim:2        alta:0,   nenhuma:1       0_15:0\n",
    "# desc:1        baixa:1   adequada:0      15_35:1\n",
    "# boa:0                                   acima_35:2\n",
    "\n",
    "# risco:0\n",
    "# alto:0\n",
    "# moderado:2\n",
    "# baixo:1\n",
    "\n",
    "# print(pd.DataFrame(classe))"
   ]
  },
  {
   "cell_type": "code",
   "execution_count": 408,
   "metadata": {},
   "outputs": [],
   "source": [
    "predict_formated = pd.DataFrame(predict, columns=['historia','divida','garantias','renda'])\n",
    "join_df = predict_formated.join(classe, lsuffix=\"_caller\", rsuffix=\"_other\")\n",
    "\n",
    "# join_df"
   ]
  },
  {
   "cell_type": "code",
   "execution_count": 409,
   "metadata": {},
   "outputs": [
    {
     "output_type": "execute_result",
     "data": {
      "text/plain": [
       "    classification     risco\n",
       "12        0.000000     baixo\n",
       "8         1.000000     baixo\n",
       "9         1.000000     baixo\n",
       "11        1.000000  moderado\n",
       "1         1.414214      alto\n",
       "3         1.414214      alto\n",
       "4         1.414214     baixo\n",
       "2         1.732051  moderado\n",
       "5         1.732051     baixo\n",
       "10        2.000000      alto\n",
       "13        2.236068      alto\n",
       "7         2.449490  moderado\n",
       "0         2.828427      alto\n",
       "6         3.000000      alto"
      ],
      "text/html": "<div>\n<style scoped>\n    .dataframe tbody tr th:only-of-type {\n        vertical-align: middle;\n    }\n\n    .dataframe tbody tr th {\n        vertical-align: top;\n    }\n\n    .dataframe thead th {\n        text-align: right;\n    }\n</style>\n<table border=\"1\" class=\"dataframe\">\n  <thead>\n    <tr style=\"text-align: right;\">\n      <th></th>\n      <th>classification</th>\n      <th>risco</th>\n    </tr>\n  </thead>\n  <tbody>\n    <tr>\n      <th>12</th>\n      <td>0.000000</td>\n      <td>baixo</td>\n    </tr>\n    <tr>\n      <th>8</th>\n      <td>1.000000</td>\n      <td>baixo</td>\n    </tr>\n    <tr>\n      <th>9</th>\n      <td>1.000000</td>\n      <td>baixo</td>\n    </tr>\n    <tr>\n      <th>11</th>\n      <td>1.000000</td>\n      <td>moderado</td>\n    </tr>\n    <tr>\n      <th>1</th>\n      <td>1.414214</td>\n      <td>alto</td>\n    </tr>\n    <tr>\n      <th>3</th>\n      <td>1.414214</td>\n      <td>alto</td>\n    </tr>\n    <tr>\n      <th>4</th>\n      <td>1.414214</td>\n      <td>baixo</td>\n    </tr>\n    <tr>\n      <th>2</th>\n      <td>1.732051</td>\n      <td>moderado</td>\n    </tr>\n    <tr>\n      <th>5</th>\n      <td>1.732051</td>\n      <td>baixo</td>\n    </tr>\n    <tr>\n      <th>10</th>\n      <td>2.000000</td>\n      <td>alto</td>\n    </tr>\n    <tr>\n      <th>13</th>\n      <td>2.236068</td>\n      <td>alto</td>\n    </tr>\n    <tr>\n      <th>7</th>\n      <td>2.449490</td>\n      <td>moderado</td>\n    </tr>\n    <tr>\n      <th>0</th>\n      <td>2.828427</td>\n      <td>alto</td>\n    </tr>\n    <tr>\n      <th>6</th>\n      <td>3.000000</td>\n      <td>alto</td>\n    </tr>\n  </tbody>\n</table>\n</div>"
     },
     "metadata": {},
     "execution_count": 409
    }
   ],
   "source": [
    "novo_payload = {\n",
    "    \"historia\": \"boa\",\n",
    "    \"divida\":\"alta\",\n",
    "    \"garantias\":\"nenhuma\",\n",
    "    \"renda\":\"acima_35\"   \n",
    "}\n",
    "novo_payload_encoded = [0,0,1,2]\n",
    "\n",
    "# novo_payload_encoded Vs Columna 9\n",
    "# col_9 = join_df.iloc[9,0:4].values.tolist()\n",
    "# col_4 = join_df.iloc[4,0:4].values.tolist()\n",
    "\n",
    "# print(\"Col 9: {0}\".format(calc(novo_payload_encoded, col_9)))\n",
    "# print(\"Col 4: {0}\".format(calc(novo_payload_encoded, col_4)))\n",
    "results = list()\n",
    "\n",
    "for i in join_df.index:\n",
    "    col_index = join_df.iloc[i, 0:4].values.tolist()\n",
    "    results.append(calc(novo_payload_encoded, col_index))\n",
    "\n",
    "final_result = pd.DataFrame(results, columns=[\"classification\"]).join(classe, lsuffix=\"_caller\", rsuffix=\"_other\").sort_values(by=\"classification\")\n",
    "\n",
    "final_result"
   ]
  },
  {
   "cell_type": "code",
   "execution_count": null,
   "metadata": {},
   "outputs": [],
   "source": [
    "# Normalização - cálculo\n",
    "# x = (max - min) / (max - min)"
   ]
  }
 ],
 "metadata": {
  "kernelspec": {
   "display_name": "Python 3",
   "language": "python",
   "name": "python3"
  },
  "language_info": {
   "codemirror_mode": {
    "name": "ipython",
    "version": 3
   },
   "file_extension": ".py",
   "mimetype": "text/x-python",
   "name": "python",
   "nbconvert_exporter": "python",
   "pygments_lexer": "ipython3",
   "version": "3.8.3-final"
  }
 },
 "nbformat": 4,
 "nbformat_minor": 2
}
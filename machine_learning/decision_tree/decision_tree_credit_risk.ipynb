{
 "cells": [
  {
   "cell_type": "code",
   "execution_count": 109,
   "metadata": {},
   "outputs": [],
   "source": [
    "# -*- coding: utf-8 -*-\n",
    "import os, sys\n",
    "from os.path import dirname, join\n",
    "import pandas as pd\n",
    "from sklearn.preprocessing import LabelEncoder\n",
    "from sklearn.tree import DecisionTreeClassifier, export_graphviz"
   ]
  },
  {
   "cell_type": "code",
   "execution_count": 110,
   "metadata": {},
   "outputs": [],
   "source": [
    "df = pd.read_csv(\"../databases/risco_credito.csv\")\n",
    "previsores = df.iloc[:, 0:4].values\n",
    "classe = df.iloc[:, 4].values"
   ]
  },
  {
   "cell_type": "code",
   "execution_count": 111,
   "metadata": {},
   "outputs": [
    {
     "output_type": "stream",
     "name": "stdout",
     "text": [
      "boa             5\ndesconhecida    5\nruim            4\nName: historia, dtype: int64\nTotal: 14\n\nalta        8\nmoderado    3\nbaixa       3\nName: divida, dtype: int64\nTotal: 14\n\nnenhuma     11\nadequada     3\nName: garantias, dtype: int64\nTotal: 14\n\nacima_35    7\n15_35       4\n0_15        3\nName: renda, dtype: int64\nTotal: 14\n\nalto        6\nbaixo       5\nmoderado    3\nName: c#risco, dtype: int64\nTotal: 14\n\n"
     ]
    }
   ],
   "source": [
    "# ATTRIBUTES\n",
    "# ----------\n",
    "\n",
    "for c in df.columns:\n",
    "    print(\n",
    "        \"{0}\\nTotal: {1}\\n\".format(df[c].value_counts(), \n",
    "        df['garantias'].value_counts().values.sum()))"
   ]
  },
  {
   "cell_type": "code",
   "execution_count": 112,
   "metadata": {},
   "outputs": [
    {
     "output_type": "stream",
     "name": "stdout",
     "text": [
      "boa    5\nName: historia, dtype: int64\nalta        3\nmoderado    1\nbaixa       1\nName: divida, dtype: int64\nboa: 5 divida: 2 errors: 0.4\n"
     ]
    }
   ],
   "source": [
    "# REGRA HISTORIA DE CRÉDITO - ATTRIBUTE BOA\n",
    "\n",
    "attr_boa = df.iloc[:, 0:2].loc[df['historia'] == 'boa']\n",
    "total_attr_divida_boa = pd.DataFrame(attr_boa)['divida'].value_counts().values.sum()\n",
    "\n",
    "max_value_divida_boa = total_attr_divida_boa - pd.DataFrame(attr_boa)['divida'].value_counts().values.max()\n",
    "\n",
    "max_value_historia_boa = pd.DataFrame(attr_boa)['historia'].value_counts().values.max()\n",
    "error_boa = max_value_divida_boa / max_value_historia_boa\n",
    "\n",
    "for c in pd.DataFrame(attr_boa).columns:\n",
    "    print('{0}'.format(pd.DataFrame(attr_boa)[c].value_counts()))\n",
    "\n",
    "print(\"boa: {0} divida: {1} errors: {2}\"\n",
    "    .format(max_value_historia_boa, max_value_divida_boa, error_boa))"
   ]
  },
  {
   "cell_type": "code",
   "execution_count": 113,
   "metadata": {},
   "outputs": [
    {
     "output_type": "stream",
     "name": "stdout",
     "text": [
      "desconhecida    5\nName: historia, dtype: int64\nbaixa       2\nalta        2\nmoderado    1\nName: divida, dtype: int64\ndesconhecida: 5 divida: 3 errors: 0.6\n"
     ]
    }
   ],
   "source": [
    "# REGRA HISTORIA DE CRÉDITO - ATTRIBUTE DESCONHECIA\n",
    "\n",
    "attr_desc = df.iloc[:, 0:2].loc[df.historia == 'desconhecida']\n",
    "total_attr_divida_desc = pd.DataFrame(attr_desc)['divida'].value_counts().values.sum()\n",
    "\n",
    "max_value_divida_desc = total_attr_divida_desc - pd.DataFrame(attr_desc)['divida'].value_counts().values.max()\n",
    "\n",
    "max_value_desc = pd.DataFrame(attr_desc)['historia'].value_counts().values.max()\n",
    "error_desc = max_value_divida_desc / max_value_desc\n",
    "\n",
    "for c in pd.DataFrame(attr_desc).columns:\n",
    "    print('{0}'.format(pd.DataFrame(attr_desc)[c].value_counts()))\n",
    "\n",
    "print(\"desconhecida: {0} divida: {1} errors: {2}\"\n",
    "    .format(max_value_desc, max_value_divida_desc, error_desc))"
   ]
  },
  {
   "cell_type": "code",
   "execution_count": 114,
   "metadata": {},
   "outputs": [
    {
     "output_type": "stream",
     "name": "stdout",
     "text": [
      "ruim    4\nName: historia, dtype: int64\nalta        3\nmoderado    1\nName: divida, dtype: int64\ndesconhecida: 4 divida: 1 errors: 0.25\n"
     ]
    }
   ],
   "source": [
    "# REGRA HISTORIA DE CRÉDITO - ATTRIBUTE RUIM\n",
    "attr_ruim = df.iloc[:, 0:2].loc[df.historia == 'ruim']\n",
    "total_attr_divida_ruim = pd.DataFrame(attr_ruim)['divida'].value_counts().values.sum()\n",
    "\n",
    "max_value_divida_ruim = total_attr_divida_ruim - pd.DataFrame(attr_ruim)['divida'].value_counts().values.max()\n",
    "\n",
    "max_value_ruim = pd.DataFrame(attr_ruim)['historia'].value_counts().values.max()\n",
    "error_ruim = max_value_divida_ruim / max_value_ruim\n",
    "\n",
    "for c in pd.DataFrame(attr_ruim).columns:\n",
    "    print('{0}'.format(pd.DataFrame(attr_ruim)[c].value_counts()))\n",
    "\n",
    "print(\"desconhecida: {0} divida: {1} errors: {2}\"\n",
    "    .format(max_value_ruim, max_value_divida_ruim, error_ruim))\n"
   ]
  },
  {
   "cell_type": "code",
   "execution_count": 115,
   "metadata": {},
   "outputs": [
    {
     "output_type": "stream",
     "name": "stdout",
     "text": [
      "14\n"
     ]
    }
   ],
   "source": [
    "# REGRA HISTORIA DE CRÉDITO - TOTAL DE ERROS\n",
    "print((error_boa + error_desc + error_ruim) / df.historia.value_counts().values.sum())"
   ]
  },
  {
   "cell_type": "code",
   "execution_count": 116,
   "metadata": {},
   "outputs": [],
   "source": [
    "# Árvores de decisão não podem ser categoricos\n",
    "labelencoder = LabelEncoder()\n",
    "previsores[:, 0] = labelencoder.fit_transform(previsores[:, 0])\n",
    "previsores[:, 1] = labelencoder.fit_transform(previsores[:, 1])\n",
    "previsores[:, 2] = labelencoder.fit_transform(previsores[:, 2])\n",
    "previsores[:, 3] = labelencoder.fit_transform(previsores[:, 3])"
   ]
  },
  {
   "cell_type": "code",
   "execution_count": 117,
   "metadata": {},
   "outputs": [],
   "source": [
    "decisionTree = DecisionTreeClassifier(criterion=\"entropy\")\n",
    "\"\"\"\n",
    "  Attributes\n",
    "  -----------\n",
    "    feature_importances_ : classificar a importância de cada atributo\n",
    "  \n",
    "  Methods\n",
    "  -------\n",
    "    export_graphviz : dot_data : string\n",
    "      representação gráfica da árvore de decisção\n",
    "\"\"\"\n",
    "decisionTree = decisionTree.fit(previsores, classe)"
   ]
  },
  {
   "cell_type": "code",
   "execution_count": 118,
   "metadata": {},
   "outputs": [],
   "source": [
    "# export_graphviz(\n",
    "#     decisionTree,\n",
    "#     out_file=os.path.abspath(join(dirname(os.getcwd()), 'python/tree_credit_risk.dot')),\n",
    "#     feature_names=[\"historia\", \"divida\", \"garantias\", \"renda\"],\n",
    "#     class_names=[\"alto\", \"moderado\", \"baixo\"],\n",
    "#     filled=True,\n",
    "#     leaves_parallel=True,\n",
    "# )"
   ]
  },
  {
   "cell_type": "code",
   "execution_count": 119,
   "metadata": {},
   "outputs": [],
   "source": [
    "result = decisionTree.predict([[0, 0, 1, 2], [3, 0, 0, 0]])"
   ]
  },
  {
   "cell_type": "code",
   "execution_count": null,
   "metadata": {},
   "outputs": [],
   "source": []
  }
 ],
 "metadata": {
  "kernelspec": {
   "display_name": "Python 3",
   "language": "python",
   "name": "python3"
  },
  "language_info": {
   "codemirror_mode": {
    "name": "ipython",
    "version": 3
   },
   "file_extension": ".py",
   "mimetype": "text/x-python",
   "name": "python",
   "nbconvert_exporter": "python",
   "pygments_lexer": "ipython3",
   "version": "3.8.3-final"
  }
 },
 "nbformat": 4,
 "nbformat_minor": 2
}
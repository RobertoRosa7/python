{
 "cells": [
  {
   "cell_type": "code",
   "execution_count": 1327,
   "metadata": {},
   "outputs": [],
   "source": [
    "# -*- coding: utf-8 -*-\n",
    "import os, sys\n",
    "from os.path import dirname, join\n",
    "import pandas as pd\n",
    "from sklearn.preprocessing import LabelEncoder\n",
    "from sklearn.tree import DecisionTreeClassifier, export_graphviz"
   ]
  },
  {
   "cell_type": "code",
   "execution_count": 1328,
   "metadata": {},
   "outputs": [],
   "source": [
    "df = pd.read_csv(\"../databases/risco_credito.csv\")\n",
    "previsores = df.iloc[:, 0:4].values\n",
    "classe = df.iloc[:, 4].values"
   ]
  },
  {
   "cell_type": "code",
   "execution_count": 1329,
   "metadata": {},
   "outputs": [
    {
     "output_type": "stream",
     "name": "stdout",
     "text": [
      "boa             5\ndesconhecida    5\nruim            4\nName: historia, dtype: int64\nTotal: 14\n\nbaixa    7\nalta     7\nName: divida, dtype: int64\nTotal: 14\n\nnenhuma     11\nadequada     3\nName: garantias, dtype: int64\nTotal: 14\n\nacima_35    7\n15_35       4\n0_15        3\nName: renda, dtype: int64\nTotal: 14\n\nalto        6\nbaixo       5\nmoderado    3\nName: risco, dtype: int64\nTotal: 14\n\n"
     ]
    }
   ],
   "source": [
    "# ATTRIBUTES\n",
    "# ----------\n",
    "\n",
    "for c in df.columns:\n",
    "    print(\n",
    "        \"{0}\\nTotal: {1}\\n\".format(df[c].value_counts(), \n",
    "        df['garantias'].value_counts().values.sum()))"
   ]
  },
  {
   "cell_type": "code",
   "execution_count": 1330,
   "metadata": {},
   "outputs": [
    {
     "output_type": "stream",
     "name": "stdout",
     "text": [
      "Boa: 5 Regras: se for boa então baixo Erro: 2/5\nDesconhecia: 5 Regras: se for desc então alto Erro: 3/5\nRuim: 4 Regras: se for ruim então alto Erro: 1/4\nTotal: 6/14\n"
     ]
    }
   ],
   "source": [
    "# REGRA HISTORIA DE CRÉDITO - ALGORITHM ONER\n",
    "col_historia = df.iloc[:, 0]\n",
    "col_risco = df.iloc[:, 4]\n",
    "col_merge = pd.DataFrame(col_historia).join(col_risco, lsuffix='_caller', rsuffix='_other')\n",
    "\n",
    "attr_boa = col_merge.loc[col_merge['historia'] == 'boa']\n",
    "attr_risco_boa = pd.DataFrame(attr_boa)['risco'].value_counts()\n",
    "attr_historia_boa = pd.DataFrame(attr_boa)['historia'].value_counts()\n",
    "\n",
    "attr_desc = col_merge.loc[col_merge['historia'] == 'desconhecida']\n",
    "attr_risco_desc = pd.DataFrame(attr_desc)['risco'].value_counts()\n",
    "attr_historia_desc= pd.DataFrame(attr_desc)['historia'].value_counts()\n",
    "\n",
    "attr_ruim = col_merge.loc[col_merge['historia'] == 'ruim']\n",
    "attr_risco_ruim = pd.DataFrame(attr_ruim)['risco'].value_counts()\n",
    "attr_historia_ruim = pd.DataFrame(attr_ruim)['historia'].value_counts()\n",
    "\n",
    "max_value_risco_boa = attr_risco_boa.values.sum() - attr_risco_boa.values.max()\n",
    "max_value_risco_desc = attr_risco_desc.values.sum() - attr_risco_desc.values.max()\n",
    "max_value_risco_ruim = attr_risco_ruim.values.sum() - attr_risco_ruim.values.max()\n",
    "\n",
    "rules_boa = \"se for boa então \" + attr_risco_boa.index[0]\n",
    "rules_desc = \"se for desc então \" + attr_risco_desc.index[0]\n",
    "rules_ruim = \"se for ruim então \" + attr_risco_ruim.index[0]\n",
    "\n",
    "max_value_historia_boa = attr_historia_boa.values.max()\n",
    "max_value_historia_desc = attr_historia_desc.values.max()\n",
    "max_value_historia_ruim = attr_historia_ruim.values.max()\n",
    "\n",
    "error_boa = max_value_risco_boa / max_value_historia_boa\n",
    "error_desc = max_value_risco_desc / max_value_historia_desc\n",
    "erro_ruim = max_value_risco_ruim / max_value_historia_ruim\n",
    "\n",
    "print(\n",
    "    \"Boa: {0} Regras: {1} Erro: {2}/{3}\".format(\n",
    "        max_value_historia_boa, rules_boa,\n",
    "        max_value_risco_boa, max_value_historia_boa\n",
    "    )\n",
    ")\n",
    "print(\n",
    "    \"Desconhecia: {0} Regras: {1} Erro: {2}/{3}\".format(\n",
    "        max_value_historia_desc, rules_desc,\n",
    "        max_value_risco_desc, max_value_historia_desc\n",
    "    )\n",
    ")\n",
    "print(\n",
    "    \"Ruim: {0} Regras: {1} Erro: {2}/{3}\".format(\n",
    "        max_value_historia_ruim, rules_ruim,\n",
    "        max_value_risco_ruim, max_value_historia_ruim\n",
    "    )\n",
    ")\n",
    "print(\n",
    "    \"Total: {0}/{1}\".format((max_value_risco_boa + max_value_risco_desc + max_value_risco_ruim), col_historia.value_counts().values.sum()))"
   ]
  },
  {
   "cell_type": "code",
   "execution_count": 1331,
   "metadata": {},
   "outputs": [
    {
     "output_type": "stream",
     "name": "stdout",
     "text": [
      "Alta: 7 Regras: se for alta então alto Erro: 3/7\nBaixa: 7 Regras: se for baixa então baixo Erro: 4/7\nTotal: 7/14\n"
     ]
    }
   ],
   "source": [
    "# REGRA DIVIDA DE CRÉDITO - ALGORITHM ONER\n",
    "col_divida = df.iloc[:, 1]\n",
    "col_risco = df.iloc[:, 4]\n",
    "col_merge = pd.DataFrame(col_divida).join(col_risco, lsuffix='_caller', rsuffix='_other')\n",
    "\n",
    "attr_baixa = col_merge.loc[col_merge.divida == 'baixa']\n",
    "attr_alta = col_merge.loc[col_merge.divida == 'alta']\n",
    "\n",
    "attr_risco_baixa = pd.DataFrame(attr_baixa).risco.value_counts()\n",
    "attr_risco_alta = pd.DataFrame(attr_alta).risco.value_counts()\n",
    "attr_divida_alta = pd.DataFrame(attr_alta).divida.value_counts()\n",
    "attr_divida_baixa = pd.DataFrame(attr_baixa).divida.value_counts()\n",
    "\n",
    "max_value_risco_alta = attr_risco_alta.values.sum() - attr_risco_alta.values.max()\n",
    "max_value_risco_baixa = attr_risco_baixa.values.sum() - attr_risco_baixa.values.max()\n",
    "max_value_divida_alta = attr_divida_alta.values.max()\n",
    "max_value_divida_baixa = attr_divida_baixa.values.max()\n",
    "\n",
    "rules_alta = \"se for alta então \" + attr_risco_alta.index[0]\n",
    "rules_baixa = \"se for baixa então \" + attr_risco_baixa.index[0]\n",
    "\n",
    "error_alta = max_value_risco_alta / max_value_divida_alta\n",
    "error_baixa = max_value_risco_baixa / max_value_divida_baixa\n",
    "\n",
    "print(\n",
    "    \"Alta: {0} Regras: {1} Erro: {2}/{3}\".format(\n",
    "        max_value_divida_alta, rules_alta,\n",
    "        max_value_risco_alta, max_value_divida_alta\n",
    "    )\n",
    ")\n",
    "print(\n",
    "    \"Baixa: {0} Regras: {1} Erro: {2}/{3}\".format(\n",
    "        max_value_divida_baixa, rules_baixa,\n",
    "        max_value_risco_baixa, max_value_divida_baixa\n",
    "    )\n",
    ")\n",
    "print(\n",
    "    \"Total: {0}/{1}\".format((max_value_risco_alta + max_value_risco_baixa), col_divida.value_counts().values.sum()))"
   ]
  },
  {
   "cell_type": "code",
   "execution_count": 1332,
   "metadata": {},
   "outputs": [],
   "source": [
    "# Árvores de decisão não podem ser categoricos\n",
    "labelencoder = LabelEncoder()\n",
    "previsores[:, 0] = labelencoder.fit_transform(previsores[:, 0])\n",
    "previsores[:, 1] = labelencoder.fit_transform(previsores[:, 1])\n",
    "previsores[:, 2] = labelencoder.fit_transform(previsores[:, 2])\n",
    "previsores[:, 3] = labelencoder.fit_transform(previsores[:, 3])"
   ]
  },
  {
   "cell_type": "code",
   "execution_count": 1333,
   "metadata": {},
   "outputs": [],
   "source": [
    "decisionTree = DecisionTreeClassifier(criterion=\"entropy\")\n",
    "\"\"\"\n",
    "  Attributes\n",
    "  -----------\n",
    "    feature_importances_ : classificar a importância de cada atributo\n",
    "  \n",
    "  Methods\n",
    "  -------\n",
    "    export_graphviz : dot_data : string\n",
    "      representação gráfica da árvore de decisção\n",
    "\"\"\"\n",
    "decisionTree = decisionTree.fit(previsores, classe)"
   ]
  },
  {
   "cell_type": "code",
   "execution_count": 1334,
   "metadata": {},
   "outputs": [],
   "source": [
    "# export_graphviz(\n",
    "#     decisionTree,\n",
    "#     out_file=os.path.abspath(join(dirname(os.getcwd()), 'python/tree_credit_risk.dot')),\n",
    "#     feature_names=[\"historia\", \"divida\", \"garantias\", \"renda\"],\n",
    "#     class_names=[\"alto\", \"moderado\", \"baixo\"],\n",
    "#     filled=True,\n",
    "#     leaves_parallel=True,\n",
    "# )"
   ]
  },
  {
   "cell_type": "code",
   "execution_count": 1335,
   "metadata": {},
   "outputs": [],
   "source": [
    "result = decisionTree.predict([[0, 0, 1, 2], [3, 0, 0, 0]])"
   ]
  },
  {
   "cell_type": "code",
   "execution_count": null,
   "metadata": {},
   "outputs": [],
   "source": []
  }
 ],
 "metadata": {
  "kernelspec": {
   "display_name": "Python 3",
   "language": "python",
   "name": "python3"
  },
  "language_info": {
   "codemirror_mode": {
    "name": "ipython",
    "version": 3
   },
   "file_extension": ".py",
   "mimetype": "text/x-python",
   "name": "python",
   "nbconvert_exporter": "python",
   "pygments_lexer": "ipython3",
   "version": "3.8.3-final"
  }
 },
 "nbformat": 4,
 "nbformat_minor": 2
}
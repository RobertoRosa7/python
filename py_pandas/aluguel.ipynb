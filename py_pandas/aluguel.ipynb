{
 "cells": [
  {
   "cell_type": "markdown",
   "metadata": {},
   "source": [
    "# Relatório de Análise I"
   ]
  },
  {
   "cell_type": "markdown",
   "metadata": {},
   "source": [
    "#### Importando a Base de Dados"
   ]
  },
  {
   "cell_type": "code",
   "execution_count": null,
   "metadata": {},
   "outputs": [],
   "source": [
    "import pandas as pd"
   ]
  },
  {
   "cell_type": "code",
   "execution_count": null,
   "metadata": {},
   "outputs": [],
   "source": [
    "dados = pd.read_csv('../data/aluguel2.csv', sep=\";\")\n",
    "# df_json = pd.read_json('../data/aluguel.json')\n",
    "# df_txt = pd.read_table('../data/aluguel.txt')\n",
    "# df_xlsx = pd.read_excel('../data/aluguel.xlsx')\n",
    "# df_html = pd.read_html('../data/dados_html_1.html')"
   ]
  },
  {
   "cell_type": "markdown",
   "metadata": {},
   "source": [
    "##### Infomações Gerais sobre a Base de Dados"
   ]
  },
  {
   "cell_type": "code",
   "execution_count": null,
   "metadata": {},
   "outputs": [],
   "source": [
    "tipos_de_dados = pd.DataFrame(dados.dtypes, columns=[\"Tipos de Dados\"])\n",
    "tipos_de_dados.columns.name ='Variaveis'\n",
    "tipos_de_dados"
   ]
  },
  {
   "cell_type": "code",
   "execution_count": null,
   "metadata": {},
   "outputs": [],
   "source": [
    "print('A Base de dados apresenta {} registros (imóveis) e {} variáveis'.format(dados.shape[0], dados.shape[1]))"
   ]
  },
  {
   "cell_type": "markdown",
   "metadata": {},
   "source": [
    "##### Descrição"
   ]
  },
  {
   "cell_type": "code",
   "execution_count": null,
   "metadata": {},
   "outputs": [],
   "source": [
    "dados.describe()"
   ]
  },
  {
   "cell_type": "markdown",
   "metadata": {},
   "source": [
    "##### Os 10 primerios resultados"
   ]
  },
  {
   "cell_type": "code",
   "execution_count": null,
   "metadata": {},
   "outputs": [],
   "source": [
    "dados.head(10)"
   ]
  },
  {
   "cell_type": "markdown",
   "metadata": {},
   "source": [
    "##### Tipos de Imóveis"
   ]
  },
  {
   "cell_type": "code",
   "execution_count": null,
   "metadata": {},
   "outputs": [],
   "source": [
    "dados['Tipo']"
   ]
  },
  {
   "cell_type": "code",
   "execution_count": null,
   "metadata": {},
   "outputs": [],
   "source": [
    "tipo_de_imovel = dados['Tipo']\n",
    "type(tipo_de_imovel)"
   ]
  },
  {
   "cell_type": "code",
   "execution_count": null,
   "metadata": {},
   "outputs": [],
   "source": [
    "tipo_de_imovel.drop_duplicates(inplace=True)\n",
    "tipo_de_imovel"
   ]
  },
  {
   "cell_type": "markdown",
   "metadata": {},
   "source": [
    "##### Organizando a Visualização"
   ]
  },
  {
   "cell_type": "code",
   "execution_count": null,
   "metadata": {},
   "outputs": [],
   "source": [
    "tipo_de_imovel = pd.DataFrame(tipo_de_imovel)\n",
    "tipo_de_imovel.index = range(tipo_de_imovel.shape[0])\n",
    "tipo_de_imovel.columns.name = 'Id'\n",
    "tipo_de_imovel"
   ]
  },
  {
   "cell_type": "code",
   "execution_count": null,
   "metadata": {},
   "outputs": [],
   "source": [
    "series = {'Linha' + str(i): i + 1 for i in range(5)}\n",
    "s = pd.Series(series)"
   ]
  },
  {
   "cell_type": "code",
   "execution_count": null,
   "metadata": {},
   "outputs": [],
   "source": [
    "s2 = s + 2\n",
    "s2"
   ]
  },
  {
   "cell_type": "markdown",
   "metadata": {},
   "source": [
    "##### Filtro - Imóveis Residenciais"
   ]
  },
  {
   "cell_type": "code",
   "execution_count": null,
   "metadata": {},
   "outputs": [],
   "source": [
    "list(dados['Tipo'].drop_duplicates())"
   ]
  },
  {
   "cell_type": "code",
   "execution_count": null,
   "metadata": {},
   "outputs": [],
   "source": [
    "residenciais = ['Quitinete', 'Casa', 'Apartamento', 'Casa de Condomínio', 'Casa de Vila']"
   ]
  },
  {
   "cell_type": "code",
   "execution_count": null,
   "metadata": {},
   "outputs": [],
   "source": [
    "selecao = dados['Tipo'].isin(residenciais)\n",
    "dados_residenciais = dados[selecao]\n",
    "dados_residenciais"
   ]
  },
  {
   "cell_type": "code",
   "execution_count": null,
   "metadata": {},
   "outputs": [],
   "source": [
    "dados_residenciais.shape"
   ]
  },
  {
   "cell_type": "code",
   "execution_count": null,
   "metadata": {},
   "outputs": [],
   "source": [
    "dados_residenciais.index = range(dados_residenciais.shape[0])"
   ]
  },
  {
   "cell_type": "markdown",
   "metadata": {},
   "source": [
    "##### Exportando a Base de Dados"
   ]
  },
  {
   "cell_type": "code",
   "execution_count": null,
   "metadata": {},
   "outputs": [],
   "source": [
    "# dados_residenciais.to_csv('../data/aluguel_residencial.csv', sep=\";\", index=False)\n",
    "dados_residenciais2 = pd.read_csv('../data/aluguel_residencial.csv', sep=\";\")"
   ]
  },
  {
   "cell_type": "markdown",
   "metadata": {},
   "source": [
    "##### Selecionar somente os imóveis classificados com tipo \"Apartamento\""
   ]
  },
  {
   "cell_type": "code",
   "execution_count": null,
   "metadata": {},
   "outputs": [],
   "source": [
    "# dados_residenciais2[dados_residenciais2[\"Tipo\"] == \"Apartamento\"]\n",
    "query = \"\"\"Tipo == 'Apartamento'\"\"\"\n",
    "n1 = dados_residenciais2.query(query)\n",
    "n1.shape[0]"
   ]
  },
  {
   "cell_type": "markdown",
   "metadata": {},
   "source": [
    "##### Selecionar os imóveis classificados com tipos \"casa de condomínio\", \"casa\" e \"casa de vila\""
   ]
  },
  {
   "cell_type": "code",
   "execution_count": null,
   "metadata": {},
   "outputs": [],
   "source": [
    "query = \"\"\"Tipo == 'Casa' | Tipo == 'Casa de Vila' | Tipo == 'Casa de Condomínio'\"\"\"\n",
    "n2 = dados_residenciais2.query(query)\n",
    "n2.shape[0]"
   ]
  },
  {
   "cell_type": "markdown",
   "metadata": {},
   "source": [
    "##### Selecionar os imóveis com área entre 60 e 100 quadrado incluindo os limites"
   ]
  },
  {
   "cell_type": "code",
   "execution_count": null,
   "metadata": {},
   "outputs": [],
   "source": [
    "query = \"\"\"Area >= 60 & Area <= 100\"\"\"\n",
    "n3 = dados_residenciais2.query(query)\n",
    "n3.shape[0]"
   ]
  },
  {
   "cell_type": "markdown",
   "metadata": {},
   "source": [
    "##### Selecionar os imóveis que tenham pelo menos 4 quartos e aluguel menor que R$ 2.000,00"
   ]
  },
  {
   "cell_type": "code",
   "execution_count": null,
   "metadata": {},
   "outputs": [],
   "source": [
    "query = \"\"\"Suites >= 4 & Valor < 2000\"\"\"\n",
    "n4 = dados_residenciais2.query(query)\n",
    "n4.shape[0]"
   ]
  },
  {
   "cell_type": "code",
   "execution_count": null,
   "metadata": {},
   "outputs": [],
   "source": [
    "columns = ['imovel_tipo_apartamento', 'imovel_tipo_casa', 'imovel_area_60_e_100','imovel_suite_valor']\n",
    "data = [[n1.shape[0], n2.shape[0], n3.shape[0],n4.shape[0]]]\n",
    "\n",
    "result = pd.DataFrame(columns=columns, data=data)\n",
    "result"
   ]
  },
  {
   "cell_type": "markdown",
   "metadata": {},
   "source": [
    "##### Tratamento de Dados faltantes"
   ]
  },
  {
   "cell_type": "code",
   "execution_count": null,
   "metadata": {},
   "outputs": [],
   "source": [
    "df = pd.read_csv('../data/aluguel_residencial.csv', sep=\";\")\n",
    "df.head(10)"
   ]
  },
  {
   "cell_type": "code",
   "execution_count": null,
   "metadata": {},
   "outputs": [],
   "source": [
    "df.info()"
   ]
  },
  {
   "cell_type": "code",
   "execution_count": null,
   "metadata": {},
   "outputs": [],
   "source": [
    "\n",
    "# df[df['Valor'].isnull()]\n",
    "# df[df['Valor'].isna()]\n",
    "df.dropna(subset=['Valor'], inplace=True)\n",
    "selecao = (df[\"Condominio\"].isnull() & df['Tipo'] == 'Apartamento')\n",
    "df = df[~selecao]"
   ]
  },
  {
   "cell_type": "code",
   "execution_count": null,
   "metadata": {},
   "outputs": [],
   "source": [
    "# df.fillna(0, inplace=True)\n",
    "df = df.fillna({'Condominio': 0, 'IPTU': 0})"
   ]
  },
  {
   "cell_type": "code",
   "execution_count": null,
   "metadata": {},
   "outputs": [],
   "source": [
    "df[df['Condominio'].isnull()].shape[0]"
   ]
  },
  {
   "cell_type": "code",
   "execution_count": null,
   "metadata": {},
   "outputs": [],
   "source": [
    "df[df['IPTU'].isnull()].shape\n"
   ]
  },
  {
   "cell_type": "code",
   "execution_count": null,
   "metadata": {},
   "outputs": [],
   "source": [
    "df.info()"
   ]
  },
  {
   "cell_type": "markdown",
   "metadata": {},
   "source": [
    "##### Selecionar o valor bruto de cada imovel"
   ]
  },
  {
   "cell_type": "code",
   "execution_count": null,
   "metadata": {},
   "outputs": [],
   "source": [
    "df = pd.read_csv('../data/aluguel_residencial2.csv', sep=\";\")\n",
    "df['Valor Bruto'] = df[\"Valor\"] + df[\"Condominio\"] + df[\"IPTU\"]"
   ]
  },
  {
   "cell_type": "markdown",
   "metadata": {},
   "source": [
    "##### Valor por metro quadrado"
   ]
  },
  {
   "cell_type": "code",
   "execution_count": null,
   "metadata": {},
   "outputs": [],
   "source": [
    "df[\"Valor m2\"] = (df[\"Valor\"] / df[\"Area\"]).round(2)"
   ]
  },
  {
   "cell_type": "code",
   "execution_count": null,
   "metadata": {},
   "outputs": [],
   "source": [
    "df[\"Valor Bruto m2\"] = (df[\"Valor Bruto\"] / df[\"Area\"]).round(2)"
   ]
  },
  {
   "cell_type": "markdown",
   "metadata": {},
   "source": [
    "##### Fazendo a seleção de Casas"
   ]
  },
  {
   "cell_type": "code",
   "execution_count": null,
   "metadata": {},
   "outputs": [],
   "source": [
    "casas = ['Casa', 'Casa de Condomínio', 'Casa de Vila']\n",
    "df[\"Tipo Agregado\"] = df[\"Tipo\"].apply(lambda x: 'Casa' if x in casas else 'Apartamento')"
   ]
  },
  {
   "cell_type": "markdown",
   "metadata": {},
   "source": [
    "##### Fazendo a remoção de variáveis no DataFrame"
   ]
  },
  {
   "cell_type": "code",
   "execution_count": null,
   "metadata": {},
   "outputs": [],
   "source": [
    "df_aux = pd.DataFrame(df[['Tipo Agregado', 'Valor m2', 'Valor Bruto', 'Valor Bruto m2']])"
   ]
  },
  {
   "cell_type": "code",
   "execution_count": null,
   "metadata": {},
   "outputs": [],
   "source": [
    "# del df_aux['Valor Bruto m2']\n",
    "# df_aux"
   ]
  },
  {
   "cell_type": "code",
   "execution_count": null,
   "metadata": {},
   "outputs": [],
   "source": [
    "# df_aux.pop('Valor Bruto')\n",
    "# df_aux"
   ]
  },
  {
   "cell_type": "code",
   "execution_count": null,
   "metadata": {},
   "outputs": [],
   "source": [
    "# axis=1 para colunas\n",
    "# axis=0 para linhas\n",
    "df.drop(['Valor Bruto m2', 'Valor Bruto'], axis=1, inplace=True)\n",
    "# df.to_csv('../data/aluguel_residencial3.csv', sep=\";\", index=False)"
   ]
  },
  {
   "cell_type": "markdown",
   "metadata": {},
   "source": [
    "##### Fazendo a contagem de repetições"
   ]
  },
  {
   "cell_type": "code",
   "execution_count": null,
   "metadata": {},
   "outputs": [],
   "source": [
    "df = pd.read_csv('../data/aluguel_residencial3.csv', sep=\";\")"
   ]
  },
  {
   "cell_type": "code",
   "execution_count": null,
   "metadata": {},
   "outputs": [],
   "source": [
    "df.Tipo.unique()"
   ]
  },
  {
   "cell_type": "code",
   "execution_count": null,
   "metadata": {},
   "outputs": [],
   "source": [
    "df.Tipo.value_counts()"
   ]
  },
  {
   "cell_type": "markdown",
   "metadata": {},
   "source": [
    "##### Fazendo Agrupamento"
   ]
  },
  {
   "cell_type": "code",
   "execution_count": null,
   "metadata": {},
   "outputs": [],
   "source": [
    "selecao = df['Bairro'].isin(['Barra da Tijuca', 'Copacabana','Ipanema', 'Leblon', 'Botafogo','Flamengo', 'Tijuca'])\n",
    "df = df[selecao]\n",
    "df['Bairro'].drop_duplicates()"
   ]
  },
  {
   "cell_type": "code",
   "execution_count": null,
   "metadata": {},
   "outputs": [],
   "source": [
    "grupo_bairro = df.groupby('Bairro')\n",
    "type(grupo_bairro)"
   ]
  },
  {
   "cell_type": "markdown",
   "metadata": {},
   "source": [
    "##### Fazendo a média de valores para cada bairro\n"
   ]
  },
  {
   "cell_type": "code",
   "execution_count": null,
   "metadata": {},
   "outputs": [],
   "source": [
    "for bairro, dataframe in grupo_bairro:\n",
    "  print('{} => {}'.format(bairro, dataframe.Valor.mean()))"
   ]
  },
  {
   "cell_type": "code",
   "execution_count": null,
   "metadata": {},
   "outputs": [],
   "source": [
    "grupo_bairro.Valor.mean().round(2)"
   ]
  },
  {
   "cell_type": "code",
   "execution_count": null,
   "metadata": {},
   "outputs": [],
   "source": [
    "grupo_bairro[['Valor', 'Condominio']].mean().round(2).sort_values(by=['Valor'], ascending=False)"
   ]
  },
  {
   "cell_type": "markdown",
   "metadata": {},
   "source": [
    "##### Estatísticas Descritivas"
   ]
  },
  {
   "cell_type": "code",
   "execution_count": null,
   "metadata": {},
   "outputs": [],
   "source": [
    "grupo_bairro['Valor'].describe().round(2)"
   ]
  },
  {
   "cell_type": "code",
   "execution_count": null,
   "metadata": {},
   "outputs": [],
   "source": [
    "grupo_bairro['Valor'].aggregate(['min', 'max', 'sum', 'mean', 'std']).round(2).sort_values(by=['max'], ascending=False)"
   ]
  },
  {
   "cell_type": "code",
   "execution_count": null,
   "metadata": {},
   "outputs": [],
   "source": [
    "grupo_bairro['Valor'].aggregate(['min', 'max', 'sum', 'mean', 'std']).round(2).sort_index()"
   ]
  },
  {
   "cell_type": "code",
   "execution_count": null,
   "metadata": {},
   "outputs": [],
   "source": [
    "grupo_bairro['Valor'].aggregate(['min', 'max',]).rename(columns={'min':'Valor mínimo', 'max':'Valor máximo'}).round(2).sort_values(by=['Valor máximo'], ascending=False)"
   ]
  },
  {
   "cell_type": "code",
   "execution_count": null,
   "metadata": {},
   "outputs": [],
   "source": [
    "import matplotlib.pyplot as plt\n",
    "plt.rc('figure', figsize=(20, 10))\n",
    "fig = grupo_bairro['Valor'].mean().plot.bar(color='green')\n",
    "fig.set_ylabel('Valor do Aluguel')\n",
    "fig.set_title('Valor Médio do Aluguel por Bairro', {'fontsize': 20})"
   ]
  },
  {
   "cell_type": "markdown",
   "metadata": {},
   "source": [
    "##### Fazendo a seleção categorizada por quartos"
   ]
  },
  {
   "cell_type": "code",
   "execution_count": null,
   "metadata": {},
   "outputs": [],
   "source": [
    "df = pd.read_csv('../data/aluguel_residencial3.csv', sep=\";\")"
   ]
  },
  {
   "cell_type": "code",
   "execution_count": null,
   "metadata": {},
   "outputs": [],
   "source": [
    "classes = [0, 2, 4, 6, 100]\n",
    "quartos = pd.cut(df.Quartos, classes)\n",
    "pd.value_counts(quartos)"
   ]
  },
  {
   "cell_type": "code",
   "execution_count": null,
   "metadata": {},
   "outputs": [],
   "source": [
    "labels = ['1 e 2 quartos', '3 e 4 quartos', '5 e 6 quartos', '7 ou mais quartos']\n",
    "quartos = pd.cut(df.Quartos, classes, labels=labels)\n",
    "pd.value_counts(quartos)"
   ]
  },
  {
   "cell_type": "code",
   "execution_count": null,
   "metadata": {},
   "outputs": [],
   "source": [
    "quartos = pd.cut(df.Quartos, classes, labels=labels, include_lowest=True)\n",
    "pd.value_counts(quartos)"
   ]
  },
  {
   "cell_type": "markdown",
   "metadata": {},
   "source": [
    "##### Removendo Outliers"
   ]
  },
  {
   "cell_type": "code",
   "execution_count": null,
   "metadata": {},
   "outputs": [],
   "source": [
    "df.boxplot(['Valor'])"
   ]
  },
  {
   "cell_type": "code",
   "execution_count": null,
   "metadata": {},
   "outputs": [],
   "source": [
    "valor = df['Valor']"
   ]
  },
  {
   "cell_type": "code",
   "execution_count": null,
   "metadata": {},
   "outputs": [],
   "source": [
    "Q1 = valor.quantile(.25)\n",
    "Q3 = valor.quantile(.75)\n",
    "IIQ = Q3 - Q1\n",
    "limite_inferior = Q1 - 1.5 * IIQ\n",
    "limite_superior = Q3 + 1.5 * IIQ"
   ]
  },
  {
   "cell_type": "code",
   "execution_count": null,
   "metadata": {},
   "outputs": [],
   "source": [
    "selecao = (valor >= limite_inferior) & (valor <= limite_superior)\n",
    "dados = df[selecao]\n",
    "dados.boxplot(['Valor'])"
   ]
  },
  {
   "cell_type": "code",
   "execution_count": null,
   "metadata": {},
   "outputs": [],
   "source": [
    "df.hist(['Valor'])\n",
    "dados.hist(['Valor'])"
   ]
  },
  {
   "cell_type": "code",
   "execution_count": null,
   "metadata": {},
   "outputs": [],
   "source": [
    "df.boxplot(['Valor'], by=['Tipo'])"
   ]
  },
  {
   "cell_type": "code",
   "execution_count": null,
   "metadata": {},
   "outputs": [],
   "source": [
    "grupo_tipo = df.groupby('Tipo')['Valor']\n",
    "grupo_tipo"
   ]
  },
  {
   "cell_type": "code",
   "execution_count": null,
   "metadata": {},
   "outputs": [],
   "source": [
    "Q1 = grupo_tipo.quantile(.25)\n",
    "Q3 = grupo_tipo.quantile(.75)\n",
    "IIQ = Q3 - Q1\n",
    "limite_inferior = Q1 - 1.5 * IIQ\n",
    "limite_superior = Q3 + 1.5 * IIQ"
   ]
  },
  {
   "cell_type": "code",
   "execution_count": null,
   "metadata": {},
   "outputs": [],
   "source": [
    "Q1"
   ]
  },
  {
   "cell_type": "code",
   "execution_count": null,
   "metadata": {},
   "outputs": [],
   "source": [
    "dados_new = pd.DataFrame()\n",
    "\n",
    "for tipo in grupo_tipo.groups.keys():\n",
    "  e_tipo = df['Tipo'] == tipo\n",
    "  e_dentro_limite = (df['Valor'] >= limite_inferior[tipo]) & (df['Valor'] <= limite_superior[tipo])\n",
    "  selecao = e_tipo & e_dentro_limite\n",
    "  dados_selecao = df[selecao]\n",
    "  dados_new = pd.concat([dados_new, dados_selecao])\n",
    "\n",
    "dados_new.boxplot(['Valor'], by=['Tipo'])"
   ]
  },
  {
   "cell_type": "code",
   "execution_count": null,
   "metadata": {},
   "outputs": [],
   "source": [
    "# dados_new.to_csv('../data/aluguel_residencial_sem_outliers.csv', sep=';', index=False)"
   ]
  }
 ],
 "metadata": {
  "kernelspec": {
   "display_name": "Python 3.8.0 ('.venv': venv)",
   "language": "python",
   "name": "python3"
  },
  "language_info": {
   "codemirror_mode": {
    "name": "ipython",
    "version": 3
   },
   "file_extension": ".py",
   "mimetype": "text/x-python",
   "name": "python",
   "nbconvert_exporter": "python",
   "pygments_lexer": "ipython3",
   "version": "3.8.0"
  },
  "orig_nbformat": 4,
  "vscode": {
   "interpreter": {
    "hash": "3b8779661acc5eb8b82bd05438eb503d5928cd0381ef3f1d83993a6d75d0493a"
   }
  }
 },
 "nbformat": 4,
 "nbformat_minor": 2
}
